{
 "cells": [
  {
   "cell_type": "code",
<<<<<<< HEAD
   "execution_count": 3,
=======
   "execution_count": 1,
>>>>>>> fff901a8fd031c2bf8cb13aa5d48a7752c76bd64
   "metadata": {},
   "outputs": [
    {
     "data": {
      "text/plain": [
<<<<<<< HEAD
       "<torch_geometric.debug.set_debug at 0x1ba9733eac0>"
      ]
     },
     "execution_count": 3,
=======
       "<torch_geometric.debug.set_debug at 0x2370f558640>"
      ]
     },
     "execution_count": 1,
>>>>>>> fff901a8fd031c2bf8cb13aa5d48a7752c76bd64
     "metadata": {},
     "output_type": "execute_result"
    }
   ],
   "source": [
    "import pandas as pd\n",
    "import torch\n",
    "import numpy as np\n",
    "from tqdm import tqdm\n",
    "from torch_geometric.nn import SAGEConv\n",
    "import torch\n",
    "import torch_geometric\n",
    "import torch.nn.functional as F\n",
    "torch_geometric.set_debug(True)"
   ]
  },
  {
   "cell_type": "markdown",
   "metadata": {},
   "source": [
    "# Helper Function to Construct the Graph"
   ]
  },
  {
   "cell_type": "code",
   "execution_count": 4,
   "metadata": {},
   "outputs": [],
   "source": [
    "def mapping(data: pd.DataFrame):\n",
    "    node_id_mapping, inverse_node_id_mapping = dict(), dict()\n",
    "    for i, node_id in enumerate(data['image_name']):\n",
    "        node_id_mapping[i] = node_id\n",
    "        inverse_node_id_mapping[node_id] = i\n",
    "    return node_id_mapping, inverse_node_id_mapping"
   ]
  },
  {
   "cell_type": "code",
   "execution_count": 5,
   "metadata": {},
   "outputs": [],
   "source": [
    "def construct_nodes(data: pd.DataFrame):\n",
    "    raw_features = data['embedding'].apply(lambda x: (' '.join(x.strip('[').strip(']').strip().split())).split(' '))\n",
    "    return torch.from_numpy(np.array([[float(val) for val in feature_vector] for feature_vector in raw_features])).to(torch.float32)"
   ]
  },
  {
   "cell_type": "code",
   "execution_count": 6,
   "metadata": {},
   "outputs": [],
   "source": [
    "def construct_edges(features: torch.tensor, threshold: float, method):\n",
    "    source, target = [], []\n",
    "    for i in tqdm(range(features.shape[0])):\n",
    "        for j in range(i + 1, features.shape[0]):\n",
    "            if method(features[i], features[j]) > threshold:\n",
    "                source.append(i)\n",
    "                target.append(j)\n",
    "                source.append(j)\n",
    "                target.append(i)\n",
    "    return torch.tensor([source, target])"
   ]
  },
  {
   "cell_type": "code",
   "execution_count": 7,
   "metadata": {},
   "outputs": [],
   "source": [
    "def get_labels(data: pd.DataFrame, subject_mapping):\n",
    "    labels = data['class_name'].apply(lambda x: subject_mapping[x])\n",
    "    return torch.tensor(labels)"
   ]
  },
  {
   "cell_type": "code",
   "execution_count": 8,
   "metadata": {},
   "outputs": [],
   "source": [
    "def cosine_similarity(x: torch.tensor, y: torch.tensor):\n",
    "    cos = torch.nn.CosineSimilarity(dim=-1, eps=1e-6)\n",
    "    return cos(x,y)\n",
    "\n",
    "def city_block(x: torch.tensor, y: torch.tensor):\n",
    "    return torch.cdist(x, y, p=1)\n",
    "\n",
    "def euclidian(x: torch.tensor, y: torch.tensor):\n",
    "    return torch.cdist(x, y, p=2)"
   ]
  },
  {
   "cell_type": "markdown",
   "metadata": {},
   "source": [
    "# Reading the Data and Exploring"
   ]
  },
  {
   "cell_type": "code",
<<<<<<< HEAD
   "execution_count": 289,
=======
   "execution_count": 30,
>>>>>>> fff901a8fd031c2bf8cb13aa5d48a7752c76bd64
   "metadata": {},
   "outputs": [],
   "source": [
    "data = pd.read_csv('imagenet_embeddings.csv')"
   ]
  },
  {
   "cell_type": "code",
<<<<<<< HEAD
   "execution_count": 290,
=======
   "execution_count": 31,
>>>>>>> fff901a8fd031c2bf8cb13aa5d48a7752c76bd64
   "metadata": {},
   "outputs": [
    {
     "data": {
      "text/plain": [
       "{'lion': 0, 'bear': 1, 'tarantula': 2, 'golden retriever': 3}"
      ]
     },
<<<<<<< HEAD
     "execution_count": 290,
=======
     "execution_count": 31,
>>>>>>> fff901a8fd031c2bf8cb13aa5d48a7752c76bd64
     "metadata": {},
     "output_type": "execute_result"
    }
   ],
   "source": [
    "classes = data['class_name'].unique()\n",
    "subject_mapping = dict()\n",
    "reverse_subject_mapping = dict()\n",
    "for i, class_name in enumerate(classes):\n",
    "    subject_mapping[class_name] = i\n",
    "    reverse_subject_mapping[i] = class_name\n",
    "subject_mapping"
   ]
  },
  {
   "cell_type": "code",
   "execution_count": 291,
   "metadata": {},
   "outputs": [],
   "source": [
    "x = construct_nodes(data)\n",
    "y = get_labels(data, subject_mapping)"
   ]
  },
  {
   "cell_type": "code",
   "execution_count": 244,
   "metadata": {},
   "outputs": [],
   "source": [
    "def construct_matrix(matrix, method):\n",
    "    n = matrix.shape[0]\n",
    "    similarity_matrix = np.zeros((n, n))\n",
    "    for i in tqdm(range(n)):\n",
    "        for j in range(n):\n",
    "            similarity_matrix[i][j] = method(matrix[i], matrix[j])\n",
    "    return similarity_matrix"
   ]
  },
  {
   "cell_type": "markdown",
   "metadata": {},
   "source": [
    "# Euclidian"
   ]
  },
  {
   "cell_type": "code",
<<<<<<< HEAD
   "execution_count": 251,
=======
   "execution_count": 132,
   "metadata": {},
   "outputs": [],
   "source": [
    "euclidian = torch.cdist(x, x, p=2)"
   ]
  },
  {
   "cell_type": "markdown",
   "metadata": {},
   "source": [
    "# City Block"
   ]
  },
  {
   "cell_type": "code",
   "execution_count": 280,
   "metadata": {},
   "outputs": [],
   "source": [
    "city_block = torch.cdist(x, x, p=1)"
   ]
  },
  {
   "cell_type": "markdown",
   "metadata": {},
   "source": [
    "# Max Norm"
   ]
  },
  {
   "cell_type": "code",
   "execution_count": 295,
   "metadata": {},
   "outputs": [
    {
     "data": {
      "text/plain": [
       "<function Tensor.size>"
      ]
     },
     "execution_count": 295,
     "metadata": {},
     "output_type": "execute_result"
    }
   ],
   "source": [
    "max_norm = torch.max(torch.abs(x[:, None] - x), dim=2).values"
   ]
  },
  {
   "cell_type": "code",
   "execution_count": 296,
   "metadata": {},
   "outputs": [
    {
     "data": {
      "text/plain": [
       "torch.Size([2000, 2000])"
      ]
     },
     "execution_count": 296,
     "metadata": {},
     "output_type": "execute_result"
    }
   ],
   "source": [
    "\n",
    "max_norm.size()"
   ]
  },
  {
   "cell_type": "markdown",
   "metadata": {},
   "source": [
    "# Cosine"
   ]
  },
  {
   "cell_type": "code",
   "execution_count": 27,
>>>>>>> fff901a8fd031c2bf8cb13aa5d48a7752c76bd64
   "metadata": {},
   "outputs": [],
   "source": [
    "from sklearn.metrics.pairwise import cosine_similarity\n",
    "similarities =  torch.cdist(x, x, p=2)"
   ]
  },
  {
<<<<<<< HEAD
   "cell_type": "code",
   "execution_count": 252,
=======
   "cell_type": "markdown",
>>>>>>> fff901a8fd031c2bf8cb13aa5d48a7752c76bd64
   "metadata": {},
   "source": [
    "# BoxPlot"
   ]
  },
  {
   "cell_type": "code",
<<<<<<< HEAD
   "execution_count": 253,
=======
   "execution_count": 101,
   "metadata": {},
   "outputs": [],
   "source": [
    "def analysis(class_matrix, class_index: int, subject_mapping: dict):\n",
    "    classes_names = list(subject_mapping.keys())\n",
    "    class_dict = dict()\n",
    "    for name in classes_names:\n",
    "        class_dict[name] = []\n",
    "    for i in range(class_matrix.shape[0]):\n",
    "        relevant_index = list(range(class_index * 500, (class_index+1) * 500))\n",
    "        same_class_vectors = class_matrix[i][relevant_index]\n",
    "        class_dict[classes_names[class_index]].append((sum(same_class_vectors) - 1) / (len(same_class_vectors) - 1))\n",
    "        for j in range(1, 4):\n",
    "            relevant_index = list(range((class_index - j) * 500, (class_index - j +1) * 500))\n",
    "            other_class_vectors = [class_matrix[i][k] for k in relevant_index]\n",
    "            class_dict[classes_names[class_index - j]].append(sum(other_class_vectors) / len(other_class_vectors))\n",
    "    \n",
    "    return class_dict"
   ]
  },
  {
   "cell_type": "code",
   "execution_count": 134,
   "metadata": {},
   "outputs": [],
   "source": [
    "def for_plotting(similarities, subject_mapping: dict):\n",
    "    scoring_dict = dict()\n",
    "    averages_dict = dict()\n",
    "    for i, class_name in tqdm(enumerate(subject_mapping)):\n",
    "        main_class_vectors = similarities[i * 500 : (i + 1) * 500]\n",
    "        scoring_dict[class_name] = analysis(main_class_vectors, i, subject_mapping)\n",
    "    for main_class in subject_mapping.keys():\n",
    "        averages_dict[main_class] = dict()\n",
    "        for secondary_class in subject_mapping.keys():\n",
    "            scores_list = scoring_dict[main_class][secondary_class]\n",
    "            averages_dict[main_class][secondary_class] = sum(scores_list) / len(scores_list)\n",
    "    \n",
    "    return scoring_dict, averages_dict"
   ]
  },
  {
   "cell_type": "code",
   "execution_count": 135,
>>>>>>> fff901a8fd031c2bf8cb13aa5d48a7752c76bd64
   "metadata": {},
   "outputs": [
    {
     "name": "stderr",
     "output_type": "stream",
     "text": [
<<<<<<< HEAD
      "100%|██████████| 4/4 [00:31<00:00,  7.99s/it]\n"
=======
      "4it [00:21,  5.46s/it]\n"
>>>>>>> fff901a8fd031c2bf8cb13aa5d48a7752c76bd64
     ]
    }
   ],
   "source": [
    "scoring_dict, averages_dict = for_plotting(euclidian, subject_mapping)"
   ]
  },
  {
   "cell_type": "code",
<<<<<<< HEAD
   "execution_count": 254,
   "metadata": {},
   "outputs": [
    {
     "name": "stdout",
     "output_type": "stream",
     "text": [
      "lion 0.7963455 [0.7998037, 0.7788479, 0.8427239]\n",
      "bear 0.80841726 [0.7596558, 0.7998037, 0.82955945]\n",
      "tarantula 0.83079946 [0.7596558, 0.7998037, 0.82955945]\n",
      "golden retriever 0.80665183 [0.7596558, 0.7998037, 0.82955945]\n"
     ]
    }
   ],
   "source": [
    "# np.array(test[0][2]).mean()\n",
    "for class_num, scores in enumerate(test):\n",
    "    other_classes = []\n",
    "    for i in range(3):\n",
    "        other_classes.append(np.array(scores[i]).mean())\n",
    "    print(reverse_subject_mapping[class_num], np.array(scores[3]).mean(), other_classes)"
   ]
  },
  {
   "cell_type": "code",
   "execution_count": 259,
=======
   "execution_count": 136,
>>>>>>> fff901a8fd031c2bf8cb13aa5d48a7752c76bd64
   "metadata": {},
   "outputs": [
    {
     "data": {
<<<<<<< HEAD
      "image/png": "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",
=======
      "text/plain": [
       "({'lion': tensor(0.7592),\n",
       "  'bear': tensor(0.7998),\n",
       "  'tarantula': tensor(0.8296),\n",
       "  'golden retriever': tensor(0.7984)},\n",
       " {'lion': tensor(0.7998),\n",
       "  'bear': tensor(0.7784),\n",
       "  'tarantula': tensor(0.8427),\n",
       "  'golden retriever': tensor(0.8143)},\n",
       " {'lion': tensor(0.8296),\n",
       "  'bear': tensor(0.8427),\n",
       "  'tarantula': tensor(0.7888),\n",
       "  'golden retriever': tensor(0.8637)},\n",
       " {'lion': tensor(0.7984),\n",
       "  'bear': tensor(0.8143),\n",
       "  'tarantula': tensor(0.8637),\n",
       "  'golden retriever': tensor(0.7517)})"
      ]
     },
     "execution_count": 136,
     "metadata": {},
     "output_type": "execute_result"
    }
   ],
   "source": [
    "averages_dict['lion'], averages_dict['bear'], averages_dict['tarantula'], averages_dict['golden retriever']"
   ]
  },
  {
   "cell_type": "code",
   "execution_count": 257,
   "metadata": {},
   "outputs": [
    {
     "name": "stderr",
     "output_type": "stream",
     "text": [
      "100%|██████████| 4/4 [00:00<00:00,  5.52it/s]\n"
     ]
    },
    {
     "data": {
      "image/png": "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",
>>>>>>> fff901a8fd031c2bf8cb13aa5d48a7752c76bd64
      "text/plain": [
       "<Figure size 640x480 with 1 Axes>"
      ]
     },
     "metadata": {},
     "output_type": "display_data"
    }
   ],
   "source": [
    "import matplotlib.pyplot as plt\n",
    "\n",
<<<<<<< HEAD
    "plt.boxplot(test[0], positions=range(len(test[1])))\n",
=======
    "cosine_test = for_box_plots(similarities)\n",
    "plt.boxplot(cosine_test[0], positions=range(len(cosine_test[0])))\n",
>>>>>>> fff901a8fd031c2bf8cb13aa5d48a7752c76bd64
    "plt.show()"
   ]
  },
  {
   "cell_type": "code",
<<<<<<< HEAD
   "execution_count": 292,
   "metadata": {},
   "outputs": [
    {
     "ename": "TypeError",
     "evalue": "'function' object is not subscriptable",
     "output_type": "error",
     "traceback": [
      "\u001b[1;31m---------------------------------------------------------------------------\u001b[0m",
      "\u001b[1;31mTypeError\u001b[0m                                 Traceback (most recent call last)",
      "Cell \u001b[1;32mIn[292], line 1\u001b[0m\n\u001b[1;32m----> 1\u001b[0m np\u001b[38;5;241m.\u001b[39mpercentile(\u001b[43mtest\u001b[49m\u001b[43m[\u001b[49m\u001b[38;5;241;43m3\u001b[39;49m\u001b[43m]\u001b[49m[\u001b[38;5;241m3\u001b[39m], [\u001b[38;5;241m10\u001b[39m, \u001b[38;5;241m50\u001b[39m, \u001b[38;5;241m90\u001b[39m])\n",
      "\u001b[1;31mTypeError\u001b[0m: 'function' object is not subscriptable"
     ]
    }
   ],
   "source": [
    "np.percentile(test[3][3], [10, 50, 90])"
   ]
  },
  {
   "cell_type": "code",
   "execution_count": 293,
=======
   "execution_count": 282,
>>>>>>> fff901a8fd031c2bf8cb13aa5d48a7752c76bd64
   "metadata": {},
   "outputs": [
    {
     "name": "stderr",
     "output_type": "stream",
     "text": [
<<<<<<< HEAD
      "100%|██████████| 2000/2000 [00:59<00:00, 33.85it/s]\n"
=======
      "100%|██████████| 4/4 [00:30<00:00,  7.70s/it]\n"
>>>>>>> fff901a8fd031c2bf8cb13aa5d48a7752c76bd64
     ]
    },
    {
     "data": {
      "image/png": "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",
      "text/plain": [
       "<Figure size 432x288 with 1 Axes>"
      ]
     },
     "metadata": {
      "needs_background": "light"
     },
     "output_type": "display_data"
    }
   ],
   "source": [
<<<<<<< HEAD
    "source, target = [], []\n",
    "for i in tqdm(range(similarities.shape[0])):\n",
    "    for j in range(similarities.shape[1]):\n",
    "        if 0.83 < similarities[i][j] and i != j:\n",
    "            source.append(i)\n",
    "            target.append(j)\n",
    "edges = torch.tensor([source, target])"
=======
    "euclidian_test = for_box_plots(euclidian)\n",
    "plt.boxplot(euclidian_test[0], positions=range(len(euclidian_test[0])))\n",
    "plt.show()"
>>>>>>> fff901a8fd031c2bf8cb13aa5d48a7752c76bd64
   ]
  },
  {
   "cell_type": "code",
<<<<<<< HEAD
   "execution_count": 294,
=======
   "execution_count": 309,
   "metadata": {},
   "outputs": [
    {
     "data": {
      "text/plain": [
       "array([0.75297491, 0.78933421, 0.84796432])"
      ]
     },
     "execution_count": 309,
     "metadata": {},
     "output_type": "execute_result"
    }
   ],
   "source": [
    "np.percentile(euclidian_test[0][3], [10, 50, 90])"
   ]
  },
  {
   "cell_type": "code",
   "execution_count": 283,
   "metadata": {},
   "outputs": [
    {
     "name": "stderr",
     "output_type": "stream",
     "text": [
      "100%|██████████| 4/4 [00:27<00:00,  6.78s/it]\n"
     ]
    },
    {
     "data": {
      "image/png": "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",
      "text/plain": [
       "<Figure size 432x288 with 1 Axes>"
      ]
     },
     "metadata": {
      "needs_background": "light"
     },
     "output_type": "display_data"
    }
   ],
   "source": [
    "city_block_test = for_box_plots(city_block)\n",
    "plt.boxplot(city_block_test[0], positions=range(len(city_block_test[0])))\n",
    "plt.show()"
   ]
  },
  {
   "cell_type": "code",
   "execution_count": 284,
   "metadata": {},
   "outputs": [
    {
     "data": {
      "text/plain": [
       "array([12.38777609, 12.85571051, 13.79123812])"
      ]
     },
     "execution_count": 284,
     "metadata": {},
     "output_type": "execute_result"
    }
   ],
   "source": [
    "np.percentile(city_block_test[0][3], [10, 50, 90])"
   ]
  },
  {
   "cell_type": "code",
   "execution_count": 297,
   "metadata": {},
   "outputs": [
    {
     "name": "stderr",
     "output_type": "stream",
     "text": [
      "100%|██████████| 4/4 [00:28<00:00,  7.24s/it]\n"
     ]
    },
    {
     "data": {
      "image/png": "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",
      "text/plain": [
       "<Figure size 432x288 with 1 Axes>"
      ]
     },
     "metadata": {
      "needs_background": "light"
     },
     "output_type": "display_data"
    }
   ],
   "source": [
    "max_norm_test = for_box_plots(max_norm)\n",
    "plt.boxplot(max_norm_test[0], positions=range(len(max_norm_test[0])))\n",
    "plt.show()"
   ]
  },
  {
   "cell_type": "code",
   "execution_count": 298,
   "metadata": {},
   "outputs": [
    {
     "data": {
      "text/plain": [
       "array([0.15432354, 0.16856233, 0.20794925])"
      ]
     },
     "execution_count": 298,
     "metadata": {},
     "output_type": "execute_result"
    }
   ],
   "source": [
    "np.percentile(max_norm_test[0][3], [10, 50, 90])"
   ]
  },
  {
   "cell_type": "code",
   "execution_count": 260,
   "metadata": {},
   "outputs": [],
   "source": [
    "def construct_edges(similarities, lower_threshold, upper_threshold):\n",
    "    source, target = [], []\n",
    "    for i in tqdm(range(similarities.shape[0])):\n",
    "        for j in range(similarities.shape[1]):\n",
    "            if lower_threshold < similarities[i][j] < upper_threshold and i != j:\n",
    "                source.append(i)\n",
    "                target.append(j)\n",
    "    return torch.tensor([source, target])"
   ]
  },
  {
   "cell_type": "code",
   "execution_count": 299,
   "metadata": {},
   "outputs": [
    {
     "name": "stderr",
     "output_type": "stream",
     "text": [
      "100%|██████████| 2000/2000 [01:02<00:00, 32.05it/s]\n"
     ]
    }
   ],
   "source": [
    "edges = construct_edges(max_norm, 0.15, 0.2)"
   ]
  },
  {
   "cell_type": "markdown",
   "metadata": {},
   "source": [
    "# Running GNN"
   ]
  },
  {
   "cell_type": "code",
   "execution_count": 156,
   "metadata": {},
   "outputs": [
    {
     "name": "stdout",
     "output_type": "stream",
     "text": [
      "Constructing Nodes...\n",
      "Done.\n",
      "Retrieving Labels...\n",
      "Done.\n",
      "Constructing edges based on: euclidian\n"
     ]
    },
    {
     "name": "stderr",
     "output_type": "stream",
     "text": [
      "100%|██████████| 2000/2000 [01:12<00:00, 27.76it/s]\n"
     ]
    },
    {
     "name": "stdout",
     "output_type": "stream",
     "text": [
      "Done, Graph is done constructing.\n"
     ]
    }
   ],
   "source": [
    "from generate_graph import construct_graph\n",
    "\n",
    "x, y, edges = construct_graph(pd.read_csv('imagenet_embeddings.csv'), ['euclidian', 0, 0.75])"
   ]
  },
  {
   "cell_type": "code",
   "execution_count": 157,
>>>>>>> fff901a8fd031c2bf8cb13aa5d48a7752c76bd64
   "metadata": {},
   "outputs": [],
   "source": [
    "train_indeces = list(range(0,400)) + list(range(500,900)) + list(range(1000,1400)) + list(range(1500,1900))\n",
    "valid_indeces = list(range(400,450)) + list(range(900,950)) + list(range(1400,1450)) + list(range(1900,1950))\n",
    "test_indeces = list(range(450,500)) + list(range(950,1000)) + list(range(1450,1500)) + list(range(1950,2000))"
   ]
  },
  {
   "cell_type": "code",
<<<<<<< HEAD
   "execution_count": 295,
=======
   "execution_count": 158,
>>>>>>> fff901a8fd031c2bf8cb13aa5d48a7752c76bd64
   "metadata": {},
   "outputs": [],
   "source": [
    "train_mask = torch.tensor([1 if i in train_indeces else 0 for i in range(x.shape[0])], dtype=torch.bool)\n",
    "valid_mask = torch.tensor([1 if i in valid_indeces else 0 for i in range(x.shape[0])], dtype=torch.bool)\n",
    "test_mask = torch.tensor([1 if i in test_indeces else 0 for i in range(x.shape[0])], dtype=torch.bool)"
   ]
  },
  {
   "cell_type": "code",
<<<<<<< HEAD
   "execution_count": 296,
=======
   "execution_count": 159,
>>>>>>> fff901a8fd031c2bf8cb13aa5d48a7752c76bd64
   "metadata": {},
   "outputs": [],
   "source": [
    "from torch_geometric.data import Data\n",
    "\n",
    "data = Data(x=x, y=y, edge_index=edges, train_mask=train_mask, valid_mask=valid_mask, test_mask=test_mask)"
   ]
  },
  {
   "cell_type": "code",
<<<<<<< HEAD
   "execution_count": 297,
=======
   "execution_count": 160,
>>>>>>> fff901a8fd031c2bf8cb13aa5d48a7752c76bd64
   "metadata": {},
   "outputs": [],
   "source": [
    "class GraphSAGE(torch.nn.Module):\n",
    "    def __init__(self, hidden_channels, output_dim, seed=1):\n",
    "        super().__init__()\n",
    "        torch.cuda.manual_seed(seed)\n",
    "        self.conv1 = SAGEConv((-1, -1), hidden_channels, normalize=True)\n",
    "        self.conv2 = SAGEConv((-1, -1), hidden_channels//2, normalize=True)\n",
    "        self.conv3 = SAGEConv((-1, -1), hidden_channels//4, normalize=True)\n",
    "        self.conv4 = SAGEConv((-1, -1), output_dim, normalize=True)\n",
    "\n",
    "    def forward(self, x, edge_index):\n",
    "        # TODO: Complete this function\n",
    "        x = self.conv1(x, edge_index)\n",
    "        x = self.conv2(x, edge_index)\n",
    "        # x = self.conv3(x, edge_index)\n",
    "        x = self.conv4(x, edge_index)\n",
    "        return F.log_softmax(x, dim=1)"
   ]
  },
  {
   "cell_type": "code",
<<<<<<< HEAD
   "execution_count": 41,
=======
   "execution_count": 161,
>>>>>>> fff901a8fd031c2bf8cb13aa5d48a7752c76bd64
   "metadata": {},
   "outputs": [],
   "source": [
    "class GraphSAGE(torch.nn.Module):\n",
    "    def __init__(self, hidden_channels, output_dim, seed=1):\n",
    "        super().__init__()\n",
    "        torch.cuda.manual_seed(seed)\n",
    "        self.conv1 = SAGEConv((-1, -1), hidden_channels//2, aggr=\"mean\", normalize=True)\n",
    "        self.conv2 = SAGEConv((-1, -1), hidden_channels//4, aggr=\"mean\", normalize=True)\n",
    "        self.conv3 = SAGEConv((-1, -1), output_dim, aggr=\"mean\", normalize=True)\n",
    "\n",
    "    def forward(self, x, edge_index):\n",
    "        # TODO: Complete this function\n",
    "        x = F.relu(self.conv1(x, edge_index))\n",
    "        x = F.relu(self.conv2(x, edge_index))\n",
    "        x = self.conv3(x, edge_index)\n",
    "        return F.log_softmax(x, dim=1)"
   ]
  },
  {
   "cell_type": "code",
<<<<<<< HEAD
   "execution_count": 298,
=======
   "execution_count": 162,
>>>>>>> fff901a8fd031c2bf8cb13aa5d48a7752c76bd64
   "metadata": {},
   "outputs": [],
   "source": [
    "output_dim = len(set(data.y.tolist()))\n",
    "device = torch.device('cuda' if torch.cuda.is_available() else 'cpu')\n",
    "model = GraphSAGE(x.shape[1], output_dim).to(device)\n",
    "data = data.to(device)\n",
<<<<<<< HEAD
    "optimizer = torch.optim.Adam(model.parameters(), lr=0.0001, weight_decay=5e-4)\n"
=======
    "optimizer = torch.optim.Adam(model.parameters(), lr=0.001, weight_decay=5e-4)"
>>>>>>> fff901a8fd031c2bf8cb13aa5d48a7752c76bd64
   ]
  },
  {
   "cell_type": "code",
<<<<<<< HEAD
   "execution_count": 299,
=======
   "execution_count": 163,
>>>>>>> fff901a8fd031c2bf8cb13aa5d48a7752c76bd64
   "metadata": {},
   "outputs": [],
   "source": [
    "def train():\n",
    "    model.train()\n",
    "    optimizer.zero_grad()\n",
    "    F.nll_loss(model(data.x, data.edge_index)[train_mask], data.y[train_mask]).backward()\n",
    "    optimizer.step()"
   ]
  },
  {
   "cell_type": "code",
<<<<<<< HEAD
   "execution_count": 300,
=======
   "execution_count": 164,
>>>>>>> fff901a8fd031c2bf8cb13aa5d48a7752c76bd64
   "metadata": {},
   "outputs": [],
   "source": [
    "def test():\n",
    "    model.eval()\n",
    "    logits = model(data.x, data.edge_index)\n",
    "    accs = []\n",
    "    for mask in [train_mask, valid_mask, test_mask]:\n",
    "        pred = logits[mask].max(1)[1]\n",
    "        acc = pred.eq(data.y[mask]).sum().item() / mask.sum().item()\n",
    "        accs.append(acc)\n",
    "    return accs"
   ]
  },
  {
   "cell_type": "code",
<<<<<<< HEAD
   "execution_count": 301,
=======
   "execution_count": 165,
>>>>>>> fff901a8fd031c2bf8cb13aa5d48a7752c76bd64
   "metadata": {},
   "outputs": [
    {
     "name": "stderr",
     "output_type": "stream",
     "text": [
<<<<<<< HEAD
      " 10%|█         | 10/100 [01:11<10:53,  7.26s/it]"
=======
      "  5%|▌         | 1/19 [00:06<02:01,  6.74s/it]"
>>>>>>> fff901a8fd031c2bf8cb13aa5d48a7752c76bd64
     ]
    },
    {
     "name": "stdout",
     "output_type": "stream",
     "text": [
<<<<<<< HEAD
      "Epoch: 010, Val: 0.5500, Test: 0.5100\n"
=======
      "Epoch: 001, Val: 0.2400, Test: 0.2450\n"
>>>>>>> fff901a8fd031c2bf8cb13aa5d48a7752c76bd64
     ]
    },
    {
     "name": "stderr",
     "output_type": "stream",
     "text": [
<<<<<<< HEAD
      " 20%|██        | 20/100 [02:24<09:36,  7.20s/it]"
=======
      " 11%|█         | 2/19 [00:11<01:31,  5.41s/it]"
>>>>>>> fff901a8fd031c2bf8cb13aa5d48a7752c76bd64
     ]
    },
    {
     "name": "stdout",
     "output_type": "stream",
     "text": [
<<<<<<< HEAD
      "Epoch: 020, Val: 0.7550, Test: 0.7000\n"
=======
      "Epoch: 002, Val: 0.6050, Test: 0.5400\n"
>>>>>>> fff901a8fd031c2bf8cb13aa5d48a7752c76bd64
     ]
    },
    {
     "name": "stderr",
     "output_type": "stream",
     "text": [
<<<<<<< HEAD
      " 30%|███       | 30/100 [03:36<08:27,  7.25s/it]"
=======
      " 16%|█▌        | 3/19 [00:15<01:17,  4.85s/it]"
>>>>>>> fff901a8fd031c2bf8cb13aa5d48a7752c76bd64
     ]
    },
    {
     "name": "stdout",
     "output_type": "stream",
     "text": [
<<<<<<< HEAD
      "Epoch: 030, Val: 0.8050, Test: 0.7400\n"
=======
      "Epoch: 003, Val: 0.6050, Test: 0.5400\n"
>>>>>>> fff901a8fd031c2bf8cb13aa5d48a7752c76bd64
     ]
    },
    {
     "name": "stderr",
     "output_type": "stream",
     "text": [
<<<<<<< HEAD
      " 40%|████      | 40/100 [04:49<07:12,  7.20s/it]"
=======
      " 21%|██        | 4/19 [00:19<01:08,  4.59s/it]"
>>>>>>> fff901a8fd031c2bf8cb13aa5d48a7752c76bd64
     ]
    },
    {
     "name": "stdout",
     "output_type": "stream",
     "text": [
<<<<<<< HEAD
      "Epoch: 040, Val: 0.8550, Test: 0.8200\n"
=======
      "Epoch: 004, Val: 0.6050, Test: 0.5400\n"
>>>>>>> fff901a8fd031c2bf8cb13aa5d48a7752c76bd64
     ]
    },
    {
     "name": "stderr",
     "output_type": "stream",
     "text": [
<<<<<<< HEAD
      " 50%|█████     | 50/100 [06:01<05:58,  7.16s/it]"
=======
      " 26%|██▋       | 5/19 [00:23<01:02,  4.48s/it]"
>>>>>>> fff901a8fd031c2bf8cb13aa5d48a7752c76bd64
     ]
    },
    {
     "name": "stdout",
     "output_type": "stream",
     "text": [
<<<<<<< HEAD
      "Epoch: 050, Val: 0.8850, Test: 0.8500\n"
=======
      "Epoch: 005, Val: 0.6050, Test: 0.5400\n"
>>>>>>> fff901a8fd031c2bf8cb13aa5d48a7752c76bd64
     ]
    },
    {
     "name": "stderr",
     "output_type": "stream",
     "text": [
<<<<<<< HEAD
      " 60%|██████    | 60/100 [07:13<04:48,  7.21s/it]"
=======
      " 32%|███▏      | 6/19 [00:28<00:56,  4.37s/it]"
>>>>>>> fff901a8fd031c2bf8cb13aa5d48a7752c76bd64
     ]
    },
    {
     "name": "stdout",
     "output_type": "stream",
     "text": [
<<<<<<< HEAD
      "Epoch: 060, Val: 0.8850, Test: 0.8500\n"
=======
      "Epoch: 006, Val: 0.6300, Test: 0.6000\n"
>>>>>>> fff901a8fd031c2bf8cb13aa5d48a7752c76bd64
     ]
    },
    {
     "name": "stderr",
     "output_type": "stream",
     "text": [
<<<<<<< HEAD
      " 70%|███████   | 70/100 [08:25<03:35,  7.19s/it]"
=======
      " 37%|███▋      | 7/19 [00:32<00:54,  4.51s/it]"
>>>>>>> fff901a8fd031c2bf8cb13aa5d48a7752c76bd64
     ]
    },
    {
     "name": "stdout",
     "output_type": "stream",
     "text": [
<<<<<<< HEAD
      "Epoch: 070, Val: 0.9000, Test: 0.8800\n"
=======
      "Epoch: 007, Val: 0.6300, Test: 0.6000\n"
>>>>>>> fff901a8fd031c2bf8cb13aa5d48a7752c76bd64
     ]
    },
    {
     "name": "stderr",
     "output_type": "stream",
     "text": [
<<<<<<< HEAD
      " 80%|████████  | 80/100 [09:38<02:30,  7.50s/it]"
=======
      " 42%|████▏     | 8/19 [00:38<00:53,  4.85s/it]"
>>>>>>> fff901a8fd031c2bf8cb13aa5d48a7752c76bd64
     ]
    },
    {
     "name": "stdout",
     "output_type": "stream",
     "text": [
<<<<<<< HEAD
      "Epoch: 080, Val: 0.9000, Test: 0.8800\n"
=======
      "Epoch: 008, Val: 0.6300, Test: 0.6000\n"
>>>>>>> fff901a8fd031c2bf8cb13aa5d48a7752c76bd64
     ]
    },
    {
     "name": "stderr",
     "output_type": "stream",
     "text": [
<<<<<<< HEAD
      " 90%|█████████ | 90/100 [10:51<01:12,  7.24s/it]"
=======
      " 47%|████▋     | 9/19 [00:43<00:48,  4.86s/it]"
>>>>>>> fff901a8fd031c2bf8cb13aa5d48a7752c76bd64
     ]
    },
    {
     "name": "stdout",
     "output_type": "stream",
     "text": [
<<<<<<< HEAD
      "Epoch: 090, Val: 0.9000, Test: 0.8800\n"
=======
      "Epoch: 009, Val: 0.6300, Test: 0.6000\n"
>>>>>>> fff901a8fd031c2bf8cb13aa5d48a7752c76bd64
     ]
    },
    {
     "name": "stderr",
     "output_type": "stream",
     "text": [
<<<<<<< HEAD
      "100%|██████████| 100/100 [12:04<00:00,  7.25s/it]"
=======
      " 53%|█████▎    | 10/19 [00:48<00:43,  4.84s/it]"
>>>>>>> fff901a8fd031c2bf8cb13aa5d48a7752c76bd64
     ]
    },
    {
     "name": "stdout",
     "output_type": "stream",
     "text": [
<<<<<<< HEAD
      "Epoch: 100, Val: 0.9000, Test: 0.8800\n"
=======
      "Epoch: 010, Val: 0.6650, Test: 0.6500\n"
>>>>>>> fff901a8fd031c2bf8cb13aa5d48a7752c76bd64
     ]
    },
    {
     "name": "stderr",
     "output_type": "stream",
     "text": [
<<<<<<< HEAD
=======
      " 58%|█████▊    | 11/19 [00:53<00:38,  4.87s/it]"
     ]
    },
    {
     "name": "stdout",
     "output_type": "stream",
     "text": [
      "Epoch: 011, Val: 0.6650, Test: 0.6500\n"
     ]
    },
    {
     "name": "stderr",
     "output_type": "stream",
     "text": [
      " 63%|██████▎   | 12/19 [00:58<00:34,  4.91s/it]"
     ]
    },
    {
     "name": "stdout",
     "output_type": "stream",
     "text": [
      "Epoch: 012, Val: 0.6650, Test: 0.6500\n"
     ]
    },
    {
     "name": "stderr",
     "output_type": "stream",
     "text": [
      " 68%|██████▊   | 13/19 [01:03<00:30,  5.00s/it]"
     ]
    },
    {
     "name": "stdout",
     "output_type": "stream",
     "text": [
      "Epoch: 013, Val: 0.7250, Test: 0.7050\n"
     ]
    },
    {
     "name": "stderr",
     "output_type": "stream",
     "text": [
      " 74%|███████▎  | 14/19 [01:08<00:25,  5.18s/it]"
     ]
    },
    {
     "name": "stdout",
     "output_type": "stream",
     "text": [
      "Epoch: 014, Val: 0.7250, Test: 0.7050\n"
     ]
    },
    {
     "name": "stderr",
     "output_type": "stream",
     "text": [
      " 79%|███████▉  | 15/19 [01:14<00:21,  5.34s/it]"
     ]
    },
    {
     "name": "stdout",
     "output_type": "stream",
     "text": [
      "Epoch: 015, Val: 0.7250, Test: 0.7050\n"
     ]
    },
    {
     "name": "stderr",
     "output_type": "stream",
     "text": [
      " 84%|████████▍ | 16/19 [01:19<00:15,  5.22s/it]"
     ]
    },
    {
     "name": "stdout",
     "output_type": "stream",
     "text": [
      "Epoch: 016, Val: 0.7550, Test: 0.7200\n"
     ]
    },
    {
     "name": "stderr",
     "output_type": "stream",
     "text": [
      " 89%|████████▉ | 17/19 [01:24<00:10,  5.16s/it]"
     ]
    },
    {
     "name": "stdout",
     "output_type": "stream",
     "text": [
      "Epoch: 017, Val: 0.7550, Test: 0.7200\n"
     ]
    },
    {
     "name": "stderr",
     "output_type": "stream",
     "text": [
      " 95%|█████████▍| 18/19 [01:29<00:05,  5.10s/it]"
     ]
    },
    {
     "name": "stdout",
     "output_type": "stream",
     "text": [
      "Epoch: 018, Val: 0.7550, Test: 0.7200\n"
     ]
    },
    {
     "name": "stderr",
     "output_type": "stream",
     "text": [
      "100%|██████████| 19/19 [01:34<00:00,  4.97s/it]"
     ]
    },
    {
     "name": "stdout",
     "output_type": "stream",
     "text": [
      "Epoch: 019, Val: 0.8350, Test: 0.7650\n"
     ]
    },
    {
     "name": "stderr",
     "output_type": "stream",
     "text": [
>>>>>>> fff901a8fd031c2bf8cb13aa5d48a7752c76bd64
      "\n"
     ]
    }
   ],
   "source": [
    "best_val_acc = test_acc = 0\n",
    "for epoch in tqdm(range(1,101)):\n",
    "    train()\n",
    "    _, val_acc, tmp_test_acc = test()\n",
    "    if val_acc > best_val_acc:\n",
    "        best_val_acc = val_acc\n",
    "        test_acc = tmp_test_acc\n",
    "    log = 'Epoch: {:03d}, Val: {:.4f}, Test: {:.4f}'\n",
    "    \n",
    "    if epoch % 10 == 0:\n",
    "        print(log.format(epoch, best_val_acc, test_acc))"
   ]
  },
  {
<<<<<<< HEAD
   "cell_type": "code",
   "execution_count": null,
   "metadata": {},
   "outputs": [],
   "source": []
  },
  {
   "cell_type": "code",
   "execution_count": null,
   "metadata": {},
   "outputs": [],
   "source": []
=======
   "cell_type": "markdown",
   "metadata": {},
   "source": [
    "# Exploration"
   ]
  },
  {
   "cell_type": "code",
   "execution_count": 1,
   "metadata": {},
   "outputs": [
    {
     "data": {
      "text/plain": [
       "<torch_geometric.debug.set_debug at 0x15d345c3430>"
      ]
     },
     "execution_count": 1,
     "metadata": {},
     "output_type": "execute_result"
    }
   ],
   "source": [
    "import pandas as pd\n",
    "from generate_graph import *\n",
    "from scores_analysis import *\n",
    "import torch\n",
    "import torch_geometric\n",
    "from torch_geometric.data import Data\n",
    "from torch_geometric.nn import SAGEConv\n",
    "import torch.nn.functional as F\n",
    "torch_geometric.set_debug(True)"
   ]
  },
  {
   "cell_type": "code",
   "execution_count": 2,
   "metadata": {},
   "outputs": [
    {
     "data": {
      "text/plain": [
       "(torch.Size([2000, 512]),\n",
       " {'lion': 0, 'bear': 1, 'tarantula': 2, 'golden retriever': 3})"
      ]
     },
     "execution_count": 2,
     "metadata": {},
     "output_type": "execute_result"
    }
   ],
   "source": [
    "data_df = pd.read_csv('imagenet_embeddings.csv')\n",
    "x = construct_nodes(data_df)\n",
    "subject_mapping = get_subject_mapping(data_df)\n",
    "x.size(), subject_mapping"
   ]
  },
  {
   "cell_type": "markdown",
   "metadata": {},
   "source": [
    "# Cosine Show Case"
   ]
  },
  {
   "cell_type": "code",
   "execution_count": 6,
   "metadata": {},
   "outputs": [
    {
     "name": "stderr",
     "output_type": "stream",
     "text": [
      "4it [00:00,  4.43it/s]\n"
     ]
    }
   ],
   "source": [
    "from scores_analysis import *\n",
    "from generate_graph import *\n",
    "\n",
    "cosine_sim = get_similarities(x, 'cosine')\n",
    "cosine_scores, cosine_average_scores = scores_dicts(cosine_sim, subject_mapping)"
   ]
  },
  {
   "cell_type": "code",
   "execution_count": 4,
   "metadata": {},
   "outputs": [
    {
     "data": {
      "image/png": "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",
      "text/plain": [
       "<Figure size 1080x1080 with 4 Axes>"
      ]
     },
     "metadata": {
      "needs_background": "light"
     },
     "output_type": "display_data"
    }
   ],
   "source": [
    "plotting_boxplot(cosine_scores)"
   ]
  },
  {
   "cell_type": "code",
   "execution_count": 7,
   "metadata": {},
   "outputs": [
    {
     "data": {
      "text/plain": [
       "{'lion': {'lion': 0.7066754015927805,\n",
       "  'bear': 0.6772592098288537,\n",
       "  'tarantula': 0.6531893964068896,\n",
       "  'golden retriever': 0.6784711144078972},\n",
       " 'bear': {'lion': 0.677259209828854,\n",
       "  'bear': 0.6922701731380336,\n",
       "  'tarantula': 0.6419786516345736,\n",
       "  'golden retriever': 0.6653905189602377},\n",
       " 'tarantula': {'lion': 0.6531893964068901,\n",
       "  'bear': 0.6419786516345735,\n",
       "  'tarantula': 0.684872404824756,\n",
       "  'golden retriever': 0.624009262488485},\n",
       " 'golden retriever': {'lion': 0.6784711144078971,\n",
       "  'bear': 0.6653905189602378,\n",
       "  'tarantula': 0.624009262488484,\n",
       "  'golden retriever': 0.7123907255428823}}"
      ]
     },
     "execution_count": 7,
     "metadata": {},
     "output_type": "execute_result"
    }
   ],
   "source": [
    "cosine_average_scores"
   ]
  },
  {
   "cell_type": "code",
   "execution_count": 70,
   "metadata": {},
   "outputs": [
    {
     "name": "stdout",
     "output_type": "stream",
     "text": [
      "Constructing Nodes...\n",
      "Done.\n",
      "Retrieving Labels...\n",
      "Done.\n",
      "Constructing edges based on: cosine\n"
     ]
    },
    {
     "name": "stderr",
     "output_type": "stream",
     "text": [
      "100%|██████████| 2000/2000 [00:06<00:00, 290.41it/s]"
     ]
    },
    {
     "name": "stdout",
     "output_type": "stream",
     "text": [
      "Done, Graph is done constructing.\n"
     ]
    },
    {
     "name": "stderr",
     "output_type": "stream",
     "text": [
      "\n"
     ]
    }
   ],
   "source": [
    "x, y, edges = construct_graph(data_df, ['cosine', 0.79, 1])"
   ]
  },
  {
   "cell_type": "markdown",
   "metadata": {},
   "source": [
    "# Chord Show Case"
   ]
  },
  {
   "cell_type": "code",
   "execution_count": 3,
   "metadata": {},
   "outputs": [
    {
     "name": "stderr",
     "output_type": "stream",
     "text": [
      "4it [00:24,  6.14s/it]\n"
     ]
    }
   ],
   "source": [
    "chord_sim = get_similarities(x, 'chord')\n",
    "chord_scores, chord_average_scores = scores_dicts(chord_sim, subject_mapping)"
   ]
  },
  {
   "cell_type": "code",
   "execution_count": 4,
   "metadata": {},
   "outputs": [
    {
     "data": {
      "image/png": "iVBORw0KGgoAAAANSUhEUgAAA3AAAANeCAYAAABTTOyRAAAAOXRFWHRTb2Z0d2FyZQBNYXRwbG90bGliIHZlcnNpb24zLjUuMiwgaHR0cHM6Ly9tYXRwbG90bGliLm9yZy8qNh9FAAAACXBIWXMAAAsTAAALEwEAmpwYAACRWklEQVR4nOzde3xc9X3n//dHsi6xfMEODgQLX0JgM7JSoFWhDWqDkg1g2AaaTQNj0kCsxfEvscIWsjZkuuHSjkFuSUvlNC6OBKHBgoTssm6ANWysJFVDUkQhVEihcQBj2QlxMHZsEV0sf35/zJEyI2RZlkdzdGZez8djHprzPefMfOZ4PN/zOed7MXcXAAAAAGD6Kwo7AAAAAADAxJDAAQAAAEBEkMABAAAAQESQwAEAAABARJDAAQAAAEBEkMABAAAAQESQwAFTzMxeMbP/bGafN7OvhB0PAABhGq4Xw44DiKoZYQcAFAp3Xx92DAAAAIg27sABAAAgr5gZNymQt0jggBwxs1vN7Gtpyx82sxfMbL+ZfcfMYmnrXjGzz5nZ82Z2wMweMrPycCIHACDrftfMuszsDTO7d7iOM7P/YmbPBXXj983st4Z3MLObzOynZnYw2PeP09Zda2b/YmZ/Y2avS7o19x8JyA0SOCAEZnaWpFZJ/13SAkmPSfonMytN2+xjki6RtFTSb0m6NrdRAgAwZa6WdLGkMySdJenPzexcSS2SPiXp7ZL+QdJWMysL9vmppD+QNFfSbZK+ZmbvTHvN8yW9JOkUSclcfAggDCRwQDiulPSouz/p7oOS/lrS2yS9L22bv3P3Pe6+T9I/STon92ECADAlNrr7rqCOS0qKS1ol6R/c/YfuPuTuX5XUL+n3JMndvxHUi0fc/SFJP5F0Xtpr7nH3Jnc/7O6/zvHnAXKGBA4Ix2mSdg4vuPsRSbskLUzb5udpz9+UNCs3oQEAMOV2pT3fqVS9uFjSjUHzyf1mtl/S6cE6mdkn0ppX7pdULenko7wmkLfo4AmEY4+k9w4vmJkpVUntDi0iAABy5/S054uUqhd3SUq6+1uaP5rZYkmbJX1Q0lPuPmRmz0mytM186sIFpg/uwAHh+Lqky8zsg2ZWIulGpZqJfD/csAAAyInPmFmlmc2XlJD0kFIJ2mozO99SKszsMjObLalCqQRtrySZ2SeVugMHFBwSOCAE7v6ipI9LapL0S0l/JOmP3H0g1MAAAMiNLZKeUGrQkZ9K+kt375B0naSNkt6QtEPBAF7u3iXpLklPSXpNqVYs/5LzqIFpwNy52wwAAAAAUcAdOAAAAACICBI4AAAAAIgIEjgAAAAAiAgSOAAAAACIiGk3D9zJJ5/sS5YsCTsMAEAOPPPMM7909wVhxxEV1JEAUBjGqx+nXQK3ZMkSdXR0hB0GACAHzGxn2DFECXUkABSG8epHmlACAAAAQESQwAEAAABARJDAAQAAAEBEkMABAAAAQEQcM4EzsxYz+4WZdR5lvZnZ35nZDjN73sx+O23dkJk9Fzy2ZjNwAAAAACg0E7kDd5+kS8ZZv1zSmcFjlaQvp637tbufEzw+POkoAQAAAADHTuDc/XuS9o2zyeWS7veUH0g6yczema0AAQAAAAAp2egDt1DSrrTlnqBMksrNrMPMfmBmVxztBcxsVbBdx969e7MQEgAAAADkn6kexGSxu9dIWiHpb83sjLE2cvd73L3G3WsWLBhzwnEAAAAAKHjZSOB2Szo9bbkyKJO7D/99SdJ3JJ2bhfcDAAAAgIKUjQRuq6RPBKNR/p6kA+7+MzObZ2ZlkmRmJ0u6QFJXFt4PAAAAAArSjGNtYGatki6UdLKZ9Ui6RVKJJLn7JkmPSbpU0g5Jb0r6ZLBrTNI/mNkRpRLFO92dBA4AAAAAJmkio1DG3f2d7l7i7pXu3uzum4LkTcHok59x9zPc/b3u3hGUfz9YPjv42zzVHwYACkVra6uqq6tVXFys6upqtba2hh0SAADTQr7Xkce8AwcAmF5aW1uVSCTU3Nys2tpatbe3q76+XpIUj8dDjg4AgPAUQh1p7h52DBlqamq8o6Mj7DAAYNqqrq5WU1OT6urqRsra2trU0NCgzs7OECM7fmb2TDBaMSaAOhIAxlddXa0rrrhCjzzyiLq7uxWLxUaWo1RHjlc/cgcOACKmu7tbtbW1GWW1tbXq7u4OKSIAAKaHrq4u9fb2qqWlZeQO3MqVK7Vz586wQ8uaqZ4HDgCQZbFYTO3t7Rll7e3tisViIUUEAMD0UFpaqoaGBtXV1amkpER1dXVqaGhQaWlp2KFlDQkcAERMIpFQfX292traNDg4qLa2NtXX1yuRSIQdGgAAoRoYGNDGjRsz6siNGzdqYGAg7NCyhiaUABAxw52wGxoaRtr3J5PJvOmcDQDAZFVVVenMM8/U8uXL1d/fr7KyMi1fvlwzZ84MO7Ss4Q4cAERQPB5XZ2enhoaG1NnZSfIGAICkuro6fetb39L69evV29ur9evX61vf+lbGwF9RRwIHAAAAIC+0tbVp3bp1amlp0ezZs9XS0qJ169apra0t7NCyhmkEAAChYRqB40MdCQDjKy4uVl9fn0pKSkbKBgcHVV5erqGhoRAjOz7j1Y/cgQMAAACQFwphpGYSOAAAAAB5oRBGamYUSgAAAAB5oRBGaiaBAwAAAJA34vF4XiVso9GEEgAAAAAiggQOAAAAACKCBA4AAAAAIoIEDgAAAAAiggQOAAAAACKCBA4AAAAAIoIEDgAAAAAiggQOAAAAACKCBA4AAAAAIoIEDgAAAAAiggQOAAAAACKCBA4AAAAAIoIEDgAAAAAiggQOAAAAACKCBA4AAAAAIoIEDgAAAAAiggQOAIBJMrMWM/uFmXUeZb2Z2d+Z2Q4ze97Mfjtt3TVm9pPgcU3uogYARBkJHAAAk3efpEvGWb9c0pnBY5WkL0uSmc2XdIuk8yWdJ+kWM5s3pZECAPICCRwAAJPk7t+TtG+cTS6XdL+n/EDSSWb2TkkXS3rS3fe5+xuSntT4iSAAAJJI4AAAmEoLJe1KW+4Jyo5WDgDAuEjgAACYxsxslZl1mFnH3r17ww4HABAyEjgAk9ba2qrq6moVFxerurpara2tYYcETDe7JZ2etlwZlB2t/C3c/R53r3H3mgULFkxZoACAaCCBAzApra2tSiQSampqUl9fn5qampRIJEjigExbJX0iGI3y9yQdcPefSdom6SIzmxcMXnJRUAYAwLhI4ABMSjKZVHNzs+rq6lRSUqK6ujo1NzcrmUyGHRqQM2bWKukpSf/JzHrMrN7MVpvZ6mCTxyS9JGmHpM2SPi1J7r5P0l9Iejp43B6UAQAwrmMmcMxxg+mOZnzh6O7uVm1tbUZZbW2turu7Q4oIyD13j7v7O929xN0r3b3Z3Te5+6Zgvbv7Z9z9DHd/r7t3pO3b4u7vDh73hvcpACC/5Pu54UTuwN0n5rjBNEUzvvDEYjG1t7dnlLW3tysWi4UUEQAAKHSFcG54zASOOW4wndGMLzyJREL19fVqa2vT4OCg2traVF9fr0QiEXZoBSHfry4CQNTxOx2OQjg3nJGF1zjhOW7MbJVSd++0aNGiLISEQkEzvvDE43FJUkNDg7q7uxWLxZRMJkfKMXWGry42NzertrZW7e3tqq+vlySOPwBMA62trbr++utVUVEhd1dvb6+uv/56SfxOT7VCODecFoOYMEQyJotmfOGKx+Pq7OzU0NCQOjs7qZRypBCuLgJAlK1du1bFxcVqaWlRf3+/WlpaVFxcrLVr14YdWt4rhHPDbCRwJzzHDTBZNONDISqEq4sAEGU9PT26//77My603X///erp6Qk7tLxXCOeG2WhCuVXSGjN7UKkBSw64+8/MbJuk9WkDl1wk6eYsvB8wgmZ8KETDVxfr6upGyvLt6iIAAJNRCOeG5u7jb5Ca4+ZCSSdLek2pkSVLJMndN5mZSdqo1AAlb0r65PAwyWa2UtLng5dKTmSY5JqaGu/o6DjWZgBQsI7WBy6KFZSZPePuNWHHERXUkUA0nH766RoaGtIDDzww8jt99dVXq7i4WLt27Tr2C6DgjVc/HvMOnLuPezbgqQzwM0dZ1yKpZSJBAgAmphCuLiK/NDQ0aPPmzerv71dZWZmuu+46NTU1hR0WMGU2bNig66+/XitXrtSrr76qRYsW6fDhw7rrrrvCDg15YFoMYgIAOD4MIIOoaGho0KZNm7R+/Xr19vZq/fr12rRpkxoaGsIODZgy8XhcV155pX72s5/pyJEj+tnPfqYrr7yS32pkBQkcAACYMps3b1ZjY6NuuOEGzZw5UzfccIMaGxu1efPmsEMDpkxra6seeughvfOd71RRUZHe+c536qGHHmIuOGQFCRwAAJgy/f39mjdvXsaExvPmzVN/f3/YoQFTZu3atZoxY4ZaWlrU19enlpYWzZgxg2kEkBUkcFnS2tqaUTlxhQUAAGnGjBm68cYb1dTUpL6+PjU1NenGG2/UjBnZGAgbmJ56enr01a9+NWMaga9+9atMI5Aj+X5eTgKXBcMjwqVXTolEIu++LMBo+f4DCeDEzZkzRwcOHFA8HldZWZni8bgOHDigOXPmhB0agDxUCOflJHBZkEwm1dzcnHGVpbm5WclkMuzQCgJJRDgK4QdyOuN7j6h44403VFFRoX379sndtW/fPlVUVOiNN94IOzRgylRWVuoTn/hExmTSn/jEJ1RZWRl2aHkvmUxqxYoVamhoUHl5uRoaGrRixYr8Oi9392n1+J3f+R2PmqKiIr///vt92bJlXlRU5MuWLfP777/fi4qKwg4t723ZssWXLl3q27dv94GBAd++fbsvXbrUt2zZEnZoeW/ZsmW+ffv2jLLt27f7smXLQoqocOTT915Sh0+DuicqjyjWkWVlZX7XXXdllN11111eVlYWUkSFZcuWLRnnJ1H8nYiiLVu2+OzZs72kpMQleUlJic+ePZvjnwNm5kuWLMmoI5csWeJmFnZox2W8+jH0ymj0I4qVU2VlpZ966qkZX5RTTz3VKysrww4t7y1btswTiURG5TS8jKlVVFTkAwMDGWUDAwNcuMiBfEqeSeDyv47Ml5OpKMqniz1Rs2XLFl+wYMHId33JkiW+YMECjn0O5MtFo/HqR5pQZomZjbuMqdHV1aUtW7ZkNOPbsmWLurq6wg4t78ViMd12220Zzfhuu+02xWKxsEPLe93d3aqtrc0oq62tVXd3d0gRAUdXVVWlq6++OqM509VXX62qqqqwQ8t7dPEITzKZ1EMPPaSXX35ZR44c0csvv6yHHnqIY58DAwMD2rhxY0bz1Y0bN2pgYCDs0LKGBC4L9uzZo8bGxozKqbGxUXv27Ak7tLxXWlqqNWvWZFROa9asUWlpadih5b26ujo1NjZq5cqVOnjwoFauXKnGxkbV1dWFHVrei8Viam9vzyhrb28neca0lEgkxrzQlkgkwg4t73GxJzzd3d3q6enJuMjZ09PDsc+BqqqqMfvA5dVFo6PdmgvrEcXmIfnUnClqaJoTHpqvhiefmkWJJpR5X0e60w8rLJyfhIfuNeHJlzpyvPox9Mpo9COKlVO+fFGiiCQiPPSBC1e+nBCTwOV/HYnwcH4SnsrKSj/ppJMy+sCddNJJJHA5kg915Hj1I7NoZkE8HpckNTQ0qLu7W7FYTMlkcqQcUyeRSCiRSKi5uVm1tbVqb29XfX09bcxzYLgZX3qTSZrxAcD0wflJeHbv3q2TTz5Z0m/GRSgpKdHu3bvDDAv54miZXVgPri7ieOXDVZYo4spuePLp2Is7cNSRQB7Kl5EQoyh9BNCioqLIjgA6Xv3IICYAJiUejyuZTGZ0EubKbm4UxCSlABBhAwMDampqyhgJsampKa9GQpyu1q5dqxkzZqilpUV9fX1qaWnRjBkztHbt2rBDyxpLJXjTR01NjXd0dIQdBiKitbX1qE0oSSSQr4qKijRr1iz19fVpcHBQJSUlKi8v16FDh3TkyJGwwzsuZvaMu9eEHUdUUEcC0VBdXa0rrrhCjzzyyEjz1eHlzs7OsMPLa2amm2++WVu3bh059h/+8Id1xx13aLrlPeMZr37kDhwijTluUIjMTIcOHdL8+fMlSfPnz9ehQ4eYfxLAW7S2tmYMZd/a2hp2SAWB6TPCde+992Yc+3vvvTfskLKKBA6Rxhw3KETDd9nWrl2r3t7ekWYhUbv7BmBqDbdSST+RTSQSJHE5QDeD8MyYMUP9/f0ZZf39/ZoxI3/GbqQJJSKturpaTU1NGSMhtrW1qaGhgSYKyFtmpiuvvFKdnZ0jzUOqq6v10EMPRap5iEQTyuNFHYnjQR2JQlRUVKS3v/3tmjVrlnbu3KnFixfr0KFDev311yN1oZMmlMhbiURC9fX1GZ2E6+vraaKAvPfEE09kXFV/4oknwg4JwDRDK5Vw0Xw1HFVVVfrUpz6liooKmZkqKir0qU99SlVVVWGHljUkcIg0miiEi8opHPPnz9eBAwcUj8dVWlqqeDyuAwcOjPSJAwDpN/N1pmO+ztyg+Wp4CqL/4dHmFwjrwRw3QDTk01xkUbNlyxafPXu2l5SUuCQvKSnx2bNnR/LYi3ngqCMxZfidDs+yZct8+/btGWXbt2/3ZcuWhRRRYcmHOYLHqx/zpzcfgJxKn4tsuB/W8Fxk3AGdWsPHN5lMqru7W2eddZYSiQTHHUCG4d+E9N9pfqNzg+armEokcAAmpaurS2+++eZb5uB75ZVXwg6tIMTjcU7CABwTvxXhGG6+mj6ADM1Xc+NocwRLypv/C/SBAzAppaWlWrNmTcYcfGvWrFFpaWnYoQEAECoGWQtPIcwRzB04AJMyMDCgpqYmnXvuuSNXuJqamjQwMBB2aAAAhIrmq1PHzI65zQc+8IFJ7esRmYqHO3AAJqWqqkrnnHOOli9frtLSUi1fvlznnHNOXg3TCwDAZMXjcXV2dmpoaEidnZ0kb1lytIE9hh/Lli3T9u3bR5Ixd9f27du1bNmyY+4bFSRwACalrq5O3/rWt7R+/Xr19vZq/fr1+ta3vpXR3h8AgHxkZlPywIlLb74qKS+br5LAAZiUtrY2rVu3Ti0tLZo9e7ZaWlq0bt26kR9MAED4mK9zahzrTs7ouzrHsy1OTPocwZLyco5gm25flpqaGu/o6Ag7DADHUFxcrL6+PpWUlIyUDQ4Oqry8XENDQyFGhigxs2fcvSbsOKIiqnVka2vryLQXsViMaS9y5Gij8eXbyex0Z2YkZyGJ8rEfr37kDhyASYnFYrrtttsyruzedtttDJEMIMNwEtHU1KS+vj41NTUpkUhwJygH0ufrLC8vV0NDw8h8nQCiiwQOwKTU1dWpsbFRK1eu1MGDB7Vy5Uo1NjbSBw5ABpKI8HR1dWnLli0ZyfOWLVvU1dUVdmgATgAJHIBJoQ9cuOjXgqjo6urSAw88kJFEPPDAAyQROcB8nUB+IoEDMCnd3d265ZZbMoZIvuWWW9Td3R12aHmPJmmIktLSUjU0NGQkEQ0NDSQROTA8X2f6ZNLM1wlEHwlclnA1HIWGPnDhSSaTam5uzjghbm5upkkapqWBgQFt3LgxI4nYuHEjSUQOVFVV6eqrr85ovnr11VczXycQcSRwWcDVcBQi+sCFp7u7W7W1tRlltbW13P0MgZldYmYvmtkOM7tpjPWLzezbZva8mX3HzCrT1g2Z2XPBY2tuI8+dqqoqnX322Vq+fLlKS0u1fPlynX322SQROZBIJMbsA5dP82EBBWmCc1JcIulFSTsk3TTG+sWSvi3peUnfkVSZtm5I0nPBY+ux3ut3fud3PGqWLVvm27dvzyjbvn27L1u2LKSIgKm3bNkyv+KKK7ysrMwleVlZmV9xxRV873Mgn35zJHX4ccynNJ0ekool/VTSuySVSvqRpKpR23xD0jXB8w9I+se0dYeO9z2jWEeuWbPGZ8yY4XfddZf39vb6XXfd5TNmzPA1a9aEHVpB2LJliy9btsyLiop82bJlvmXLlrBDKjip022EIcrHfrz68ZjzwJlZsaT/kPQhST2SnpYUd/eutG2+Ielb7v5VM/uApE+6+58G6w65+6yJJpRRnOOG+bBQiIqKirRkyZK3zC/0yiuv6MiRI2GHl9fyaW6nKM8DZ2a/L+lWd784WL5Zktz9jrRtXpB0ibvvMjOTdMDd5wTrjqt+lKJZR1ZXV+uKK67QI488MjIP3PByZ2dn2OEBUy7Kc5FFXZSP/YnOA3eepB3u/pK7D0h6UNLlo7apkrQ9eN42xvq8FovF1N7enlHW3t5OXyDkNUY3C088Hlcymczo1xLF5C0PLJS0K225JyhL9yNJHwme/7Gk2Wb29mC53Mw6zOwHZnbF0d7EzFYF23Xs3bs3S6HnDgMeAUB2TSSBm/IKKuqVUyKRUH19fUYH7fr6etqYI68xulm44vF4xgkxydu09TlJ7zezZyW9X9JupboWSNLi4OrqCkl/a2ZnjPUC7n6Pu9e4e82CBQtyEnQ2MeBRuBhkDcg/M7L0Op+TtNHMrpX0Pb21gtptZu+StN3M/t3df5q+s7vfI+keKdU8JEsx5czwiVNDQ8NI8xCuhiPfVVVV6Yorrsj43l999dV65JFHwg4NyJXdkk5PW64Myka4+x4FFzjNbJak/+ru+4N1u4O/L5nZdySdq1SfurwyPOBRY2OjVq9erU2bNmndunVavXp12KHlvaM1t5bEOQoQYRO5AzehCsrdP+Lu50pKBGX7g78jFZRSA5yce8JRT0NcDUehYXQzQE9LOtPMlppZqaSrJGWMJmlmJ5vZcF17s6SWoHyemZUNbyPpAkl5ObN1W1ub1q1bp5aWFs2ePVstLS1at26d2trawg4t7zHlCJCfJjKIyQylBjH5oFKJ29OSVrj7C2nbnCxpn7sfMbOkpCF3/4KZzZP0prv3B9s8Jeny9AFQRotiB22gULW2tiqZTI7cgUskEly8yJF8OfZRHsREkszsUkl/q9SIlC3unjSz25UaPWyrmX1U0h2SXKkWKp8J6sT3SfoHSUeUupj6t+7efKz3i2IdyUBf4eHYTw9RHkgj6qJ87MerH4/ZhNLdD5vZGknb9JsK6oX0CkrShZLuMLORCirYPSbpH8xsuIK6c7zkDUC0xOPxSCYNUdfa2qrrr79eFRUVkqTe3l5df/31kmgWlWvu/pikx0aVfSHt+cOSHh5jv+9Leu+UBzgNDA/0lT5HJAN95QbHHshPE5rI290fc/ez3P0Md08GZV8Ikje5+8PufmawzX9z9/6g/Pvu/l53Pzv4e8yriwCA8a1du1YzZsxQS0uL+vr61NLSohkzZmjt2rVhhwa8BQN9hYdjD+SnbA1iAgDIkZ6eHt18880ZA8hce+21uuOOO469M5Bj8Xhc3//+97V8+XL19/errKxM1113HXeLc4BB1oD8NKE7cDg2hukFkEv33ntvxgAy9957b9ghAWNqbW3Vo48+qscff1wDAwN6/PHH9eijj1JP5giDrAH5hwQuC4aH6U0/mUokElROOTI8mbGZjUxqDOSzGTNm6ODBg1q5cqXKy8u1cuVKHTx4UDNm0KgC0w8jIQJAdpHAZQGVU3gaGhq0adMmrV+/Xr29vVq/fr02bdpEEoe8NjQ0pN7eXu3atUtHjhzRrl271Nvby6hymJa6u7tVW1ubUVZbW6vu7u6QIgKAaCOBywIqp/Bs3rxZjY2NuuGGGzRz5kzdcMMNamxs1ObNm8MODZgyxcXFKisrU1FR6ie8qKhIZWVlKi4uDjky4K2GR0JMx0iIADB5JHBZQOUUnv7+fs2bNy+j/+G8efPU398fdmjAlDl8+LAOHz6sO++8U729vbrzzjtHyoDphpEQASC76DCRBcOVU3Nzs2pra9Xe3q76+nqaUObAjBkz9LnPfU4PP/zwyLH/6Ec/Sl8g5L3zzjtPn//853XjjTeqrKxM5513np566qmwwwLegpEQASC7OMvNAiqn8MyZM0dvvPGG4vG4XnvtNZ1yyil64403NG/evLBDA6bUD37wA/31X/+1Vq9erU2bNulzn/tc2CEBRxWPx6kTASBLzN3DjiFDTU2Nd3R0hB0GIqKoqEgzZszQ4ODgSFlJSYkOHz6sI0eOhBgZMHVKSkpUVlamBQsWaOfOnVq8eLH27t2r/v7+jP8LUWBmz7h7TdhxRAV1JBA9Zqbpdr5dKKJ87MerH+kDh0gzMw0NDemuu+5Sb2+v7rrrLg0NDcnMwg4NmDJDQ0OaOXNmRtnMmTMZhRLTFnOlAkD2kMAh0o4cOaK5c+fq3HPPVUlJic4991zNnTuXu2/Ia1VVVVq1apUqKipkZqqoqNCqVatUVVUVdmjAWzBXKgBkFwkcIu+CCy7Q8uXLVVpaquXLl+uCCy4IOyRgSiUSCd1zzz3q7e2VJPX29uqee+5hVD9MS8yVGq6GhgaVl5fLzFReXs48qUAeIIFDpBUXF+vRRx/NmMj70UcfZT4s5L2+vj7t3r1bR44c0e7du9XX1xd2SMCYmCs1PA0NDdq0aVNGHblp0yaSOCDiSOCyhPb94Zg7d67MTBs2bFBFRYU2bNggM9PcuXPDDi0vmNmUPHBi1q5dq+LiYi1cuFBmpoULF6q4uFhr164NOzTgLZgrNTybN29WY2OjbrjhBs2cOVM33HCDGhsbtXnz5rBDA3ACSOCygPb94dm/f78+9alPaf/+/WMu48S4+4Qex7NtVEeDmk56enpUXl6ulpYW9ff3q6WlReXl5erp6Qk7NOAtmMg7PP39/Vq9enVG2erVq9Xf3x9SRACygQQuC5LJpFasWDHSzryhoUErVqygfX8OxGIx/cmf/In6+vrk7urr69Of/MmfcGUXee+GG27I6FN0ww03hB0SMKZ4PK7LLrsso6/yZZddxrxwOVBWVqZNmzZllG3atEllZWUhRQQgG0jgsqCrq2tkQAF3HxlQoKurK+zQ8h5XdlGo7rrrrozv/V133RV2SMCYWltb9eijj+rxxx/XwMCAHn/8cT366KO0UsmB6667TuvWrdMXv/hFvfnmm/riF7+odevW6brrrgs7NAAngIm8s6CkpERz5szRww8/rNraWrW3t+ujH/2ofvWrX0VuUt0oam1tVTKZVHd3t2KxmBKJBFd2cyzKE2VG0emnn65Dhw7ppJNOGpnIe//+/Zo1a5Z27doVdnjHhYm8j08U68jq6mo1NTWprq5upKytrU0NDQ3q7OwMMbLC0NDQoM2bN6u/v19lZWW67rrr1NTUFHZYBYU6MjxRPvbj1Y8zch1MPjp8+LBKSkoyykpKSnT48OGQIios8XichA0FZcOGDfrUpz6l3bt3y921e/dulZeXa8OGDWGHBrwFo1CGq6mpiYQNyDM0ocyS888/P6N9//nnnx92SADyWHl5ecYolOXl5WGHBIwpFovptttuyxip+bbbbqOvMgBMEglcFsyfP3/Mucjmz58fdmgFgSkcUGiSyaQeeughvfzyyzpy5IhefvllPfTQQwychGmprq5O69ev14svvqgjR47oxRdf1Pr16zOaVAIAJo4+cFlw+umn6/XXX9fhw4c1ODiokpISzZgxQ29/+9sj1x8laoancGhubh7pf1hfX69kMkmzyhyKchvzKCouLlZfX19G0+3BwUGVl5draGgoxMiOH33gjk8U68i3v/3t2r9/vxYsWKDXXntNp5xyivbu3auTTjpJr7/+etjhAVOOOjI8UT7249WP3IHLgt27d6uiokILFy5UUVGRFi5cqIqKCu3evTvs0PJeMplUc3NzxnDqzc3N3IlAXmNiZETJvn37dOedd+rnP/+53F0///nPdeedd2rfvn1hhwYAkUQClwWlpaW6+eab9fLLL2toaEgvv/yybr75ZpWWloYdWt6jczwKEdNnIGqqq6vHXQYATBwJXBYMDAxo48aNGSdTGzdu1MDAQNih5T3uRKAQxeNxJZNJNTQ0qLy8XA0NDTQbxrQ1Y8YMXX311Rl15NVXX60ZMxgIGwAmgwQuC6qqqrRixYqMk6kVK1aoqqoq7NDyHnciUKji8bg6Ozs1NDSkzs5OkjdMW6tXr9aBAwcUj8dVWlqqeDyuAwcOaPXq1WGHVhCGz03MbOQcBUC0cfkrCxKJxFEH0sDUGj5pbWhoGJnImzsRADB9DM9BtnnzZknS/v379elPf5q5yXKgoaFBf//3f693vOMd+sUvfqF58+bp7//+7yWJ4w9EGKNQZklra6uSyeRIEpFIJEgiUDCiPMoTwsUolMdnOtaRZjYlr8tvyokrKSnRnDlz9PDDD49cYP7oRz+qX/3qVxocHAw7vIJBHRmeKB97RqHMAZozhYd54AAgPO4+4cfxbI8Td/jwYX3ta1/LGKn5a1/7mg4fPhx2aABOAAlclpBEhGN4Hrimpib19fWpqalJiUSC4w8AgKTOzs5xlwFED33gsuBok0lL4k7cFEufB07SyDxwDQ0NHHtEGs3SAJyo+fPn66abblJxcbFWr16tTZs26aabbtL8+fPDDg3ACeAOXBYwmXR4uru71dPTk3H3s6enh3ngEHlT0SSN5A0oLBs3blRZWZluvPFGVVRU6MYbb1RZWZk2btwYdmgATgB34LKAyaTDc9ppp2nt2rXasmXLyN3PFStW6LTTTgs7NAAAQjdr1iydcsopevXVV7Vo0SL19vaGHRKAE8QduCxgMulwjW5qNlVNzwAAiJJkMqmHHnpIL7/8soaGhvTyyy/roYceooUQEHEkcFnAZNLh2bNnjxobGzMmUW9sbNSePXvCDg0AgFDRQgjITzShzAImkw5PLBZTZWVlxqhabW1t3P0EABS8WCymj33sY3r88cfV39+vsrIyLV++nDoSiDjuwGUJ88CFg7ufAACMbeHChXrkkUc0c+ZMFRUVaebMmXrkkUe0cOHCsEMDcAImdAfOzC6RdLekYklfcfc7R61fLKlF0gJJ+yR93N17gnXXSPrzYNO/dPevZil2gLufAAAcxfbt2zVr1izNnTtX+/fv19y5czU4OKjt27eHHRqAE3DMBM7MiiV9SdKHJPVIetrMtrp7V9pmfy3pfnf/qpl9QNIdkv7UzOZLukVSjSSX9Eyw7xvZ/iAoXPF4nIQNAIBRDh8+rK9//etavnz5SNnjjz+uSy+9NMSoAJyoiTShPE/SDnd/yd0HJD0o6fJR21RJGr6c05a2/mJJT7r7viBpe1LSJSceNgqFmU3ZAwCAfJfeR3ysZQDRM5EEbqGkXWnLPUFZuh9J+kjw/I8lzTazt09wX5nZKjPrMLOOvXv3TjT2aaW1tTVjMunW1tawQ8oLxztBMRMaAwCQMn/+fK1bt06nnnqqioqKdOqpp2rdunWaP39+2KEBOAHZGsTkc5Leb2bPSnq/pN2Shia6s7vf4+417l6zYMGCLIWUO62trUokEmpqalJfX5+ampqUSCRI4gAgz5nZJWb2opntMLObxli/2My+bWbPm9l3zKwybd01ZvaT4HFNbiNHIVixYoUk6Ze//KXcXb/85S8zygFE00QSuN2STk9brgzKRrj7Hnf/iLufKykRlO2fyL75IJlMqrm5WXV1dSopKVFdXZ2am5uZKBMA8lhaH/HlSnUliJtZ1ajNhvuI/5ak25XqI660PuLnK9VV4RYzm5er2FEY2tra9PnPf17vec97VFRUpPe85z36/Oc/r7a2trBDA3ACJpLAPS3pTDNbamalkq6StDV9AzM72cyGX+tmpUaklKRtki4ys3lBxXRRUJZXuru71dPTk9GEsqenh4kyASC/0Ucc01p3d7duueWWjGmObrnlFs5PgIg7ZgLn7oclrVEq8eqW9HV3f8HMbjezDwebXSjpRTP7D0mnSEoG++6T9BdKJYFPS7o9KMsrp512mtauXZvRhHLt2rU67bTTwg4NADB1pryPuJQf/cQRjlgspvb29oyy9vZ2JvIGIm5C88C5+2OSHhtV9oW05w9Levgo+7boN3fk8tboUQ0Z5RAAoFQf8Y1mdq2k7+k4+4hLqX7iku6RpJqaGkZgwoQlEgldeeWVqqio0KuvvqpFixapt7dXd999d9ihATgBE0rgML49e/bovvvuy5hMurGxUddee23YoQEAps6E+ogruANnZrMk/Vd3329mu5VqvZK+73emMlgUpkOHDmn4zu0rr7yit73tbSFHBOBEZWsUyoIWi8VUWVmZ0ca8srKSJgoAkN/oI45pbc2aNRoYGNBdd92l3t5e3XXXXRoYGNCaNWvCDg3ACSCBy4JEIqH6+nq1tbVpcHBQbW1tqq+vVyKRCDs0AMAUoY84prt9+/bpjjvu0A033KCZM2fqhhtu0B133KF9+/iqAVFGE8osiMfjkpTRhDKZTI6UAwDyE33EMd1VV1ePuwwgekjgsiQej5OwAQCAaWPGjBn6+Mc/rocffli1tbVqb2/Xxz/+cc2YwekfEGU0oQQAAMhDq1ev1v79+xWPx1VWVqZ4PK79+/dr9erVYYcG4ARwCQYAACAPNTU1SZI2b94sd9f+/fv16U9/eqQcQDRxBw4AACBPve9979O73/1uFRUV6d3vfrfe9773hR0SgBPEHTgAAIA81NraqkQioebm5pE+cPX19ZJEv30gwrgDlyWtra2qrq5WcXGxqqur1draGnZIAACggCWTSTU3N6uurk4lJSWqq6tTc3Ozkslk2KEBOAEkcFnQ2tqq66+/Xr29vXJ39fb26vrrryeJAwAAoenu7lZtbW1GWW1trbq7u0OKCEA2kMBlwdq1a1VcXKyWlhb19/erpaVFxcXFWrt2bdihAQCAAhWLxdTe3p5R1t7erlgsFlJEALKBBC4Lenp6dP/992c0Ubj//vvV09MTdmgAAKBAJRIJ1dfXq62tTYODg2pra1N9fb0SiUTYoQE4ASRwWdLW1pbRB66trS3skAAAQAGLx+O67LLLtHz5cpWWlmr58uW67LLLGMAEiDgSuCyYP3++7rzzTv34xz/WkSNH9OMf/1h33nmn5s+fH3ZoAACgQLW2turRRx/V448/roGBAT3++ON69NFH6aMPRBwJXBb09/fL3eXukjTyvL+/P+TIAABAoWIUSiA/kcBlQW9vr2bOnKlFixbJzLRo0SLNnDlTvb29YYcGAAAKFKNQAvmJBC5L/uiP/kgVFRUyM1VUVOiP/uiPwg4JAAAUMEahBPITCVyWfOMb39DKlSt18OBBrVy5Ut/4xjfCDgkAABSwRCKhK6+8UkuXLlVxcbGWLl2qK6+8klEogYgjgcuCoqIiubv+6q/+SrNnz9Zf/dVfyd1VVMThBQAA4env79fu3bt15MgR7d69m/75QB4gw8gCd9esWbP0+uuv68iRI3r99dc1a9askUFNAAAAcm3t2rWaOXOmtm3bpoGBAW3btk0zZ87U2rVrww4NwAmYEXYAUWBmx9zm4MGDI88HBwc1ODg4oX1J8gAAwFTo6enRE088obq6OklSXV2d7r//fl100UUhRwbgRHAHbgKGpwU42mPLli1aunSptm/fLknavn27li5dqi1bthxzXwAAAACYKO7AZUE8HpckNTQ0jPxNJpMj5QAAALlWWVmpa665Rg888IBqa2vV3t6ua665RpWVlWGHBuAEcAcuS+LxuDo7OyVJnZ2dJG8AACBUGzZs0OHDh7Vy5UqVl5dr5cqVOnz4sDZs2BB2aABOAHfgAAAAImgiffQlae/evZKkV155RZK0YsUKrVix4qjb08UDmN5I4AAAACLoeBItMyMxA/IETSgBAAAAICJI4AAAAFDwlixZIjPL+kNS1l9zyZIl4R4shIomlAAAACh4O3fujEwz04n2f0R+4g4cAAAAAEQECRwAAAAARAQJHAAAAABEBAkcAAAAAEQECRwAAAAARAQJHAAAAABEBAkcUGCmYp4bKftz3DDPDQAAwFtNKIEzs0vM7EUz22FmN42xfpGZtZnZs2b2vJldGpQvMbNfm9lzwWNTtj8AgOMzPM9NFB47d+4M+3ABAABMK8ecyNvMiiV9SdKHJPVIetrMtrp7V9pmfy7p6+7+ZTOrkvSYpCXBup+6+zlZjRoAAAAACtBE7sCdJ2mHu7/k7gOSHpR0+ahtXNKc4PlcSXuyFyIAAAAAQJpYArdQ0q605Z6gLN2tkj5uZj1K3X1rSFu3NGha+V0z+4Ox3sDMVplZh5l17N27d+LRAwAAAEABydYgJnFJ97l7paRLJf2jmRVJ+pmkRe5+rqQbJG0xszmjd3b3e9y9xt1rFixYkKWQAAAAACC/TCSB2y3p9LTlyqAsXb2kr0uSuz8lqVzSye7e7+6vB+XPSPqppLNONGgAAAAAKEQTSeCelnSmmS01s1JJV0naOmqbVyV9UJLMLKZUArfXzBYEg6DIzN4l6UxJL2UreAAAAAAoJMcchdLdD5vZGknbJBVLanH3F8zsdkkd7r5V0o2SNpvZnyk1oMm17u5m9oeSbjezQUlHJK12931T9mkAAAAAII8dM4GTJHd/TKnBSdLLvpD2vEvSBWPs901J3zzBGAEAAAAAyt4gJgAAFBwzu8TMXjSzHWZ20xjrF5lZWzAa8/NmdmlQvsTMfm1mzwWPTbmPHgAQRRO6AwcAADIFfby/JOlDSk2x87SZbQ1apQz7c0lfd/cvm1mVUq1ZlgTrfuru5+QwZABAHuAOHAAAk3OepB3u/pK7D0h6UNLlo7ZxScPT58yVtCeH8QEA8hAJHAAAk7NQ0q605Z6gLN2tkj5uZj1K3X1rSFu3NGha+V0z+4OjvYmZrTKzDjPr2Lt3b5ZCBwBEFQkcAABTJy7pPnevlHSppH80syJJP5O0yN3PlXSDpC1mNmesF3D3e9y9xt1rFixYkLPAAQDTEwkcAACTs1vS6WnLlUFZunpJX5ckd39KqXlST3b3fnd/PSh/RtJPJZ015REDwDS0ZMkSmVnWH5Ky/ppLliwJ92CJQUwAAJispyWdaWZLlUrcrpK0YtQ2r0r6oKT7zCymVAK318wWSNrn7kNm9i5JZ0p6KXehA8D0sXPnTrl72GFMyHBiGCYSOAAAJsHdD5vZGknbJBVLanH3F8zsdkkd7r5V0o2SNpvZnyk1oMm17u5m9oeSbjezQUlHJK12930hfRQAQISQwAEAMEnu/phSg5Okl30h7XmXpAvG2O+bkr455QECAPIOfeAAAAAAICJI4AAAAAAgIkjgAAAAACAiSOAAAAAAICJI4AAAAAAgIkjgAAAAACAimEYAKDB+yxzp1rlhhzEhfsucsEMAAACYVkjggAJjt/1K7h52GBNiZvJbw44CAFAIuMCJqCCBAwAAQMHjAieigj5wAJAjS5YskZll9SEp669pZlqyZEm4BwsAAIyJO3AIxZIlS7Rz586sv+7wCW02LV68WK+88krWXxeFZ+fOnZG6ugsAAKYfEjiEghNZAAAA4PjRhBIAAAAAIoIEDgAAAAAiggQOAAAAACKCBA4AAAAAIoIEDgAAAAAiggQOAAAAACKCBA4AAAAAIoIEDgAAZFiyZInMLOsPSVl/zSVLloR7sAAgx5jIGwAAZNi5c6fcPewwJmQ4MQSAQsEdOAAAAACICBI4AAAAAIgIEjgAAAAAiAgSOAAAAACICBI4AAAAAIgIEjgAAAAAiIgJJXBmdomZvWhmO8zspjHWLzKzNjN71syeN7NL09bdHOz3opldnM3gAQAAAKCQHHMeODMrlvQlSR+S1CPpaTPb6u5daZv9uaSvu/uXzaxK0mOSlgTPr5K0TNJpkv6fmZ3l7kPZ/iAAAAAAkO8mcgfuPEk73P0ldx+Q9KCky0dt45LmBM/nStoTPL9c0oPu3u/uL0vaEbweAAAAAOA4TSSBWyhpV9pyT1CW7lZJHzezHqXuvjUcx74ys1Vm1mFmHXv37p1g6AAAAABQWLI1iElc0n3uXinpUkn/aGYTfm13v8fda9y9ZsGCBVkKCQAAAADyyzH7wEnaLen0tOXKoCxdvaRLJMndnzKzckknT3BfADm0ePFimVnYYUzI4sWLww4BAABgWpnIXbKnJZ1pZkvNrFSpQUm2jtrmVUkflCQzi0kql7Q32O4qMyszs6WSzpT0r9kKHsDxe+WVV+TuWX1IyvprurteeeWVcA8WAADANHPMO3DuftjM1kjaJqlYUou7v2Bmt0vqcPetkm6UtNnM/kypAU2u9dRZ3Qtm9nVJXZIOS/oMI1ACAAAAwORMpAml3P0xpQYnSS/7QtrzLkkXHGXfpKTkCcQIAAAATCm6GCAqJpTAAdnmt8yRbp0bdhgT4rfMOfZGAAAg0qaq2b6ZjXQ3ALKBBA6hsNt+FZkfMzOT3xp2FAAAAAAJHAAAAIAQ0TLr+JDAAQAAAAgNLbOOT7Ym8gYAAAAATDHuwAFAjtBEBAAAnCgSOADIEZqI5Cczu0TS3UrNlfoVd79z1PpFkr4q6aRgm5uC6XlkZjdLqpc0JOmz7r4th6EDACKIBA4AgEkys2JJX5L0IUk9kp42s63B/KjD/lzS1939y2ZWpdS8qkuC51dJWibpNEn/z8zOcveh3H4KAECU0AcOAIDJO0/SDnd/yd0HJD0o6fJR27ik4TapcyXtCZ5fLulBd+9395cl7QheDwCAoyKBAwBg8hZK2pW23BOUpbtV0sfNrEepu28Nx7GvzGyVmXWYWcfevXuzFTcAIKIKOoE79dRTZWZZfUjK+mueeuqpIR8pAMAJiEu6z90rJV0q6R/NbML1r7vf4+417l6zYMGCKQsSABANBZ3Avfbaa2GHMCFRiRMACtBuSaenLVcGZenqJX1dktz9KUnlkk6e4L4oMFNxcZkLzEB+KegEDgCAE/S0pDPNbKmZlSo1KMnWUdu8KumDkmRmMaUSuL3BdleZWZmZLZV0pqR/zVnkmJaidNE2SrEC+YRRKAEAmCR3P2xmayRtU2qKgBZ3f8HMbpfU4e5bJd0oabOZ/ZlSA5pc66n5JF4ws69L6pJ0WNJnGIESAHAsJHAAAJyAYE63x0aVfSHteZekC46yb1JSckoDnAQmnQeA6YsEDgAAZGDSeQCYvugDBwAAAAARQQIHAAAAABFBAgcAAAAAEUECBwAAAAARQQIHAAAAABFBAgcAAAAAEcE0AgjF4sWLZWZhhzEhixcvDjsEAAAAQBIJHELyyiuvZP01zSwy8xYBAAAAk0ETSgAAAACICBI4AAAAAIgIEjgAAAAAiAgSOAAAAACICBI4AAAAAIgIEjgAAAAAiAimEQCAHGH+QwAAcKJI4AAgR5j/EAAAnCiaUAIAAABARJDAAQAAAEBEkMABAAAAQESQwAEAAABARJDAAQAAAEBETCiBM7NLzOxFM9thZjeNsf5vzOy54PEfZrY/bd1Q2rqtWYwdAAAAAArKMacRMLNiSV+S9CFJPZKeNrOt7t41vI27/1na9g2Szk17iV+7+zlZixgAAABA3mCe1OMzkXngzpO0w91fkiQze1DS5ZK6jrJ9XNIt2QkPAAAAQD6binlSpfydK3UiCdxCSbvSlnsknT/Whma2WNJSSdvTisvNrEPSYUl3uvsjY+y3StIqSVq0aNGEAgcAAMg3fsucsEMAMM1NJIE7HldJetjdh9LKFrv7bjN7l6TtZvbv7v7T9J3c/R5J90hSTU1N/qXJAAAAE2C3/SrsEI6L3xp2BEDhmUgCt1vS6WnLlUHZWK6S9Jn0AnffHfx9ycy+o1T/uJ++ddfc4yoXAAAAgCiZSAL3tKQzzWypUonbVZJWjN7IzN4jaZ6kp9LK5kl60937zexkSRdI2pCNwLMhSle5uMIFAAAA4JgJnLsfNrM1krZJKpbU4u4vmNntkjrcfXhqgKskPeiZPQVjkv7BzI4oNWXBnemjVwIAAAAAJm5CfeDc/TFJj40q+8Ko5VvH2O/7kt57AvEBAAAAAALZHsQEQB45njlZjmfbfBzSFwAAIBdI4AAcFYkWUJiYVBcApi8SOAAAkIFJdQFg+ioKOwAAAAAAwMSQwAEAAABARJDAAQAAAEBEkMABAAAAQESQwAEAAABARJDAAQAAAEBEkMABAAAAQESQwAEAAABARJDAAQAwSWZ2iZm9aGY7zOymMdb/jZk9Fzz+w8z2p60bSlu3NaeBAwAia0bYAQAAEEVmVizpS5I+JKlH0tNmttXdu4a3cfc/S9u+QdK5aS/xa3c/J0fhAgDyBHfgAACYnPMk7XD3l9x9QNKDki4fZ/u4pNacRAYAyFskcAAATM5CSbvSlnuCsrcws8WSlkranlZcbmYdZvYDM7viaG9iZquC7Tr27t2bhbABAFFGAgcAwNS7StLD7j6UVrbY3WskrZD0t2Z2xlg7uvs97l7j7jULFizIRawAgGmMBA4AgMnZLen0tOXKoGwsV2lU80l33x38fUnSd5TZPw4AgDEVdAJ3yimnhB3ChEQlTgAoME9LOtPMlppZqVJJ2ltGkzSz90iaJ+mptLJ5ZlYWPD9Z0gWSukbvCwDAaAU9CuXPf/7zrL+mmcnds/66AIDpxd0Pm9kaSdskFUtqcfcXzOx2SR3uPpzMXSXpQc+sHGKS/sHMjih1MfXO9NErUbhOOeUUvfbaa2GHMSFcYAbCUdAJHAAAJ8LdH5P02KiyL4xavnWM/b4v6b1TGhwiaSouLktcYAbySUE3oQQAAACAKOEOHAAAAHAczGxKtucuKSaCBA4AAAA4DiRaCBNNKAEAAAAgIkjgAAAAACAiSOAAAAAAICJI4AAAAAAgIkjgAAAAACAiGIUS09pUDdMrMYIUAAAAoocEDtMaSRYAAADwGzShBAAAAICIIIEDAAAAgIgggQMAAACAiCCBAwAAAICIIIEDAAAAgIhgFEoAmIaOZ0oMps8AAKBwkMABwDREogUAAMYyoSaUZnaJmb1oZjvM7KYx1v+NmT0XPP7DzPanrbvGzH4SPK7JYuwAAAAAUFCOeQfOzIolfUnShyT1SHrazLa6e9fwNu7+Z2nbN0g6N3g+X9ItkmokuaRngn3fyOqnAAAAAIACMJE7cOdJ2uHuL7n7gKQHJV0+zvZxSa3B84slPenu+4Kk7UlJl5xIwAAAAABQqCaSwC2UtCttuScoewszWyxpqaTtx7Ovma0ysw4z69i7d+9E4gYAAACAgpPtaQSukvSwuw8dz07ufo+717h7zYIFC7IcEgAAAADkh4kkcLslnZ62XBmUjeUq/ab55PHuCwAAAAAYx0QSuKclnWlmS82sVKkkbevojczsPZLmSXoqrXibpIvMbJ6ZzZN0UVAGAAAAADhOxxyF0t0Pm9kapRKvYkkt7v6Cmd0uqcPdh5O5qyQ96GmTF7n7PjP7C6WSQEm63d33ZfcjAAAAAEBhmNBE3u7+mKTHRpV9YdTyrUfZt0VSyyTjAwAAAAAEsj2ICQAAAABgipDAAQAAAEBEkMABAAAAQESQwAEAAABARJDAAQAAAEBEkMABAAAAQESQwAEAAABARJDAAQAAAEBEkMABAAAAQETMCDsAAAAQXWY2Jdu7+2TCAYC8RwIHAAAmjUQLAHKLJpQAAAAAEBEkcAAAAAAQESRwAAAAABARJHAAAAAAEBEkcAAAAAAQESRwAABMkpldYmYvmtkOM7tpjPV/Y2bPBY//MLP9aeuuMbOfBI9rcho4ACCymEYAAIBJMLNiSV+S9CFJPZKeNrOt7t41vI27/1na9g2Szg2ez5d0i6QaSS7pmWDfN3L4ERBxzMEHFCbuwAEAMDnnSdrh7i+5+4CkByVdPs72cUmtwfOLJT3p7vuCpO1JSZdMabTIO+4+JQ8A0xt34CZgqq5wSVzlAoAIWyhpV9pyj6Tzx9rQzBZLWipp+zj7LjzKvqskrZKkRYsWnVjEABBxnJeTwE1IVP4xAQDT1lWSHnb3oePd0d3vkXSPJNXU1FAhAShonJfThBIAgMnaLen0tOXKoGwsV+k3zSePd18AAEaQwAEAMDlPSzrTzJaaWalSSdrW0RuZ2XskzZP0VFrxNkkXmdk8M5sn6aKgDACAcdGEEgCASXD3w2a2RqnEq1hSi7u/YGa3S+pw9+Fk7ipJD3paux9332dmf6FUEihJt7v7vlzGDwCIJhI4AAAmyd0fk/TYqLIvjFq+9Sj7tkhqmbLgAAB5iSaUAAAAABARJHAAAAAAEBEkcAAAAAAQESRwAAAAABARJHAAAAAAEBEkcAAAAAAQESRwAAAAABARJHAAAAAAEBEkcAAAAAAQESRwAAAAABARJHAAAAAAEBHm7mHHkMHM9kraGXYcJ+BkSb8MO4gCxbEPD8c+PFE/9ovdfUHYQUQFdSROAMc+PBz78ET52B+1fpx2CVzUmVmHu9eEHUch4tiHh2MfHo49ooTva3g49uHh2IcnX489TSgBAAAAICJI4AAAAAAgIkjgsu+esAMoYBz78HDsw8OxR5TwfQ0Pxz48HPvw5OWxpw8cAAAAAEQEd+AAAAAAICJI4AAAAAAgIkjgjpOZHQr+nmZmD4cdTyEwsyVm1hl2HPnAzE4ys0/n4H0uNLP3TWC7vPy3NbP7zOyjY5RfaGbfynEs/93MZo6z/itmVpXLmJCfqB9zL19/Q8NA/Zg71JEnjgRuktx9j7u/5cuHaDCzGWHHEJKTJE24grKUyfxOXCjpmBUUssPMisdZ/d8ljVk5mVmxu/83d++aksB0zNiQh6gfo436cWKoH6MjH+tIErhJSr8yYmblZnavmf27mT1rZnVB+bVm9r/M7P+a2U/MbEO4UUfaDDN7wMy6zexhM5tpZr9jZt81s2fMbJuZvVOSzOw6M3vazH5kZt8cvrISXPHZZGY/lFSo/xZ3SjrDzJ4zs78xs2+b2b8F393LpZHv9otmdr+kTkmnm9mXzazDzF4ws9uGX8zMXjGz29Je4z1mtkTSakl/FrzPH4y+2jZ8pT5d8L7/HLzWv03kCmWumNn/DI5Ju5m1mtnngvJzzOwHZva8mf1vM5s3xr6XmNmPzezfJH0krbzCzFrM7F+D343h4z+h343g2DcGr/snZnaRmT0VHLtvmNksM/uspNMktZlZW7DfITO7y8x+JOn3zew7ZlYTrBvrNS4xs2+kve/IFdKxth8rtmz8GyA6qB9zjvoxO6gfJ4k6MoQ60t15HMdD0qHg7xJJncHzGyW1BM/fI+lVSeWSrpX0kqS5wfJOSaeH/Rmi9giOtUu6IFhukfQ/JH1f0oKg7Mq0f4O3p+37l5Iaguf3SfqWpOKwP1PIx3L4eztD0pzg+cmSdkiyYJsjkn4vbb/5wd9iSd+R9FvB8itpx/fTkr4SPL9V0ufS9r9P0kfTlsf6fzRTUnnw/ExJHWEfryCW35X0XPB/eLaknwx/NknPS3p/8Px2SX+b/nmDfXYFn8ckfV3St4Jt1kv6ePD8JEn/Ialior8bwbFfm/bv9z1JFcHyOklfSNvu5LT9XNLH0pa/I6nmaK8RfE9eTSv/sqSPT+A914b9b8cj5/9XqB9zf8yXiPoxm8eS+vH4jxt1ZAh1ZKHeJs+2WklNkuTuPzaznZLOCtZ9290PSJKZdUlarNSXFcdnl7v/S/D8a5I+L6la0pNmJqV+OH8WrK82s79U6j/8LEnb0l7nG+4+lJOIpz+TtN7M/lCpCmmhpFOCdTvd/Qdp237MzFYp9UP1TklVSv0wS9L/Cv4+o7SrZ5NQImmjmZ0jaUi/+T8Utgsk/R9375PUZ2b/JElmNlfSSe7+3WC7r0r6xqh93yPpZXf/SbDP1yStCtZdJOnDw1cqlaqIFgXPJ/q78VDw9/eU+jf5l+D/Q6mkp47yeYYkfXOM8jFfw90Pm9n/lfRHlurXdJmktZLef4z3fEgA9WMuUD9mH/XjxFFHhlBHksBNvf6050PimE/W6AkLD0p6wd1/f4xt75N0hbv/yMyuVaq9+bDeKYkumq6WtEDS77j7oJm9otQPpJR2nMxsqaTPSfpdd3/DzO5L2076zXd8vO/3YQVNti3VZ6B0jG3+TNJrks4Otu07/o8UKSbpv7r7ixmFZudr4r8bw/9OJulJd49P4H37jnKSNt5rPChpjaR9Sl35PWipGmm89+T/Go6F+jE7qB+zj/oxfNSR46APXHb8s1L/2WVmZyl1heDFcffA8VpkZsOV0QpJP5C0YLjMzErMbFmwfrakn5lZiYJ/F4w4qNTxkVLND34RVE51Sl3BGsscpX5oDpjZKZKWH+f7SKnmAr8TPP+wUlcTR5sr6WfufkTSnyp11Xg6+BelrqyVB+3X/4skBVf/3jCzPwi2+1NJ3x21748lLTGzM4Ll9B/ybZIagh95mdm5JxDjDyRdYGbvDl6rIvgtkt76bzGZ1/iupN+WdJ1SFdWxtgeGUT9OPerH7KB+nBzqyBDqSBK47Ph7SUVm9u9K3RK91t37j7EPjs+Lkj5jZt2S5inVJOejkhqDjqbP6TejOv1PST9U6kflx7kPdfpy99eVup3fKekcSTXB9/YTOsqxcvcfSXo2WL9FqeN6LP8k6Y8t6KQtabOk9wf/Vr+vsa88/b2ka4Jt3nOUbXLO3Z+WtFWpJjGPS/p3SQeC1ddI+isze16p43n7qH37lGoO8mjQWfkXaav/QqmK+nkzeyFYnmyMe5XqF9AaxPKUUsdQku6R9H8t6KA9mdcIrkZ+S6mTk29N4D2BYdSPU4/6MQuoHyeHOjKcOtKCznQAgKMws1nufshSI7Z9T9Iqd/+3sOMCACBs1JG5R3tzADi2eyw1kWe5pK9SMQEAMII6Mse4AwcAAAAAEUEfOAAAAACICBI4AAAAAIgIEjgAAAAAiAgSOAAAAACICBI4AAAAAIgIEjgAAAAAiAgSOAAAAACICBI4AAAAAIgIEjgAAAAAiAgSOAAAAACICBI4AAAAAIgIEjgAAAAAiAgSOAAAAACICBI4AAAAAIgIEjgAAAAAiAgSOAAAAACICBI4AAAAAIgIEjgAAAAAiAgSOAAAAACICBI4AAAAAIgIEjgAAAAAiAgSOAAAAACICBI4AAAAAIgIEjgAAAAAiAgSOAAAAACICBI4AAAAAIgIEjgAAAAAiAgSOAAAAACICBI4AAAAAIgIEjgAAAAAiAgSOAAAAACICBI4AAAAAIgIEjgAAAAAiAgSOAAAAACICBI4AAAAAIgIEjgAAAAAiAgSOAAAAACICBI4AAAAAIgIEjgAAAAAiAgSOAAAAACICBI4IE+Y2RIzczObEXYsAID8EdQt7z7KumvNrD3XMU2Wmf2Bmb0YdhzAiSCBA8ZhZq+Y2X8O6b1vNbOvhfHeAABEzXiJ5jB3/2d3/0+5igmYCiRwwBQxs+KwYwAAIB9ko3VJWC1UaBmDbCOBA47CzP5R0iJJ/2Rmh8xsrZl9w8x+bmYHzOx7ZrYsbfv7zOzLZvaYmfVKqjOzy8zsWTP7lZntMrNb07YfbvJ4jZm9ama/NLNEsO4SSZ+XdGXw3j8KyjPuCI53l87MPmlm3WZ20MxeMrNPTcVxAgBMf2b220F9dDCoyx4ys79MW3+dme0ws31mttXMTjvK67w9WP8rM/tXSWeMWv8eM3syeJ0XzexjaevuM7MvmdmjQRw/NLMz3vImyqgj683sVUnbg/KVQd32hpltM7PFQfn3gl1/FNSbV5rZhWbWY2brzOznku4dLkt7n9PM7JtmttfMXjazz6aV/9rM5qdte25QV5eMF0uwzs3sM2b2E0k/mdA/EjBBJHDAUbj7n0p6VdIfufssd98g6XFJZ0p6h6R/k/TAqN1WSEpKmi2pXVKvpE9IOknSZZL+PzO7YtQ+tZL+k6QPSvqCmcXc/f9KWi/poeC9z57ER/iFpP8iaY6kT0r6GzP77Um8DgAgwsysVNL/lnSfpPmSWiX9cdr6D0i6Q9LHJL1T0k5JDx7l5b4kqS/YbmXwGH6dCklPStqiVD15laS/N7OqtP2vknSbpHmSdihVZ47n/ZJiki42s8uVurj5EUkLJP1z8Fnk7n8YbH92UG8+FCyfGnzmxZJWjTouRZL+SdKPJC1Uqh7+72Z2sbvvkfSUpP+atssKSQ+7++B4saS5QtL5kqoEZBEJHHAc3L3F3Q+6e7+kWyWdbWZz0zb5P+7+L+5+xN373P077v7vwfLzSv24v3/Uy97m7r929x8pVYlMJlkbK9ZH3f2nnvJdSU9I+oNsvDYAIFJ+T9IMSX/n7oPu/r8k/Wva+qsltbj7vwX1282Sft/MlqS/SNA14L9K+oK797p7p6Svpm3yXyS94u73uvthd39W0jcl/UnaNv/b3f/V3Q8rdRH0nGPEfmvwXr+WtFrSHe7eHey/XtI56Xe+xnBE0i3u3h+8RrrflbTA3W939wF3f0nSZqWSTCmViMaDz25B+ZZg3URiucPd943xvsAJIYEDJsjMis3sTjP7qZn9StIrwaqT0zbbNWqf882sLWiacUCpH/z07SXp52nP35Q0K0vxLjezHwTNWPZLunSM9wYA5L/TJO12d08r2zVq/c7hBXc/JOl1pe5KpVugVCKYvu/OtOeLJZ1vZvuHH0olh6embXO8dV76ey2WdHfaa++TZGPEmW6vu/cdZd1iSaeNivfzkk4J1n9TqUT2nZL+UKlk8J+PI5aMcwIgW+hUCYwvvbJbIelySf9ZqeRtrqQ3lPrBHmt7KXWlbqOk5e7eZ2Z/q4knUaNfS0o1yZyZtnzqGNvIzMqUqng+odRdwUEze2RUrACAwvAzSQvNzNKSuNMl/TR4vkephETSSFPIt0vaPep19ko6HOz746BsUdr6XZK+6+4fymLso5POpLuP7r4w0f1H2yXpZXc/c8wd3d8wsyckXalUM84H047fRGIZ772BSeMOHDC+1yS9K3g+W1K/UlclZyrVXOJYZkvaFyRv5ymVBB7Pey8J2ugPe07SVWZWYmY1kj56lH1LJZUpqGzNbLmki47jvQEA+eMpSUOS1pjZjKD/1nlp61slfdLMzgkuAK6X9EN3fyX9Rdx9SNL/knSrmc0M+rZdk7bJtySdZWZ/GtRTJWb2u2YWy9Ln2CTpZgsGEDOzuWaW3jwzvc6eiH+VdDAY5ORtQUubajP73bRttih1MfSj+k3zyYnEAkwZEjhgfHdI+vOgecR8pZqK7JbUJekHE9j/05JuN7ODkr4g6evH8d7fCP6+bmb/Fjz/n0qN+PWGUp3At4y1o7sflPTZ4P3eUCpx3Hoc7w0AyBPuPqDUYBv1kvZL+rhSyVZ/sP7/KVW/fFOpu3Vn6Df9wEZbo1Szx58rNSjKvWnvc1Cpi4VXKXVX7+eSGpW6oJiNz/G/g9d7MOjK0Clpedomt0r6atCs8WNjvMTo1xtSqt/eOZJelvRLSV9RqoXNsK1KDV7286Cv+kRjAaaMZTaHBgAAQL4zsx9K2uTu9x5zYwDTCnfgAAAA8pyZvd/MTg2aUF4j6bck/d+w4wJw/BjEBAAAIP/9J6Wa1VdIeknSR939Z+GGBGAyjnkHzsxazOwXZtZ5lPXvMbOnzKzfzD43at0lZvaime0ws5uyFTQAAAAmzt3vcfdTgkmuf8vdHw07JgCTM5EmlPdJumSc9fuUGizhr9MLg8kev6RUh84qSfFgtCIAAAAAwCQcswmlu3/PzJaMs/4Xkn5hZpeNWnWepB3BrPYysweVmkOra7z3O/nkk33JkqO+HQAgjzzzzDO/dPcFYccRFdSRAFAYxqsfp7IP3EJlzkDfI+n8sTY0s1WSVknSokWL1NHRMYVhAQCmCzPbGXYMUbJkyRLqSAAoAOPVj9NiFMqgXXaNu9csWMCFWAAAAAAYy1QmcLslnZ62XBmUAQAAAAAmYSoTuKclnWlmS82sVNJVSs1mDwAAAACYhGP2gTOzVkkXSjrZzHok3SKpRJLcfZOZnSqpQ9IcSUfM7L9LqnL3X5nZGknbJBVLanH3F6bkUwAAAABAAZjIKJTxY6z/uVLNI8da95ikxyYXGgAAAAAg3bQYxAQAAAAAcGwkcAAAAAAQESRwAAAAABARJHAAAAAAEBEkcAAAAAAQESRwAAAAABARJHAAAAAAEBEkcAAQQa2traqurlZxcbGqq6vV2toadkgAgDT8TmOqHHMibwDA9NLa2qpEIqHm5mbV1taqvb1d9fX1kqR4PB5ydAAAfqcxlczdw44hQ01NjXd0dIQdBgBMW9XV1WpqalJdXd1IWVtbmxoaGtTZ2RliZMfPzJ5x95qw44gK6kggGvLpdxrhGK9+pAklAERMd3e3amtrM8pqa2vV3d0dUkQAgHTd3d3q6enJaELZ09PD7zSyggQOACImFoupvb09o6y9vV2xWCykiAAA6U477TStXbtWTU1N6uvrU1NTk9auXavTTjst7NCQB0jgACBiEomE6uvr1dbWpsHBQbW1tam+vl6JRCLs0AAAATMbdxmYLAYxAYCIGe4A39DQoO7ubsViMSWTSTrGA8A0sWfPHt13330Zv9ONjY269tprww4NeYAEDgAiKB6Pk7ABwDQVi8VUWVmZMWBJW1sbTd2RFTShBAAAALKIpu6YStyBAwAAALKIpu6YSiRwAAAAQJbR1B1ThSaUiLzW1taMeVZaW1vDDgkAABQ4zk8wVUjgEGmtra1KJBIZ86wkEgl+JJH3ODEAgOmL8xNMJRI4RFoymVRzc7Pq6upUUlKiuro6NTc3K5lMhh0aMGU4MZg+zKzFzH5hZp1HWW9m9ndmtsPMnjez305bd42Z/SR4XJO7qAFMNc5PMJXM3cOOIUNNTY13dHSEHQYiori4WH19fSopKRkpGxwcVHl5uYaGhkKMDJg61dXVampqUl1d3UhZW1ubGhoaMoasjgIze8bda8KOY7LM7A8lHZJ0v7tXj7H+UkkNki6VdL6ku939fDObL6lDUo0kl/SMpN9x9zfGez/qSCAaOD/BiRqvfuQOHCItFoupvb09o6y9vZ15VpDXuru7VVtbm1FWW1ur7u7ukCIqXO7+PUn7xtnkcqWSO3f3H0g6yczeKeliSU+6+74gaXtS0iVTHzGAXOD8BFOJBA6RxjwrKEScGETKQkm70pZ7grKjlb+Fma0ysw4z69i7d++UBQogezg/wVRiGgFEGvOsoBANnxg0NzertrZW7e3tqq+vp29FnnL3eyTdI6WaUIYcDoAJ4PwEU4kEDpHHPCsoNJwYRMpuSaenLVcGZbslXTiq/Ds5iwrAlOP8BFOFBA4AIogTg8jYKmmNmT2o1CAmB9z9Z2a2TdJ6M5sXbHeRpJvDChIAEB0kcAAATJKZtSp1J+1kM+uRdIukEkly902SHlNqBModkt6U9Mlg3T4z+wtJTwcvdbu7jzcYCgAAkhjEJGuYVBcACo+7x939ne5e4u6V7t7s7puC5E3B6JOfcfcz3P297t6Rtm+Lu787eNwb3qcAAEQJd+CyYHhS3dEDCkiiiRMAAACArOEOXBYkk0k1Nzerrq5OJSUlqqurU3NzMyPCAQAAAMgqErgsYFJdAAAAALlAApcFTKoLAAAAIBdI4LJgeFLdtrY2DQ4Oqq2tTfX19UokEmGHBgAAgCwzsyl5ABPBICZZwKS6AAAAhcPdJ7ytmR3X9sCxkMBlCZPqAgAAAJhqx2xCaWYtZvYLM+s8ynozs78zsx1m9ryZ/XbauiEzey54bM1m4MAw5uADAABAoZjIHbj7JG2UdP9R1i+XdGbwOF/Sl4O/kvRrdz/nxEIEjo45+AAAAFBIjnkHzt2/J2nfOJtcLul+T/mBpJPM7J3ZChAYD3PwAQAAoJBkYxTKhZJ2pS33BGWSVG5mHWb2AzO74mgvYGargu069u7dm4WQUCiYgw8AAACFZKqnEVjs7jWSVkj6WzM7Y6yN3P0ed69x95oFCxZMcUjIJ8zBBwAAgEKSjQRut6TT05YrgzK5+/DflyR9R9K5WXg/YARz8AEAAKCQZGMaga2S1pjZg0oNXnLA3X9mZvMkvenu/WZ2sqQLJG3IwvsBI5iDDwAAAIXkmAmcmbVKulDSyWbWI+kWSSWS5O6bJD0m6VJJOyS9KemTwa4xSf9gZkeUutN3p7t3ZfsDAMzBBwAAgEJxzATO3cc9M/bU1PKfGaP8+5LeO/nQAAAAAADppnoQEwAAAABAlpDAAQAAAEBEkMABAAAAQESQwAEAAABARJDAAQAAAEBEkMBlSWtrq6qrq1VcXKzq6mq1traGHRIAAACAPJONibwLXmtrqxKJhJqbm1VbW6v29nbV19dLEvOTAQAAAMga7sBlQTKZVHNzs+rq6lRSUqK6ujo1NzcrmUyGHRoAAACAPEIClwXd3d2qra3NKKutrVV3d3dIEQEAAADIRyRwWRCLxdTe3p5R1t7erlgsFlJEAAAAAPIRCVwWJBIJ1dfXq62tTYODg2pra1N9fb0SiUTYoQEAAADIIwxikgXDA5U0NDSou7tbsVhMyWSSAUwAAAAAZBV34LIkHo+rs7NTQ0ND6uzsJHkDAAAAQpDv03uRwAEAAOSpfD+RBUYbnt6rqalJfX19ampqUiKRyKvvPgkcAABAHiqEE1lgtGQyqRUrVqihoUHl5eVqaGjQihUr8mp6LxI4AIggrqojSvi+hoN5alGIurq69MADD2RcuHjggQfU1dUVdmhZQwIHABHDVXVECd/X8DBPLQpRaWmpGhoaMi5cNDQ0qLS0NOzQsoYEDgAihqvqiBK+r+GJxWK67bbbMu5+3nbbbcxTi7w2MDCgjRs3ZkzvtXHjRg0MDIQdWtaQwAFAxHBVHVHC9zU8dXV1amxs1MqVK3Xw4EGtXLlSjY2NqqurCzs0YMpUVVWN2Qeuqqoq7NCyhgQOACImFoupvb09o6y9vZ2r6piW+L6Gp62tTevWrVNLS4tmz56tlpYWrVu3Tm1tbWGHBkyZRCKhLVu2ZDTb3rJlixKJRNihZQ0TeQNAxCQSCdXX16u5uVm1tbVqb29XfX09TdIwLfF9DU93d7eeffZZ/eVf/uVI2eDgoO64444QowKm1vBczA0NDeru7lYsFlMymcyrOZpJ4AAgYgqhckL+4PsanuE+cI888sjIsb/iiiu4+4m8F4/H8/o3hgQOACIo3ysn5Be+r+EY7gPX2Nio1atXa9OmTVq3bp1Wr14ddmgATgB94AAAmCQzu8TMXjSzHWZ20xjrF5vZt83seTP7jplVpq0bMrPngsfW3EaOQkAfOCA/mbuHHUOGmpoa7+joCDsMAEAOmNkz7l4TdhyTYWbFkv5D0ock9Uh6WlLc3bvStvmGpG+5+1fN7AOSPunufxqsO+Tus47nPakjcTyKi4vV19enkpKSkbLBwUGVl5draGgoxMgKi5lpup1vY/obr37kDhwAAJNznqQd7v6Suw9IelDS5aO2qZK0PXjeNsZ6YMowAiiQn0jgACCCWltbMybnbW1tDTukQrRQ0q605Z6gLN2PJH0keP7Hkmab2duD5XIz6zCzH5jZFUd7EzNbFWzXsXfv3iyFnlt8X8MxPAJo+oTG9fX1eTWcOlCIGMQEACKmtbVViUTiLcOyS2KgiOnnc5I2mtm1kr4nabek4bZri919t5m9S9J2M/t3d//p6Bdw93sk3SOlmlDmJuzs4fsaHkYABfITfeAAIGKqq6vV1NSkurq6kbK2tjY1NDSos7MzxMiOX8T7wP2+pFvd/eJg+WZJcvcxJ9kys1mSfuzulWOsu0+pvnIPj/eeUawj8+n7CkwGfeAwGfSBA4A80t3drdra2oyy2tpadXd3hxRRwXpa0plmttTMSiVdJSljNEkzO9nMhuvamyW1BOXzzKxseBtJF0jqUh7i+woA2UUCBwARw8AE04O7H5a0RtI2Sd2Svu7uL5jZ7Wb24WCzCyW9aGb/IekUScmgPCapw8x+pNTgJnemj16ZT/i+AkB20QcOACJmeGCC0X2KksnksXdGVrn7Y5IeG1X2hbTnD0t6S7NId/++pPdOeYDTAN9XAMguEjgAiBgGJkCU8H0FgOwigQMAAFMqHo+TsAFAltAHDgAiprW1Vddff716e3slSb29vbr++uuZWwvTFvPAAUD2kMABQMSsXbtWg4ODGWWDg4Nau3ZtSBEBRzc8D1xTU5P6+vrU1NSkRCJBEgcAk0QCBwAR09PTMzKnUPrfnp6eMMMCxpRMJrVixQo1NDSovLxcDQ0NWrFiBYOYAMAkHTOBM7MWM/uFmY0526al/J2Z7TCz583st9PWXWNmPwke12QzcAAoZMN34MwsYxmYbrq6uvTAAw9k3IF74IEH1NWVl7MmAMCUm8gduPskXTLO+uWSzgweqyR9WZLMbL6kWySdL+k8SbeY2bwTCRYAkPLmm29q165dOnLkiHbt2qU333wz7JCAMZWWlqqhoUF1dXUqKSlRXV2dGhoaVFpaGnZoABBJx0zg3P17kvaNs8nlku73lB9IOsnM3inpYklPuvs+d39D0pMaPxEEAByHOXPmZPwFpqOBgQFt3LhRbW1tGhwcVFtbmzZu3KiBgYGwQwOASMpGH7iFknalLfcEZUcrfwszW2VmHWbWsXfv3iyEBAD5raSkRIcOHZIkHTp0SCUlJSFHBIytqqpqzD5wVVVVYYcGIE8N/96Y2cjvTj6ZFoOYuPs97l7j7jULFiwIOxwAmPYGBwczBjChDxymq0QioS1btmT0gduyZYsSiUTYoQHIQw0NDdq0aZPWr1+v3t5erV+/Xps2bcqrJC4bCdxuSaenLVcGZUcrB7KK+YVQqEaPRAlMR/F4XMlkMuMOXDKZZGLvHKGORKHZvHmzGhsbdcMNN2jmzJm64YYb1NjYqM2bN4cdWtZkI4HbKukTwWiUvyfpgLv/TNI2SReZ2bxg8JKLgjIga5hfCIWMPnCIing8rs7OTg0NDamzs5PkLUeoI1GI+vv7tXr16oyy1atXq7+/P6SIsm8i0wi0SnpK0n8ysx4zqzez1WY2fGQek/SSpB2SNkv6tCS5+z5JfyHp6eBxe1AGZE0ymVRzc3PG6GbNzc3ML4S89773vW9k5Mk333xT73vf+0KOCMB0Qx2JQlRWVqZNmzZllG3atEllZWUhRZR9M461gbuPe5nMU213PnOUdS2SWiYXGnBs3d3d6unpUXV1tbq7uxWLxbRu3Tp1d3eHHRowpX7605/q8ccfV21trdrb27mjAeAturu7VVtbm1FWW1tLHYm8dt1112ndunWSUnfeNm3apHXr1r3lrlyUHTOBA6az0047TevWrdMDDzwwciJ79dVX67TTTgs7NGDKVFZW6rXXXtMHPvCBkbKSkhJVVlaGGBWA6SYWi6m9vV11dXUjZe3t7YrFYiFGBUytpqYmSdLnP/953XjjjSorK9Pq1atHyvPBtBiFEjgRowdwYEAH5LuqqioNDg5q3rx5kqR58+ZpcHCQYdkBZEgkEqqvr8+Yg6++vp4RQJH3hvt9uvtI/898wh04RNqePXt03333qaGhYaQJ5YYNG3TttdeGHRowZb773e/q6quv1nPPPacDBw7otNNO06WXXqqHH3447NAATCPDTavT60hGAAWijwQOkRaLxVRZWanOzs6Rsra2NpqHIK/19/frnnvu0cyZM0fK3nzzTT3wwAMhRgVgOorH4yRsQJ6hCWWWMM9KOGgegkJUCCNsAQCAsZHAZQHzrISHCWJRiIZH2PriF7+oN998U1/84he1bt06XXfddWGHBmCa4QIzkH9sug34UFNT4x0dHWGHcVyqq6vV1NSUMcpTW1ubGhoaMpr2AcBEmdmUvO50+803s2fcvSbsOKIiinWklEoiksnkSD+sRCLBhbYcGL7A3NzcPDJSc319PRc6c8zMpt1vL6a/8epH7sBlAfOshIuri8hH7j6hx/FsywkEwkArlfAkk0mtWLEio5XKihUrmMgbiDgSuCyIxWL62Mc+pvLycpmZysvL9bGPfYyBNHKAEwMAmN6SyaSam5tVV1enkpIS1dXVqbm5mSQiB7q6uvTAAw9k1JEPPPCAurq6wg4NwAkggcuChQsX6pFHHtHMmTNlZpo5c6YeeeQRLVy4MOzQ8h4nBgAwvdFKJTylpaVqaGjIqCMbGhpUWloadmgATgAJXBZs375dFRUVmjt3riRp7ty5qqio0Pbt20OOLP9xYgAA01ssFlN7e3tGWXt7O61UcmBgYEAbN27MGKl548aNGhgYCDs0ACeABC4LDh8+rE9/+tOqqKiQmamiokKf/vSndfjw4bBDy3ucGADA9JZIJHTllVdq6dKlKioq0tKlS3XllVcy3UsOVFVVjdkHrqqqKuzQAJwAErgs+cpXvpLRxvwrX/lK2CEVBOaBA4DomKrRVTG2RCKhLVu2ZJyfbNmyhToSiDgSuCwoKirSgQMH9Oyzz2pwcFDPPvusDhw4oKIiDu9UYx44AJjeksmkHnroIb388ssaGhrSyy+/rIceeoi+yjlAHYlCle8jlDMPXBYUFRVp1qxZ6uvr0+DgoEpKSlReXq5Dhw7pyJEjYYeX9y6++GI9+eSTcneZmT70oQ9p27ZtYYcF5ETU5xdiHrjjE8U6sri4WH19fSopKRkpGxwcVHl5uYaGhkKMDMiNqP9OR02+zH/IPHBTrKqqSp/97Gd11llnqaioSGeddZY++9nP0sY8By6++GI98cQTGfNhPfHEE7r44otDjgwAINFXGUBuFcII5TPCDiAfJBKJo2b6mFpPPPGEJGnevHk6cOCA5s6dqzfeeGOkHAAQruFBTCoqKrRz504tXrxYvb29uvvuu8MODUAeKoQRyrkDlwXxeFyXXXaZli9frtLSUi1fvlyXXXZZpG7TRtmsWbP0zW9+U319ffrmN7+pWbNmhR0SAGAMDGICYKoVwl1/ErgsaG1t1aOPPqrHH39cAwMDevzxx/Xoo4/mXYfJ6epd73pXRgftd73rXWGHBAAIJJNJrVq1ShUVFZKkiooKrVq1ilYqAKZEIYxQTgKXBclkcsx5VqiccuP555/XGWecoddee01nnHGGnn/++bBDAgAEurq6xhzKvqurK+zQCkK+j8YHjFYIo6/SBy4Lurq69Oabb76lD9wrr7wSdmh5b3hkp61bt2rBggUZ5QCA8JWWlmrNmjWqq6uTJNXV1WnNmjX6/Oc/H3Jk+e9oo/FJyquTWWC0eDye199x7sBlQXrlNDzazZo1a1RaWhp2aHnvaMPyMlwvAEwPAwMDampqymjO1NTUpIGBgbBDy3vJZFJnn312Rh/9s88+mxZCQMRxBy4Lhiunc889d+QKF5VT7gzPLTQ8B9/wcwBA+KqqqnTmmWdq+fLl6u/vV1lZmZYvXz7SJw5T54UXXlB3d7fe8Y536Be/+IXmzZunrVu3MkctEHHcgcuCqqoqXX311Rltba+++mrmgcuRoaEh3Xnnnert7dWdd97JxLAAMI3U1dVp69atOumkk2RmOumkk7R169aRJpWYWhUVFdqyZYv6+vq0ZcsWEmcgD5DAZUEikRizg3Y+jXYznV144YVqaWnR7Nmz1dLSogsvvDDskAAUCDO7xMxeNLMdZnbTGOsXm9m3zex5M/uOmVWmrbvGzH4SPK7JbeS588gjj2jOnDl629veJjPT2972Ns2ZM0ePPPJI2KEVBDPTypUrVV5erpUrV9JHHMgDJHBZUAij3Uxn3/3ud7Vy5UodPHhQK1eu1He/+92wQwJQAMysWNKXJC2XVCUpbmajm178taT73f23JN0u6Y5g3/mSbpF0vqTzJN1iZvNyFXsu9fT0aPXq1RnTCKxevVo9PT0hR1YYhlulDPcNp5UKEH0kcIi0yspKlZaW6qabblJFRYVuuukmlZaWqrKy8tg7A8CJOU/SDnd/yd0HJD0o6fJR21RJ2h48b0tbf7GkJ919n7u/IelJSZfkIOZQ3HvvvRmtVO69996wQyoIxcXFevPNN9XQ0KBDhw6poaFBb775poqLi8MODZhS+T59BglcFrS2tur6669Xb2+v3F29vb26/vrr8+7LMh1t2LBBs2bN0sKFC2VmWrhwoWbNmqUNGzaEHRqA/LdQ0q605Z6gLN2PJH0keP7Hkmab2dsnuG9emDFjxlsGlhocHNSMGYyjNtWOHDmiWbNmZVzknDVrFoOYIK8NT5+RftEokUjk1Xk5CVwWrF27VsXFxWppaVF/f79aWlpUXFystWvXhh1a3ovH47r77rtVUVEhM1NFRYXuvvtumq8CmC4+J+n9ZvaspPdL2i3puNqwmdkqM+sws469e/dORYxTamhoSMXFxVq5cqXKysq0cuVKFRcX05QvB6qqqvTZz35WZ511loqKinTWWWfps5/9LIOsIa8lk0k1NzdnTO/V3NycV9NnkMBlQU9Pjz75yU9m9IH75Cc/Sfv+LDCzYz5WrFihF154QUeOHNELL7ygFStWTGg/ADhBuyWdnrZcGZSNcPc97v4Rdz9XUiIo2z+RfdNe4x53r3H3mgULFmQx/NyoqqrSqlWrMi60rVq1iiQiBxhkDYWou7tbtbW1GWW1tbXq7u4OKaLso/1Cltx7773asmXLyDxwK1asCDukvHA8E3KbGRN4A8ilpyWdaWZLlUq+rpKU8eNvZidL2ufuRyTdLKklWLVN0vq0gUsuCtbnnUQioUQioebm5pE6sr6+Pq+uhk9Xw61RGhoa1N3drVgsxiBryHuxWEy33XabHnnkkZHv/RVXXKFYLBZ2aFlDApcFM2bMeMuk3QMDA7TvB4A85u6HzWyNUslYsaQWd3/BzG6X1OHuWyVdKOkOM3NJ35P0mWDffWb2F0olgZJ0u7vvy/mHyAGSiKlzvK1JhlupHOsic6FeDF2yZIl27tw5Ja+d7ZY/ixcv1iuvvJLV18wXdXV1amxsVGNjo1avXq1NmzZp3bp1Wr16ddihZY1Nt/+kNTU13tHREXYYx6WoqEgVFRXq7+/X4OCgSkpKVFZWpt7eXjoK5xB34FCIov69N7Nn3L0m7DiiIop1JKaHqP9W5EKUjlGUYs216upqXXHFFW+5A/fII4+os7Mz7PAmbLz6kQQuC04//XQdPHhQ8+bN06uvvqpFixbpjTfe0OzZs7Vr165jvwCygh8zFKKof+9J4I5PFOtITA9R/63IhSgdoyjFmmvFxcXq6+tTSUnJSNng4KDKy8sjNXjSePUjg5hkycyZM9XS0qK+vj61tLRo5syZYYcEAAAAFJRYLKb29vaMsvb29rzqA0cClwV79uxRY2NjxiiUjY2N2rNnT9ihAQAwpSYy6u9kHgAwGYlEQvX19Wpra9Pg4KDa2tpUX1+fV6OvMspGFsRiMVVWVma0q21ra8urTB8AgLEwWjCA6aQQBk6a0B04M7vEzF40sx1mdtMY6xeb2bfN7Hkz+46ZVaatGzKz54LH1mwGP10UQqYPjKW1tVXV1dUqLi5WdXW1Wltbww4JAAAUuHg8rs7OTg0NDamzszOvkjdpAnfgzKxY0pckfUhSj6SnzWyru3elbfbXku5396+a2Qck3SHpT4N1v3b3c7Ib9vRSCJk+MFpra+uYcztJ4rsPAAAwRY45CqWZ/b6kW9394mD5Zkly9zvStnlB0iXuvstSDdcPuPucYN0hd5810YCm4whbU9kWn6Yk2UPTnNyqrq5WU1OT6urqRsra2trU0NAQqWF6oy7q33tGoTw+07GOPB5R/75GGcf+2KJ0jKIUKybnREehXCgpfSz8nqAs3Y8kfSR4/seSZpvZ24PlcjPrMLMfmNkVRwlwVbBNx969eycQUm65+4Qfk9keiKLu7m7V1tZmlNXW1qq7uzukiAAAAPJftkah/Jyk95vZs5LeL2m3pOGJFhYH2eMKSX9rZmeM3tnd73H3GnevWbBgQZZCAjCVCmGYXgAAgOlmIgncbkmnpy1XBmUj3H2Pu3/E3c+VlAjK9gd/dwd/X5L0HUnnnnDUAELH4D0AAAC5N5FpBJ6WdKaZLVUqcbtKqbtpI8zsZEn73P2IpJsltQTl8yS96e79wTYXSNqQxfgBhITBewAAAHLvmAmcux82szWStkkqltTi7i+Y2e2SOtx9q6QLJd1hZi7pe5I+E+wek/QPZnZEqbt9d44avRJAhMXjcRI2AACAHJpQHzh3f8zdz3L3M9w9GZR9IUje5O4Pu/uZwTb/zd37g/Lvu/t73f3s4G/z1H0UAAAAAIUu3+epzdYgJgAAAAAQqtbWVl1//fXq7e2Vu6u3t1fXX399XiVxJHAAJi3fr3ABAIBoWbt2rYqLi9XS0qL+/n61tLSouLhYa9euDTu0rJnIICYA8Batra1KJBJqbm5WbW2t2tvbVV9fL0n0iwMAAKHo6enRE088obq6OklSXV2d7r//fl100UUhR5Y93IEDMCnJZFLNzc2qq6tTSUmJ6urq1NzcrGQyGXZoAAAAeYsEDsCkdHd3q7a2NqOstrZW3d3dIUUEAAAKXWVlpa655pqMeWqvueYaVVZWhh1a1pDAAZiUWCym2267LaMP3G233aZYLBZ2aAAAoEBt2LBBhw4d0sUXX6zS0lJdfPHFOnTokDZsyJ+pqEngAExKXV2dGhsbtXLlSh08eFArV65UY2PjSJtzAAAAZB8JHIBJaWtr07p169TS0qLZs2erpaVF69atU1tbW9ihAQCAArV27VrNmjVL27Zt08DAgLZt26ZZs2bl1SiU5u5hx5ChpqbGOzo6wg5j0sxM0+2YFgqOfW4VFxerr69PJSUlI2WDg4MqLy/X0NBQiJEVlqh/783sGXevCTuOqKCOxGRx7I8tSscoSrHmmpnpiSee0Ic+9KGRsieffFIXXXRRpI7ZePUjd+AATAp94AAAwHS0ffv2jPOT7du3hx1SVpHAAZgU+sABAIDpZv78+dqwYUPG+cmGDRs0f/78sEPLGhI4AJNCHzgAADDdzJw5U3PmzFFTU5NmzZqlpqYmzZkzRzNnzgw7tKyhD1yW0SY5PBz73KIP3PQQ9e89feCOD3UkJotjf2xROkZRijXXiouL9YEPfEDf/va35e4yM33wgx/U9u3bI3V+Qh84AFkXi8XU3t6eUdbe3k4fOAAAEJqTTjpJ3/72t/WOd7xDZqZ3vOMd+va3v62TTjop7NCyZkbYAQCIpkQioSuvvFIVFRXauXOnFi9erN7eXt19991hhwYAAArU/v37j6s8irgDB2DS+vr6tHv3brm7du/erb6+vrBDAgAABezIkSOaM2eO3va2t8nM9La3vU1z5szRkSNHwg4ta0jgAExKIUyUCQAAoufKK6/Uyy+/rKGhIb388su68sorww4pqxjEJMvoVBoejn1u5ctEmVEX9e89g5gcH+pITBbHfgJunRt2BMfn1gNhRzAtmZmk1GAmQ0NDI38lRer/wHj1I33gAAAAUPDstl9F5gTfzOS3hh3F9FRRUaHe3t6Rf8vhvxUVFWGGlVU0oQQwKZWVlfrEJz6htrY2DQ4Oqq2tTZ/4xCdUWVkZdmgAAKBA9ff3q6KiQosWLZKZadGiRaqoqFB/f3/YoWUNCRyASdmwYYOGhoa0cuVKlZWVaeXKlRoaGtKGDRvCDg0AABSow4cPq6mpSRUVFTIzVVRUqKmpSYcPHw47tKwhgQMwKfF4XHfffXfGD+Tdd9+teDwedmgAAKBAlZWV6Y033lBnZ6eGhobU2dmpN954Q2VlZWGHljUMYpJldBIOD8cehSjq33sGMTk+1JGYLI79sUXpGEUp1mwbHqRkKkynYzpe/cgdOAAAAACR4O7HfKxZs2bkjltZWZnWrFkzof2iglEoAQAAAOSNpqYmNTU1yczU19cXdjhZxx04AAAAAIgIEjgAACbJzC4xsxfNbIeZ3TTG+kVm1mZmz5rZ82Z2aVC+xMx+bWbPBY9NuY8eABBFNKEEAGASzKxY0pckfUhSj6SnzWyru3elbfbnkr7u7l82sypJj0laEqz7qbufk8OQAQB5gDtwACattbVV1dXVKi4uVnV1tVpbW8MOCcil8yTtcPeX3H1A0oOSLh+1jUuaEzyfK2lPDuMDAOQh7sABmJTW1lYlEgk1NzertrZW7e3tqq+vlyTmgkOhWChpV9pyj6TzR21zq6QnzKxBUoWk/5y2bqmZPSvpV5L+3N3/eaw3MbNVklZJ0qJFi7ITOQAgsrgDB2BSksmkmpubVVdXp5KSEtXV1am5uVnJZDLs0IDpJC7pPnevlHSppH80syJJP5O0yN3PlXSDpC1mNmesF3D3e9y9xt1rFixYkLPAAQDTEwkcgEnp7u5WbW1tRlltba26u7tDigjIud2STk9brgzK0tVL+rokuftTksolnezu/e7+elD+jKSfSjpryiMGAEQeCRyASYnFYmpvb88oa29vVywWCykiIOeelnSmmS01s1JJV0naOmqbVyV9UJLMLKZUArfXzBYEg6DIzN4l6UxJL+UscgBAZJHAAZiURCKh+vp6tbW1aXBwUG1tbaqvr1cikQg7NCAn3P2wpDWStknqVmq0yRfM7HYz+3Cw2Y2SrjOzH0lqlXStu7ukP5T0vJk9J+lhSavdfV/OPwQAIHIYxATApAwPVNLQ0KDu7m7FYjElk0kGMEFBcffHlJoaIL3sC2nPuyRdMMZ+35T0zSkPEACQd7gDBwAAAAARMaEEzswuMbMXzWyHmd00xvrFZvZtM3vezL5jZpVp664xs58Ej2uyGTyA8AxPI9DU1KS+vj41NTUpkUgwFxwAAMAUOmYCF3Sy/pKk5ZKqJMXNrGrUZn8t6X53/y1Jt0u6I9h3vqRblJoX5zxJt5jZvOyFDyAsyWRSZ599tpYvX67S0lItX75cZ599NtMIAAAATKGJ9IE7T9IOd39JkszsQUmXS+pK26ZKqXlsJKlN0iPB84slPTncMdvMnpR0iVIduQFE2AsvvKCuri4VFxdLkoaGhvR//s//UWp8BgAAAEyFiTShXChpV9pyT1CW7keSPhI8/2NJs83s7RPcF0CENTY2qre3V42NjWGHAgAAkPeyNYjJ5yS938yelfR+pSYyHZrozma2ysw6zKxj7969WQoJwFQ76aSTdO6556qkpETnnnuuTjrppLBDAgAAyGsTSeB2Szo9bbkyKBvh7nvc/SPufq6kRFC2fyL7Btve4+417l6zYMGC4/sEAEJz1llnZfSBO+uss8IOCQAAIK9NJIF7WtKZZrbUzEolXSVpa/oGZnaymQ2/1s2SWoLn2yRdZGbzgsFLLgrKAEScmemHP/yhZs6cKUmaOXOmfvjDH8rMQo4MAAAgfx0zgXP3w5LWKJV4dUv6uru/YGa3m9mHg80ulPSimf2HpFMkJYN990n6C6WSwKcl3T48oAmAaBtO3A4cOJDxd7gcAAAA2TeRUSjl7o9JemxU2RfSnj8s6eGj7Nui39yRA5Anent79eEPf1jbtm1Tf3+/SkpKdPHFF2vr1q3H3hkAAACTkq1BTAAUoGXLlund7363ioqK9O53v1vLli0LOyQAAIC8RgIHYFLmz5+vDRs2aOXKlTp48KBWrlypDRs2aP78+WGHBgCRtWTJEplZ1h+Ssv6aS5YsCfdgAQVqQk0oAWC0mTNnamhoSE1NTfof/+N/aNGiRZo1axZ94MaxZMkS7dy5M+uvOxUDxyxevFivvPJK1l8XwPh27twpdw87jAlh0CogHNyBAzApe/bsUVNTkyoqKiRJFRUVampq0p49e0KObPoaPjGLwmMqEk0AAHDiuAMHYFJisZgqKyvV2dk5UtbW1qZYLBZiVAAAAPmNO3AAJiWRSKi+vl5tbW0aHBxUW1ub6uvrlUgkwg4N+P/bu/9gz+r6vuPPVxd1R83CWrZsBPZ7iYUBf7RQNxpLjWYy6sa00h/W7lpTmEndcSJ0QjQWOwm7YHBIOql2WmKDDsUmFYKY2g2lMiQCSRXiLvJDWVxYcVcWBbeCoh1Bd3n3j++5y3cvd/d+773f+z333Pt8zHznnh+fc77v7+d+7/nc9zmf8zmSJC1ZXoGTNCebNm0C4IILLuD+++/njDPO4LLLLju0XJKkLun1ep25r6/X67UdglpkAidpzjZt2mTCJklaEhZq4KYknRmYRt1gF0pJkiRJ6givwEk6ooXqSuKZSEmSpLkxgZN0RMMmWnYPkSRJGg+7UEqSJElSR5jASZKkw0xMTJBk5C9g5PucmJhot7IkaczsQilJkg6zd+/eznSL7sqw75I0Kl6BkyRJkqSOMIGTJEmSpI4wgZMkSZKkjjCBkyRJkqSOMIGTJEmSpI4wgZMkSZKkjvAxApIkSYtEbVkFW49tO4yh1JZVbYcgLUsmcJIkSYtELnmyU8/gq61tRyEtP3ahlCRJkqSOMIFTKyYmJkgy0hcw8n0mYWJiot3KkiRJkhp2oVQr9u7d26kuIpIkSdJi4BU4SZIkSeoIEzhJkiRJ6ggTOEmSJEnqCBM4SZIkSeoIEzhJkuYhyYYku5LsTnLRNOvXJbklyV1J7k3y1oF1H2y225XkLeONXJLURY5CKUnSHCVZAVwBvAnYB2xPsq2qdg4U+y3guqr6WJKXAzcCE830RuAVwEuBP09yWlUdHO+nkCR1iVfgJEmau9cAu6vqoar6MXAtcM6UMgWsaqaPBb7VTJ8DXFtVT1fVN4Ddzf4kSToiEzhJkubuRODhgfl9zbJBW4F3JdlH/+rbBbPYliSbk+xIsmP//v2jiluS1FEmcJIkLaxNwNVVdRLwVuCPkgzd/lbVlVW1vqrWr1mzZsGClCR1w7K+B25iYoK9e/eOfL9JRrq/Xq/Hnj17RrpPSeNXW1bB1mPbDmMotWXVzIUE8Ahw8sD8Sc2yQb8KbACoqtuTrASOH3JbSZIOs6wTuL1791JVbYcxo1EnhJLakUue7MQxB/rHndradhSdsB04Nckp9JOvjcA7p5T5JvCLwNVJzgBWAvuBbcCnkvwH+oOYnAp8aVyBS5K6aVkncJIkzUdVHUhyPnATsAK4qqruS3IpsKOqtgHvAz6e5EL6A5qcV/1M/r4k1wE7gQPAex2BUpI0k6ESuCQbgP9Iv3H6RFVdPmX9OuCTwHFNmYuq6sYkE8D9wK6m6B1V9Z7RhC5JUvuq6kb6g5MMLrt4YHoncPYRtr0MuGxBA5wDu/tK0uI1YwI3n2fcNOu+XlVnjjRqSZK0YOzuK0mL1zCjYM3nGTeSJEmSpBEZJoGbzzNuAE5JcleS25K8fro38Bk3kiRJkjSzUT0H7kjPuPk2sK6qzgJ+g/5oW8/prO4zbiRJkiRpZsMMYjLnZ9xU1XeAp5vldyb5OnAasGO+gUuSJC01vV6vM48P6vV6bYcgLUvDJHBzfsZNkjXA41V1MMnP0H/GzUMji16SJGkJ2bNnz4LsN0lnBqaRdHQzJnDzecZNkp8HLk3yE+AZ4D1V9fiCfRpJkiRJWsKGeg7cXJ9xU1WfAT4zzxglSZIkSYxuEBNJkiRJ0gIzgZMkSZKkjjCBkyRJkqSOMIGTJEmSpI4wgZMkSZKkjjCBkyRJkqSOMIGTJEmSpI4wgZMkSZKkjhjqQd7SqNWWVbD12LbDGEptWdV2CJIkSRJgAqeW5JInqaq2wxhKEmpr21FIkiRJdqGUJEmS1KK1a9eSZOQvYOT7XLt2bcu1ZQInSZIkqUWPPfZY2yEMbTHEagInSZIkSR1hAidJkiRJHeEgJpIk6TC9Xu/Q/SOLXa/XazsESRorEzhJknSYPXv2LMh+k3RmBGJJWqxM4CRpTLyqIUmS5ssETpLGZCGuanhFQ5Kk5cVBTCRJkiSpI0zgJEmSJKkjlnUXytqyCrYe23YYM6otq9oOQZIkSdIisKwTuFzyZCfuHUlCbW07CkmSJEltswulJEmSJHWECZwkSZIkdYQJnCRJkiR1hAmcJEmSJHWECZwkSZIkdYQJnCRJkiR1hAmcJEmSJHWECZwkSZIkdYQJnCRJkiR1hAmctMysXbuWJCN9ASPfZxLWrl3bcm1JR5dkQ5JdSXYnuWia9R9JcnfzeiDJ9wbWHRxYt22sgUuSOuuYtgOQNF6PPfZY2yEMrUuxavlJsgK4AngTsA/YnmRbVe2cLFNVFw6UvwA4a2AXP6qqM8cUrqQRmjx5OeryVTWXcLTMeAVOkqS5eQ2wu6oeqqofA9cC5xyl/CbgmrFEJmlBVdWCvKRheAVOrej1erM+e9WWXq/XdgiSFqcTgYcH5vcBr52uYJIecArw+YHFK5PsAA4Al1fVZ4+w7WZgM8C6devmH7UkqdNM4NSKPXv2jHyfSTx7JWmx2ghcX1UHB5b1quqRJD8DfD7JV6rq61M3rKorgSsB1q9f70FOkpY5u1BKkjQ3jwAnD8yf1CybzkamdJ+sqkeanw8Bt3L4/XGSJE1rqARuiFG21iW5JcldSe5N8taBdR9sttuV5C2jDF6SpBZtB05NckqS59NP0p4zmmSS04HVwO0Dy1YneUEzfTxwNrBz6raSJE01YxfKYUbZAn4LuK6qPpbk5cCNwEQzvRF4BfBS4M+TnDalC4kkSZ1TVQeSnA/cBKwArqqq+5JcCuyoqslkbiNwbR3ex/sM4A+TPEP/ZOrlU9pVSZKmNcw9cIdG2QJIMjnK1mBDU8CqZvpY4FvN9Dn0G62ngW8k2d3s73YkSeq4qrqR/knLwWUXT5nfOs12XwRetaDBSZKWpGG6UE43ytaJU8psBd6VZB/9huyCWWxLks1JdiTZsX///iFDlyRJkqTlZVSjUG4Crq6q30/yOuCPkrxy2I0dYUuSJElanmrLqpkL6ZBhErhhRtn6VWADQFXdnmQlcPyQ20qSJElapnLJk22HMCvP7Rg/XsN0oRxmlK1vAr8IkOQMYCWwvym3MckLkpwCnAp8aVTBS5IkSdJyMuMVuCFH2Xof8PEkF9If0OS8ZrSt+5JcR3/AkwPAex2BUpIkSZLmZqh74GYaZasZ+vjsI2x7GXDZPGKUJEmSJDHkg7wlSZIkSe0b1SiUndTr9UjSdhgz6vV6bYcgSZIkaRFY1gncnj17Rr7PJPRv/5MkSZKk0bILpSRJkiR1hAmcJEmSJHWECZwkSZIkdYQJnCRJkiR1xLIexESSJKmrZjuS9rDlHYxNWtxM4CRJkjrIREtanuxCKUmSJEkdYQInSZIkSR1hF0ppmaktq9oOQZIkSXNkAictM7nkybZDmJXa2nYEkiRJi4ddKCVJkiSpI0zgJEmSJKkjTOAkSZIkqSNM4CRJkiSpI0zgJEmSJKkjTOAkSZIkteaEE05oO4ShLYZYfYyAJEmSpNY8+uijC7LfJFTVguy7TV6BkyRJkqSOMIGTJEmSpI4wgZMkSZKkjjCBkyRJkqSOMIGTJEmSpI5wFEpJkjRnSRak/FIcOU6SRsEETpIkzZmJliSNl10oJUmSJKkjTOAkSZIkqSNM4CRJkiSpI0zgpGXmhBNOaDuEoXUpVkmSpHFwEBNpmXn00UdHvs8kDmQgSZI0Bl6BkyRpjpJsSLIrye4kF02z/iNJ7m5eDyT53sC6c5M82LzOHWvgkqTO8gqcJElzkGQFcAXwJmAfsD3JtqraOVmmqi4cKH8BcFYz/RJgC7AeKODOZtsnxvgRJEkd5BU4SZLm5jXA7qp6qKp+DFwLnHOU8puAa5rptwA3V9XjTdJ2M7BhQaOVJC0JJnCSJM3NicDDA/P7mmXPkaQHnAJ8frbbSpI0yAROkqSFtxG4vqoOznbDJJuT7EiyY//+/QsQmiSpS4ZK4OZ5k/bBgXXbRhi7JEltegQ4eWD+pGbZdDbybPfJWW1bVVdW1fqqWr9mzZp5hCtJWgpmHMRkPjdpN35UVWeOLGJJkhaH7cCpSU6hn3xtBN45tVCS04HVwO0Di28CPpxkdTP/ZuCDCxuuJGkpGOYK3Hxu0pYkaUmqqgPA+fSTsfuB66rqviSXJnnbQNGNwLU18LDEqnoc+BD9JHA7cGmzTJKkoxrmMQLT3Wj92ukKTnOTNsDKJDuAA8DlVfXZabbbDGwGWLdu3VCBS5LUtqq6EbhxyrKLp8xvPcK2VwFXLVhwkqQladSDmEx3k3avqtbT71by0SQvm7qR/fslSZIkaWbDJHDzuUmbqnqk+fkQcCuH3x8nSZIkSRrSMAncoZu0kzyffpL2nNEkp7tJO8nqJC9opo8HzgZ2Tt1WOpIkQ7/mUl6SJEnqkhnvgauqA0kmb9JeAVw1eZM2sKOqJpO559ykDZwB/GGSZ+gni5cPjl4pzeTwr5MkSZK0vA0ziMmcb9Kuqi8Cr5pHfJIkSZKkxqgHMZEkSZIkLRATOEmSJEnqCBM4SZIkSeoIEzhJkiRJ6ggTOEmSJEnqCBM4SZIkSeoIEzhJkiRJ6oihngMnSRqvJAtStqrmEo4kSVokTOAkaREy0ZIkSdOxC6UkSZIkdYQJnCRJkiR1hF0ohzCb+0tmW95uUpIkSZKGZQI3BJMsSZIkSYuBXSglSZIkqSNM4CRJkiSpI0zgJEmSJKkjTOAkSZIkqSNM4CRJkiSpI0zgJEmSJKkjTOAkSZIkqSNM4CRJkiSpI0zgJEmSJKkjTOAkSZIkqSNM4CRJkiSpI0zgJEmSJKkjTOAkSZIkqSNM4CRJkiSpI45pOwBJi1eSBSlbVXMJR5IkLXOz+X9jtuW78v+JCZykI+rKgUySJC0P/m9iF0pJkiRJ6gwTOEmSJEnqCBM4SZIkSeoIEzhJkiRJ6ggTOEmSJEnqCBM4SZLmKMmGJLuS7E5y0RHKvCPJziT3JfnUwPKDSe5uXtvGF7Ukqct8jIAkSXOQZAVwBfAmYB+wPcm2qto5UOZU4IPA2VX1RJK/NbCLH1XVmeOMWZLUfUNdgZvpDGOSjwycRXwgyfcG1p2b5MHmde4IY5ckqU2vAXZX1UNV9WPgWuCcKWXeDVxRVU8AVNV3xhyjJGmJmfEK3DBnGKvqwoHyFwBnNdMvAbYA64EC7my2fWKkn0KSpPE7EXh4YH4f8NopZU4DSPIFYAWwtao+16xbmWQHcAC4vKo+O92bJNkMbAZYt27dyIKXJHXTMFfghjnDOGgTcE0z/Rbg5qp6vEnabgY2zCdgSZI65BjgVOCN9NvHjyc5rlnXq6r1wDuBjyZ52XQ7qKorq2p9Va1fs2bNGEKWJC1mwyRw051hPHG6gkl6wCnA52e7rSRJHfMIcPLA/EnNskH7gG1V9ZOq+gbwAP2Ejqp6pPn5EHArTe8VSZKOZtSjUG4Erq+qg7PZKMnmJDuS7Ni/f/+IQ5IkaUFsB05NckqS59NvA6eOJvlZ+lffSHI8/S6VDyVZneQFA8vPBnYiSdIMhknghjnDOGkjz3afHHpbu4dIkrqmqg4A5wM3AfcD11XVfUkuTfK2pthNwHeT7ARuAX6zqr4LnAHsSHJPs/zywXvLJUk6kmEeI3DoDCP95Gsj/f76h0lyOrAauH1g8U3Ah5OsbubfTH84ZUmSOq+qbgRunLLs4oHpAn6jeQ2W+SLwqnHEKElaWmZM4KrqQJLJM4wrgKsmzzACO6pqsrvIRuDaprGa3PbxJB+inwQCXFpVj4/2I0iSJEnS8pCBfGtRSLIf2Nt2HPNwPPB/2w5imbLu22Pdt6frdd+rKvvOD8k2UvNg3bfHum9Pl+v+iO3jokvgui7JjmZYaI2Zdd8e67491r26xO9re6z79lj37VmqdT/qUSglSZIkSQvEBE6SJEmSOsIEbvSubDuAZcy6b4913x7rXl3i97U91n17rPv2LMm69x44SZIkSeoIr8BJkiRJUkeYwEmSJElSR5jAzVKSHzY/X5rk+rbjWQ6STCT5attxLAVJjkvya2N4nzcm+ftDlFuSv9skVyd5+zTL35jkhjHH8utJXniU9Z9I8vJxxqSlyfZx/JbqMbQNto/jYxs5fyZwc1RV36qq53z51A1Jjmk7hpYcBwzdQKVvLseJNwIzNlAajSQrjrL614FpG6ckK6rqX1fVzgUJjBlj0xJk+9htto/DsX3sjqXYRprAzdHgmZEkK5P81yRfSXJXkl9olp+X5E+TfC7Jg0l+r92oO+2YJP89yf1Jrk/ywiSvTnJbkjuT3JTkpwGSvDvJ9iT3JPnM5JmV5ozPf0ny18By/V1cDrwsyd1JPpLkL5J8ufnungOHvtu7kvw34KvAyUk+lmRHkvuSXDK5syR7klwysI/Tk0wA7wEubN7n9VPPtk2eqR/UvO9fNfv68jBnKMclyW83dfJ/klyT5P3N8jOT3JHk3iT/I8nqabbdkORrSb4M/NOB5S9KclWSLzXHjcn6H+q40dT97zb7/edJ3pzk9qbuPp3kxUn+DfBS4JYktzTb/TDJ7ye5B3hdkluTrG/WTbePDUk+PfC+h86QTld+uthG8TtQd9g+jp3t42jYPs6RbWQLbWRV+ZrFC/hh83MC+Goz/T7gqmb6dOCbwErgPOAh4Nhmfi9wctufoWuvpq4LOLuZvwr4TeCLwJpm2b8Y+B38zYFtfwe4oJm+GrgBWNH2Z2q5Lie/t8cAq5rp44HdQJoyzwA/N7DdS5qfK4Bbgb/TzO8ZqN9fAz7RTG8F3j+w/dXA2wfmp/s7eiGwspk+FdjRdn01sfwscHfzN/xTwIOTnw24F3hDM30p8NHBz9ts83DzeQJcB9zQlPkw8K5m+jjgAeBFwx43mrr/wMDv7y+BFzXz/xa4eKDc8QPbFfCOgflbgfVH2kfzPfnmwPKPAe8a4j0/0PbvztfY/1ZsH8df5xPYPo6yLm0fZ19vtpEttJHL9TL5qP0D4D8BVNXXkuwFTmvW/UVVfR8gyU6gR//Lqtl5uKq+0Ez/MfDvgFcCNyeB/oHz2836Vyb5Hfp/8C8GbhrYz6er6uBYIl78Anw4yc/Tb5BOBE5o1u2tqjsGyr4jyWb6B6qfBl5O/8AM8KfNzzsZOHs2B88D/nOSM4GDPPs31Lazgf9ZVU8BTyX5M4AkxwLHVdVtTblPAp+esu3pwDeq6sFmmz8GNjfr3gy8bfJMJf2GaF0zPexx40+anz9H/3fyhebv4fnA7Uf4PAeBz0yzfNp9VNWBJJ8D/lH69zX9MvAB4A0zvOefINk+joPt4+jZPg7PNrKFNtIEbuE9PTB9EOt8rqY+sPAHwH1V9bppyl4N/OOquifJefT7m0/6fwsSXTf9S2AN8Oqq+kmSPfQPkDBQT0lOAd4P/GxVPZHk6oFy8Ox3/Gjf7wM0XbbTv2fg+dOUuRB4DPi7TdmnZv+ROiXAP6uqXYctTF7L8MeNyd9TgJuratMQ7/vUEf5JO9o+rgXOBx6nf+b3B+m3SEd7T//WNBPbx9GwfRw928f22UYehffAjcZf0f9jJ8lp9M8Q7DrqFpqtdUkmG6N3AncAayaXJXleklc0638K+HaS59H8XnTID+jXD/S7H3ynaZx+gf4ZrOmson+g+X6SE4BfmuX7QL+7wKub6bfRP5s41bHAt6vqGeBX6J81Xgy+QP/M2sqm//o/BGjO/j2R5PVNuV8Bbpuy7deAiSQva+YHD+Q3ARc0B3mSnDWPGO8Azk7yt5t9vag5FsFzfxdz2cdtwN8D3k2/oZqpvDTJ9nHh2T6Ohu3j3NhGttBGmsCNxh8AfyPJV+hfEj2vqp6eYRvNzi7gvUnuB1bT75LzduB3mxtN7+bZUZ1+G/hr+geVr40/1MWrqr5L/3L+V4EzgfXN9/ZfcYS6qqp7gLua9Z+iX68z+TPgn6S5SRv4OPCG5nf1OqY/8/QHwLlNmdOPUGbsqmo7sI1+l5j/DXwF+H6z+lzg3ye5l359Xjpl26fodwf5X83Nyt8ZWP0h+g31vUnua+bnGuN++vcFXNPEcjv9OgS4Evhcmhu057KP5mzkDfT/OblhiPeUJtk+LjzbxxGwfZwb28h22sg0N9NJko4gyYur6ofpj9j2l8Dmqvpy23FJktQ228jxs7+5JM3syvQf5LkS+KQNkyRJh9hGjplX4CRJkiSpI7wHTpIkSZI6wgROkiRJkjrCBE6SJEmSOsIETpIkSZI6wgROkiRJkjri/wOj7ZCRZNnQrgAAAABJRU5ErkJggg==",
      "text/plain": [
       "<Figure size 1080x1080 with 4 Axes>"
      ]
     },
     "metadata": {
      "needs_background": "light"
     },
     "output_type": "display_data"
    }
   ],
   "source": [
    "plotting_boxplot(chord_scores)"
   ]
  },
  {
   "cell_type": "code",
   "execution_count": 5,
   "metadata": {},
   "outputs": [
    {
     "data": {
      "text/plain": [
       "{'lion': {'lion': tensor(0.7592),\n",
       "  'bear': tensor(0.7998),\n",
       "  'tarantula': tensor(0.8296),\n",
       "  'golden retriever': tensor(0.7984)},\n",
       " 'bear': {'lion': tensor(0.7998),\n",
       "  'bear': tensor(0.7784),\n",
       "  'tarantula': tensor(0.8427),\n",
       "  'golden retriever': tensor(0.8143)},\n",
       " 'tarantula': {'lion': tensor(0.8296),\n",
       "  'bear': tensor(0.8427),\n",
       "  'tarantula': tensor(0.7888),\n",
       "  'golden retriever': tensor(0.8637)},\n",
       " 'golden retriever': {'lion': tensor(0.7984),\n",
       "  'bear': tensor(0.8143),\n",
       "  'tarantula': tensor(0.8637),\n",
       "  'golden retriever': tensor(0.7517)}}"
      ]
     },
     "execution_count": 5,
     "metadata": {},
     "output_type": "execute_result"
    }
   ],
   "source": [
    "chord_average_scores"
   ]
  },
  {
   "cell_type": "code",
   "execution_count": 13,
   "metadata": {},
   "outputs": [
    {
     "name": "stdout",
     "output_type": "stream",
     "text": [
      "Constructing Nodes...\n",
      "Done.\n",
      "Retrieving Labels...\n",
      "Done.\n",
      "Constructing edges based on: chord\n"
     ]
    },
    {
     "name": "stderr",
     "output_type": "stream",
     "text": [
      "100%|██████████| 2000/2000 [01:17<00:00, 25.89it/s]\n"
     ]
    },
    {
     "name": "stdout",
     "output_type": "stream",
     "text": [
      "Done, Graph is done constructing.\n"
     ]
    }
   ],
   "source": [
    "x, y, edges = construct_graph(data_df, ['chord', 0, 0.78])"
   ]
  },
  {
   "cell_type": "markdown",
   "metadata": {},
   "source": [
    "# Running the GNN"
   ]
  },
  {
   "cell_type": "code",
   "execution_count": 14,
   "metadata": {},
   "outputs": [],
   "source": [
    "train_indeces = list(range(0,400)) + list(range(500,900)) + list(range(1000,1400)) + list(range(1500,1900))\n",
    "valid_indeces = list(range(400,450)) + list(range(900,950)) + list(range(1400,1450)) + list(range(1900,1950))\n",
    "test_indeces = list(range(450,500)) + list(range(950,1000)) + list(range(1450,1500)) + list(range(1950,2000))\n",
    "train_mask = torch.tensor([1 if i in train_indeces else 0 for i in range(x.shape[0])], dtype=torch.bool)\n",
    "valid_mask = torch.tensor([1 if i in valid_indeces else 0 for i in range(x.shape[0])], dtype=torch.bool)\n",
    "test_mask = torch.tensor([1 if i in test_indeces else 0 for i in range(x.shape[0])], dtype=torch.bool)"
   ]
  },
  {
   "cell_type": "code",
   "execution_count": 15,
   "metadata": {},
   "outputs": [],
   "source": [
    "data = Data(x=x, y=y, edge_index=edges, train_mask=train_mask, valid_mask=valid_mask, test_mask=test_mask)"
   ]
  },
  {
   "cell_type": "code",
   "execution_count": 16,
   "metadata": {},
   "outputs": [],
   "source": [
    "class GraphSAGE(torch.nn.Module):\n",
    "    def __init__(self, hidden_channels, output_dim, seed=1):\n",
    "        super().__init__()\n",
    "        torch.cuda.manual_seed(seed)\n",
    "        self.conv1 = SAGEConv((-1, -1), hidden_channels//2, aggr=\"mean\", normalize=True)\n",
    "        self.conv2 = SAGEConv((-1, -1), hidden_channels//4, aggr=\"mean\", normalize=True)\n",
    "        self.conv3 = SAGEConv((-1, -1), output_dim, aggr=\"mean\", normalize=True)\n",
    "\n",
    "    def forward(self, x, edge_index):\n",
    "        x = F.relu(self.conv1(x, edge_index))\n",
    "        x = F.relu(self.conv2(x, edge_index))\n",
    "        x = self.conv3(x, edge_index)\n",
    "        return F.log_softmax(x, dim=1)"
   ]
  },
  {
   "cell_type": "code",
   "execution_count": 17,
   "metadata": {},
   "outputs": [],
   "source": [
    "output_dim = len(set(data.y.tolist()))\n",
    "device = torch.device('cuda' if torch.cuda.is_available() else 'cpu')\n",
    "model = GraphSAGE(x.shape[1], output_dim).to(device)\n",
    "data = data.to(device)\n",
    "optimizer = torch.optim.Adam(model.parameters(), lr=0.0005, weight_decay=5e-4)"
   ]
  },
  {
   "cell_type": "code",
   "execution_count": 18,
   "metadata": {},
   "outputs": [],
   "source": [
    "def train():\n",
    "    model.train()\n",
    "    optimizer.zero_grad()\n",
    "    F.nll_loss(model(data.x, data.edge_index)[train_mask], data.y[train_mask]).backward()\n",
    "    optimizer.step()\n",
    "\n",
    "def test():\n",
    "    model.eval()\n",
    "    logits = model(data.x, data.edge_index)\n",
    "    accs = []\n",
    "    for mask in [train_mask, valid_mask, test_mask]:\n",
    "        pred = logits[mask].max(1)[1]\n",
    "        acc = pred.eq(data.y[mask]).sum().item() / mask.sum().item()\n",
    "        accs.append(acc)\n",
    "    return accs"
   ]
  },
  {
   "cell_type": "code",
   "execution_count": 19,
   "metadata": {},
   "outputs": [
    {
     "name": "stderr",
     "output_type": "stream",
     "text": [
      "  5%|▌         | 1/19 [00:09<02:44,  9.14s/it]"
     ]
    },
    {
     "name": "stdout",
     "output_type": "stream",
     "text": [
      "Epoch: 001, Val: 0.2500, Test: 0.2500\n"
     ]
    },
    {
     "name": "stderr",
     "output_type": "stream",
     "text": [
      " 11%|█         | 2/19 [00:18<02:32,  9.00s/it]"
     ]
    },
    {
     "name": "stdout",
     "output_type": "stream",
     "text": [
      "Epoch: 002, Val: 0.2650, Test: 0.2600\n"
     ]
    },
    {
     "name": "stderr",
     "output_type": "stream",
     "text": [
      " 16%|█▌        | 3/19 [00:26<02:20,  8.79s/it]"
     ]
    },
    {
     "name": "stdout",
     "output_type": "stream",
     "text": [
      "Epoch: 003, Val: 0.4700, Test: 0.4300\n"
     ]
    },
    {
     "name": "stderr",
     "output_type": "stream",
     "text": [
      " 21%|██        | 4/19 [00:35<02:11,  8.75s/it]"
     ]
    },
    {
     "name": "stdout",
     "output_type": "stream",
     "text": [
      "Epoch: 004, Val: 0.4900, Test: 0.4700\n"
     ]
    },
    {
     "name": "stderr",
     "output_type": "stream",
     "text": [
      " 26%|██▋       | 5/19 [00:44<02:02,  8.75s/it]"
     ]
    },
    {
     "name": "stdout",
     "output_type": "stream",
     "text": [
      "Epoch: 005, Val: 0.4900, Test: 0.4700\n"
     ]
    },
    {
     "name": "stderr",
     "output_type": "stream",
     "text": [
      " 32%|███▏      | 6/19 [00:52<01:51,  8.56s/it]"
     ]
    },
    {
     "name": "stdout",
     "output_type": "stream",
     "text": [
      "Epoch: 006, Val: 0.4900, Test: 0.4700\n"
     ]
    },
    {
     "name": "stderr",
     "output_type": "stream",
     "text": [
      " 37%|███▋      | 7/19 [01:00<01:43,  8.62s/it]"
     ]
    },
    {
     "name": "stdout",
     "output_type": "stream",
     "text": [
      "Epoch: 007, Val: 0.4900, Test: 0.4700\n"
     ]
    },
    {
     "name": "stderr",
     "output_type": "stream",
     "text": [
      " 42%|████▏     | 8/19 [01:09<01:33,  8.51s/it]"
     ]
    },
    {
     "name": "stdout",
     "output_type": "stream",
     "text": [
      "Epoch: 008, Val: 0.7000, Test: 0.6350\n"
     ]
    },
    {
     "name": "stderr",
     "output_type": "stream",
     "text": [
      " 47%|████▋     | 9/19 [01:17<01:25,  8.58s/it]"
     ]
    },
    {
     "name": "stdout",
     "output_type": "stream",
     "text": [
      "Epoch: 009, Val: 0.7000, Test: 0.6350\n"
     ]
    },
    {
     "name": "stderr",
     "output_type": "stream",
     "text": [
      " 53%|█████▎    | 10/19 [01:26<01:16,  8.54s/it]"
     ]
    },
    {
     "name": "stdout",
     "output_type": "stream",
     "text": [
      "Epoch: 010, Val: 0.7000, Test: 0.6350\n"
     ]
    },
    {
     "name": "stderr",
     "output_type": "stream",
     "text": [
      " 58%|█████▊    | 11/19 [01:34<01:08,  8.51s/it]"
     ]
    },
    {
     "name": "stdout",
     "output_type": "stream",
     "text": [
      "Epoch: 011, Val: 0.7500, Test: 0.6900\n"
     ]
    },
    {
     "name": "stderr",
     "output_type": "stream",
     "text": [
      " 63%|██████▎   | 12/19 [01:43<00:59,  8.47s/it]"
     ]
    },
    {
     "name": "stdout",
     "output_type": "stream",
     "text": [
      "Epoch: 012, Val: 0.7500, Test: 0.6900\n"
     ]
    },
    {
     "name": "stderr",
     "output_type": "stream",
     "text": [
      " 68%|██████▊   | 13/19 [01:51<00:50,  8.41s/it]"
     ]
    },
    {
     "name": "stdout",
     "output_type": "stream",
     "text": [
      "Epoch: 013, Val: 0.7500, Test: 0.6900\n"
     ]
    },
    {
     "name": "stderr",
     "output_type": "stream",
     "text": [
      " 74%|███████▎  | 14/19 [02:00<00:42,  8.49s/it]"
     ]
    },
    {
     "name": "stdout",
     "output_type": "stream",
     "text": [
      "Epoch: 014, Val: 0.7650, Test: 0.7100\n"
     ]
    },
    {
     "name": "stderr",
     "output_type": "stream",
     "text": [
      " 79%|███████▉  | 15/19 [02:12<00:38,  9.56s/it]"
     ]
    },
    {
     "name": "stdout",
     "output_type": "stream",
     "text": [
      "Epoch: 015, Val: 0.7650, Test: 0.7100\n"
     ]
    },
    {
     "name": "stderr",
     "output_type": "stream",
     "text": [
      " 84%|████████▍ | 16/19 [02:22<00:28,  9.66s/it]"
     ]
    },
    {
     "name": "stdout",
     "output_type": "stream",
     "text": [
      "Epoch: 016, Val: 0.8100, Test: 0.7550\n"
     ]
    },
    {
     "name": "stderr",
     "output_type": "stream",
     "text": [
      " 89%|████████▉ | 17/19 [02:30<00:18,  9.37s/it]"
     ]
    },
    {
     "name": "stdout",
     "output_type": "stream",
     "text": [
      "Epoch: 017, Val: 0.8100, Test: 0.7550\n"
     ]
    },
    {
     "name": "stderr",
     "output_type": "stream",
     "text": [
      " 95%|█████████▍| 18/19 [02:39<00:09,  9.16s/it]"
     ]
    },
    {
     "name": "stdout",
     "output_type": "stream",
     "text": [
      "Epoch: 018, Val: 0.8100, Test: 0.7550\n"
     ]
    },
    {
     "name": "stderr",
     "output_type": "stream",
     "text": [
      "100%|██████████| 19/19 [02:48<00:00,  8.86s/it]"
     ]
    },
    {
     "name": "stdout",
     "output_type": "stream",
     "text": [
      "Epoch: 019, Val: 0.8100, Test: 0.7550\n"
     ]
    },
    {
     "name": "stderr",
     "output_type": "stream",
     "text": [
      "\n"
     ]
    }
   ],
   "source": [
    "best_val_acc = test_acc = 0\n",
    "for epoch in tqdm(range(1,20)):\n",
    "    train()\n",
    "    _, val_acc, tmp_test_acc = test()\n",
    "    if val_acc > best_val_acc:\n",
    "        best_val_acc = val_acc\n",
    "        test_acc = tmp_test_acc\n",
    "    log = 'Epoch: {:03d}, Val: {:.4f}, Test: {:.4f}'\n",
    "    \n",
    "    if epoch % 1 == 0:\n",
    "        print(log.format(epoch, best_val_acc, test_acc))"
   ]
  },
  {
   "cell_type": "code",
   "execution_count": 1,
   "metadata": {},
   "outputs": [
    {
     "name": "stdout",
     "output_type": "stream",
     "text": [
      "Constructing Nodes...\n",
      "Done.\n",
      "Retrieving Labels...\n",
      "Done.\n",
      "Constructing edges based on: cosine\n"
     ]
    },
    {
     "name": "stderr",
     "output_type": "stream",
     "text": [
      "100%|██████████| 2000/2000 [00:06<00:00, 290.73it/s]\n"
     ]
    },
    {
     "name": "stdout",
     "output_type": "stream",
     "text": [
      "Done, Graph is done constructing.\n"
     ]
    },
    {
     "name": "stderr",
     "output_type": "stream",
     "text": [
      "100%|██████████| 100/100 [00:42<00:00,  2.36it/s]\n"
     ]
    },
    {
     "data": {
      "text/plain": [
       "([0.46, 0.81, 0.84, 0.875, 0.88, 0.9, 0.9, 0.89, 0.905, 0.905, 0.91],\n",
       " [0.39, 0.78, 0.815, 0.87, 0.88, 0.88, 0.88, 0.88, 0.875, 0.875, 0.89])"
      ]
     },
     "execution_count": 1,
     "metadata": {},
     "output_type": "execute_result"
    }
   ],
   "source": [
    "from generate_results import *\n",
    "\n",
    "get_accuracy(pd.read_csv('imagenet_embeddings.csv'), 'cosine', 1, 0.78, 1, True)"
   ]
>>>>>>> fff901a8fd031c2bf8cb13aa5d48a7752c76bd64
  }
 ],
 "metadata": {
  "kernelspec": {
   "display_name": "Python 3",
   "language": "python",
   "name": "python3"
  },
  "language_info": {
   "codemirror_mode": {
    "name": "ipython",
    "version": 3
   },
   "file_extension": ".py",
   "mimetype": "text/x-python",
   "name": "python",
   "nbconvert_exporter": "python",
   "pygments_lexer": "ipython3",
   "version": "3.8.19"
  }
 },
 "nbformat": 4,
 "nbformat_minor": 2
}
