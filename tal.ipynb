{
 "cells": [
  {
   "cell_type": "markdown",
   "metadata": {},
   "source": [
    "# Helper Function to Construct the Graph"
   ]
  },
  {
   "cell_type": "code",
   "execution_count": 1,
   "metadata": {},
   "outputs": [],
   "source": [
    "import pandas as pd\n",
    "def mapping(data: pd.DataFrame):\n",
    "    node_id_mapping, inverse_node_id_mapping = dict(), dict()\n",
    "    for i, node_id in enumerate(data['image_name']):\n",
    "        node_id_mapping[i] = node_id\n",
    "        inverse_node_id_mapping[node_id] = i\n",
    "    return node_id_mapping, inverse_node_id_mapping"
   ]
  },
  {
   "cell_type": "code",
   "execution_count": 2,
   "metadata": {},
   "outputs": [],
   "source": [
    "import torch\n",
    "def construct_nodes(data: pd.DataFrame):\n",
    "    raw_features = data['embedding'].apply(lambda x: (' '.join(x.strip('[').strip(']').strip().split())).split(' '))\n",
    "    return torch.from_numpy(np.array([[float(val) for val in feature_vector] for feature_vector in raw_features])).to(torch.float32)"
   ]
  },
  {
   "cell_type": "code",
   "execution_count": 3,
   "metadata": {},
   "outputs": [],
   "source": [
    "from tqdm import tqdm\n",
    "def construct_edges(features: torch.tensor, threshold: float, method):\n",
    "    source, target = [], []\n",
    "    for i in tqdm(range(features.shape[0])):\n",
    "        for j in range(i + 1, features.shape[0]):\n",
    "            if method(features[i], features[j]) > threshold:\n",
    "                source.append(i)\n",
    "                target.append(j)\n",
    "                source.append(j)\n",
    "                target.append(i)\n",
    "    return torch.tensor([source, target])"
   ]
  },
  {
   "cell_type": "code",
   "execution_count": 4,
   "metadata": {},
   "outputs": [],
   "source": [
    "def get_labels(data: pd.DataFrame, subject_mapping):\n",
    "    labels = data['class_name'].apply(lambda x: subject_mapping[x])\n",
    "    return torch.tensor(labels)"
   ]
  },
  {
   "cell_type": "code",
   "execution_count": 5,
   "metadata": {},
   "outputs": [],
   "source": [
    "def cosine_similarity(x: torch.tensor, y: torch.tensor):\n",
    "    cos = torch.nn.CosineSimilarity(dim=-1, eps=1e-6)\n",
    "    return cos(x,y)\n",
    "\n",
    "def city_block(x: torch.tensor, y: torch.tensor):\n",
    "    return torch.cdist(x, y, p=1)\n",
    "\n",
    "def euclidian(x: torch.tensor, y: torch.tensor):\n",
    "    return torch.cdist(x, y, p=2)"
   ]
  },
  {
   "cell_type": "markdown",
   "metadata": {},
   "source": [
    "# Reading the Data and Exploring"
   ]
  },
  {
   "cell_type": "code",
   "execution_count": 6,
   "metadata": {},
   "outputs": [],
   "source": [
    "data = pd.read_csv('imagenet_embeddings.csv')"
   ]
  },
  {
   "cell_type": "code",
   "execution_count": 7,
   "metadata": {},
   "outputs": [
    {
     "data": {
      "text/plain": [
       "{'lion': 0, 'bear': 1, 'tarantula': 2, 'golden retriever': 3}"
      ]
     },
     "execution_count": 7,
     "metadata": {},
     "output_type": "execute_result"
    }
   ],
   "source": [
    "classes = data['class_name'].unique()\n",
    "subject_mapping = dict()\n",
    "for i, class_name in enumerate(classes):\n",
    "    subject_mapping[class_name] = i\n",
    "subject_mapping"
   ]
  },
  {
   "cell_type": "code",
   "execution_count": 8,
   "metadata": {},
   "outputs": [],
   "source": [
    "import numpy as np\n",
    "x = construct_nodes(data)\n",
    "y = get_labels(data, subject_mapping)"
   ]
  },
  {
   "cell_type": "code",
   "execution_count": 9,
   "metadata": {},
   "outputs": [],
   "source": [
    "def construct_matrix(matrix, method):\n",
    "    n = matrix.shape[0]\n",
    "    similarity_matrix = np.zeros((n, n))\n",
    "    for i in tqdm(range(n)):\n",
    "        for j in range(n):\n",
    "            similarity_matrix[i][j] = method(matrix[i], matrix[j])\n",
    "    return similarity_matrix"
   ]
  },
  {
   "cell_type": "markdown",
   "metadata": {},
   "source": [
    "# Euclidian"
   ]
  },
  {
   "cell_type": "code",
   "execution_count": 10,
   "metadata": {},
   "outputs": [],
   "source": [
    "euclidian = torch.cdist(x, x, p=2)"
   ]
  },
  {
   "cell_type": "markdown",
   "metadata": {},
   "source": [
    "# City Block"
   ]
  },
  {
   "cell_type": "code",
   "execution_count": 11,
   "metadata": {},
   "outputs": [],
   "source": [
    "city_block = torch.cdist(x, x, p=1)"
   ]
  },
  {
   "cell_type": "markdown",
   "metadata": {},
   "source": [
    "# Max Norm"
   ]
  },
  {
   "cell_type": "code",
   "execution_count": 12,
   "metadata": {},
   "outputs": [],
   "source": [
    "max_norm = torch.max(torch.abs(x[:, None] - x), dim=2).values"
   ]
  },
  {
   "cell_type": "code",
   "execution_count": null,
   "metadata": {},
   "outputs": [
    {
     "data": {
      "text/plain": [
       "torch.Size([2000, 2000])"
      ]
     },
     "execution_count": 296,
     "metadata": {},
     "output_type": "execute_result"
    }
   ],
   "source": [
    "\n",
    "max_norm.size()"
   ]
  },
  {
   "cell_type": "markdown",
   "metadata": {},
   "source": [
    "# Cosine"
   ]
  },
  {
   "cell_type": "code",
   "execution_count": null,
   "metadata": {},
   "outputs": [],
   "source": [
    "from sklearn.metrics.pairwise import cosine_similarity\n",
    "similarities = cosine_similarity(x)"
   ]
  },
  {
   "cell_type": "markdown",
   "metadata": {},
   "source": [
    "# BoxPlot"
   ]
  },
  {
   "cell_type": "code",
   "execution_count": 101,
   "metadata": {},
   "outputs": [],
   "source": [
    "def analysis(class_matrix, class_index: int, subject_mapping: dict):\n",
    "    classes_names = list(subject_mapping.keys())\n",
    "    class_dict = dict()\n",
    "    for name in classes_names:\n",
    "        class_dict[name] = []\n",
    "    for i in range(class_matrix.shape[0]):\n",
    "        relevant_index = list(range(class_index * 500, (class_index+1) * 500))\n",
    "        same_class_vectors = class_matrix[i][relevant_index]\n",
    "        class_dict[classes_names[class_index]].append((sum(same_class_vectors) - 1) / (len(same_class_vectors) - 1))\n",
    "        for j in range(1, 4):\n",
    "            relevant_index = list(range((class_index - j) * 500, (class_index - j +1) * 500))\n",
    "            other_class_vectors = [class_matrix[i][k] for k in relevant_index]\n",
    "            class_dict[classes_names[class_index - j]].append(sum(other_class_vectors) / len(other_class_vectors))\n",
    "    \n",
    "    return class_dict"
   ]
  },
  {
   "cell_type": "code",
   "execution_count": 134,
   "metadata": {},
   "outputs": [],
   "source": [
    "def for_plotting(similarities, subject_mapping: dict):\n",
    "    scoring_dict = dict()\n",
    "    averages_dict = dict()\n",
    "    for i, class_name in tqdm(enumerate(subject_mapping)):\n",
    "        main_class_vectors = similarities[i * 500 : (i + 1) * 500]\n",
    "        scoring_dict[class_name] = analysis(main_class_vectors, i, subject_mapping)\n",
    "    for main_class in subject_mapping.keys():\n",
    "        averages_dict[main_class] = dict()\n",
    "        for secondary_class in subject_mapping.keys():\n",
    "            scores_list = scoring_dict[main_class][secondary_class]\n",
    "            averages_dict[main_class][secondary_class] = sum(scores_list) / len(scores_list)\n",
    "    \n",
    "    return scoring_dict, averages_dict"
   ]
  },
  {
   "cell_type": "code",
   "execution_count": 135,
   "metadata": {},
   "outputs": [
    {
     "name": "stderr",
     "output_type": "stream",
     "text": [
      "4it [00:21,  5.46s/it]\n"
     ]
    }
   ],
   "source": [
    "scoring_dict, averages_dict = for_plotting(euclidian, subject_mapping)"
   ]
  },
  {
   "cell_type": "code",
   "execution_count": 136,
   "metadata": {},
   "outputs": [
    {
     "data": {
      "text/plain": [
       "({'lion': tensor(0.7592),\n",
       "  'bear': tensor(0.7998),\n",
       "  'tarantula': tensor(0.8296),\n",
       "  'golden retriever': tensor(0.7984)},\n",
       " {'lion': tensor(0.7998),\n",
       "  'bear': tensor(0.7784),\n",
       "  'tarantula': tensor(0.8427),\n",
       "  'golden retriever': tensor(0.8143)},\n",
       " {'lion': tensor(0.8296),\n",
       "  'bear': tensor(0.8427),\n",
       "  'tarantula': tensor(0.7888),\n",
       "  'golden retriever': tensor(0.8637)},\n",
       " {'lion': tensor(0.7984),\n",
       "  'bear': tensor(0.8143),\n",
       "  'tarantula': tensor(0.8637),\n",
       "  'golden retriever': tensor(0.7517)})"
      ]
     },
     "execution_count": 136,
     "metadata": {},
     "output_type": "execute_result"
    }
   ],
   "source": [
    "averages_dict['lion'], averages_dict['bear'], averages_dict['tarantula'], averages_dict['golden retriever']"
   ]
  },
  {
   "cell_type": "code",
   "execution_count": 257,
   "metadata": {},
   "outputs": [
    {
     "name": "stderr",
     "output_type": "stream",
     "text": [
      "100%|██████████| 4/4 [00:00<00:00,  5.52it/s]\n"
     ]
    },
    {
     "data": {
      "image/png": "[encoded data removed]",
      "text/plain": [
       "<Figure size 432x288 with 1 Axes>"
      ]
     },
     "metadata": {
      "needs_background": "light"
     },
     "output_type": "display_data"
    }
   ],
   "source": [
    "import matplotlib.pyplot as plt\n",
    "\n",
    "cosine_test = for_box_plots(similarities)\n",
    "plt.boxplot(cosine_test[0], positions=range(len(cosine_test[0])))\n",
    "plt.show()"
   ]
  },
  {
   "cell_type": "code",
   "execution_count": 282,
   "metadata": {},
   "outputs": [
    {
     "name": "stderr",
     "output_type": "stream",
     "text": [
      "100%|██████████| 4/4 [00:30<00:00,  7.70s/it]\n"
     ]
    },
    {
     "data": {
      "image/png": "[encoded data removed]",
      "text/plain": [
       "<Figure size 432x288 with 1 Axes>"
      ]
     },
     "metadata": {
      "needs_background": "light"
     },
     "output_type": "display_data"
    }
   ],
   "source": [
    "euclidian_test = for_box_plots(euclidian)\n",
    "plt.boxplot(euclidian_test[0], positions=range(len(euclidian_test[0])))\n",
    "plt.show()"
   ]
  },
  {
   "cell_type": "code",
   "execution_count": 309,
   "metadata": {},
   "outputs": [
    {
     "data": {
      "text/plain": [
       "array([0.75297491, 0.78933421, 0.84796432])"
      ]
     },
     "execution_count": 309,
     "metadata": {},
     "output_type": "execute_result"
    }
   ],
   "source": [
    "np.percentile(euclidian_test[0][3], [10, 50, 90])"
   ]
  },
  {
   "cell_type": "code",
   "execution_count": 283,
   "metadata": {},
   "outputs": [
    {
     "name": "stderr",
     "output_type": "stream",
     "text": [
      "100%|██████████| 4/4 [00:27<00:00,  6.78s/it]\n"
     ]
    },
    {
     "data": {
      "image/png": "[encoded data removed]",
      "text/plain": [
       "<Figure size 432x288 with 1 Axes>"
      ]
     },
     "metadata": {
      "needs_background": "light"
     },
     "output_type": "display_data"
    }
   ],
   "source": [
    "city_block_test = for_box_plots(city_block)\n",
    "plt.boxplot(city_block_test[0], positions=range(len(city_block_test[0])))\n",
    "plt.show()"
   ]
  },
  {
   "cell_type": "code",
   "execution_count": 284,
   "metadata": {},
   "outputs": [
    {
     "data": {
      "text/plain": [
       "array([12.38777609, 12.85571051, 13.79123812])"
      ]
     },
     "execution_count": 284,
     "metadata": {},
     "output_type": "execute_result"
    }
   ],
   "source": [
    "np.percentile(city_block_test[0][3], [10, 50, 90])"
   ]
  },
  {
   "cell_type": "code",
   "execution_count": 297,
   "metadata": {},
   "outputs": [
    {
     "name": "stderr",
     "output_type": "stream",
     "text": [
      "100%|██████████| 4/4 [00:28<00:00,  7.24s/it]\n"
     ]
    },
    {
     "data": {
      "image/png": "[encoded data removed]",
      "text/plain": [
       "<Figure size 432x288 with 1 Axes>"
      ]
     },
     "metadata": {
      "needs_background": "light"
     },
     "output_type": "display_data"
    }
   ],
   "source": [
    "max_norm_test = for_box_plots(max_norm)\n",
    "plt.boxplot(max_norm_test[0], positions=range(len(max_norm_test[0])))\n",
    "plt.show()"
   ]
  },
  {
   "cell_type": "code",
   "execution_count": 298,
   "metadata": {},
   "outputs": [
    {
     "data": {
      "text/plain": [
       "array([0.15432354, 0.16856233, 0.20794925])"
      ]
     },
     "execution_count": 298,
     "metadata": {},
     "output_type": "execute_result"
    }
   ],
   "source": [
    "np.percentile(max_norm_test[0][3], [10, 50, 90])"
   ]
  },
  {
   "cell_type": "code",
   "execution_count": 260,
   "metadata": {},
   "outputs": [],
   "source": [
    "def construct_edges(similarities, lower_threshold, upper_threshold):\n",
    "    source, target = [], []\n",
    "    for i in tqdm(range(similarities.shape[0])):\n",
    "        for j in range(similarities.shape[1]):\n",
    "            if lower_threshold < similarities[i][j] < upper_threshold and i != j:\n",
    "                source.append(i)\n",
    "                target.append(j)\n",
    "    return torch.tensor([source, target])"
   ]
  },
  {
   "cell_type": "code",
   "execution_count": 299,
   "metadata": {},
   "outputs": [
    {
     "name": "stderr",
     "output_type": "stream",
     "text": [
      "100%|██████████| 2000/2000 [01:02<00:00, 32.05it/s]\n"
     ]
    }
   ],
   "source": [
    "edges = construct_edges(max_norm, 0.15, 0.2)"
   ]
  },
  {
   "cell_type": "markdown",
   "metadata": {},
   "source": [
    "# Running GNN"
   ]
  },
  {
   "cell_type": "code",
   "execution_count": 156,
   "metadata": {},
   "outputs": [
    {
     "name": "stdout",
     "output_type": "stream",
     "text": [
      "Constructing Nodes...\n",
      "Done.\n",
      "Retrieving Labels...\n",
      "Done.\n",
      "Constructing edges based on: euclidian\n"
     ]
    },
    {
     "name": "stderr",
     "output_type": "stream",
     "text": [
      "100%|██████████| 2000/2000 [01:12<00:00, 27.76it/s]\n"
     ]
    },
    {
     "name": "stdout",
     "output_type": "stream",
     "text": [
      "Done, Graph is done constructing.\n"
     ]
    }
   ],
   "source": [
    "from generate_graph import construct_graph\n",
    "\n",
    "x, y, edges = construct_graph(pd.read_csv('imagenet_embeddings.csv'), ['euclidian', 0, 0.75])"
   ]
  },
  {
   "cell_type": "code",
   "execution_count": 157,
   "metadata": {},
   "outputs": [],
   "source": [
    "train_indeces = list(range(0,400)) + list(range(500,900)) + list(range(1000,1400)) + list(range(1500,1900))\n",
    "valid_indeces = list(range(400,450)) + list(range(900,950)) + list(range(1400,1450)) + list(range(1900,1950))\n",
    "test_indeces = list(range(450,500)) + list(range(950,1000)) + list(range(1450,1500)) + list(range(1950,2000))"
   ]
  },
  {
   "cell_type": "code",
   "execution_count": 158,
   "metadata": {},
   "outputs": [],
   "source": [
    "train_mask = torch.tensor([1 if i in train_indeces else 0 for i in range(x.shape[0])], dtype=torch.bool)\n",
    "valid_mask = torch.tensor([1 if i in valid_indeces else 0 for i in range(x.shape[0])], dtype=torch.bool)\n",
    "test_mask = torch.tensor([1 if i in test_indeces else 0 for i in range(x.shape[0])], dtype=torch.bool)"
   ]
  },
  {
   "cell_type": "code",
   "execution_count": 159,
   "metadata": {},
   "outputs": [],
   "source": [
    "from torch_geometric.data import Data\n",
    "\n",
    "data = Data(x=x, y=y, edge_index=edges, train_mask=train_mask, valid_mask=valid_mask, test_mask=test_mask)"
   ]
  },
  {
   "cell_type": "code",
   "execution_count": 160,
   "metadata": {},
   "outputs": [],
   "source": [
    "class GraphSAGE(torch.nn.Module):\n",
    "    def __init__(self, hidden_channels, output_dim, seed=1):\n",
    "        super().__init__()\n",
    "        torch.cuda.manual_seed(seed)\n",
    "        self.conv1 = SAGEConv((-1, -1), hidden_channels, normalize=True)\n",
    "        self.conv2 = SAGEConv((-1, -1), hidden_channels//2, normalize=True)\n",
    "        self.conv3 = SAGEConv((-1, -1), output_dim, normalize=True)\n",
    "\n",
    "    def forward(self, x, edge_index):\n",
    "        # TODO: Complete this function\n",
    "        x = self.conv1(x, edge_index)\n",
    "        x = self.conv2(x, edge_index)\n",
    "        x = self.conv3(x, edge_index)\n",
    "        return F.log_softmax(x, dim=1)"
   ]
  },
  {
   "cell_type": "code",
   "execution_count": 161,
   "metadata": {},
   "outputs": [],
   "source": [
    "class GraphSAGE(torch.nn.Module):\n",
    "    def __init__(self, hidden_channels, output_dim, seed=1):\n",
    "        super().__init__()\n",
    "        torch.cuda.manual_seed(seed)\n",
    "        self.conv1 = SAGEConv((-1, -1), hidden_channels//2, aggr=\"mean\", normalize=True)\n",
    "        self.conv2 = SAGEConv((-1, -1), hidden_channels//4, aggr=\"mean\", normalize=True)\n",
    "        self.conv3 = SAGEConv((-1, -1), output_dim, aggr=\"mean\", normalize=True)\n",
    "\n",
    "    def forward(self, x, edge_index):\n",
    "        # TODO: Complete this function\n",
    "        x = F.relu(self.conv1(x, edge_index))\n",
    "        x = F.relu(self.conv2(x, edge_index))\n",
    "        x = self.conv3(x, edge_index)\n",
    "        return F.log_softmax(x, dim=1)"
   ]
  },
  {
   "cell_type": "code",
   "execution_count": 162,
   "metadata": {},
   "outputs": [],
   "source": [
    "output_dim = len(set(data.y.tolist()))\n",
    "device = torch.device('cuda' if torch.cuda.is_available() else 'cpu')\n",
    "model = GraphSAGE(x.shape[1], output_dim).to(device)\n",
    "data = data.to(device)\n",
    "optimizer = torch.optim.Adam(model.parameters(), lr=0.001, weight_decay=5e-4)"
   ]
  },
  {
   "cell_type": "code",
   "execution_count": 163,
   "metadata": {},
   "outputs": [],
   "source": [
    "def train():\n",
    "    model.train()\n",
    "    optimizer.zero_grad()\n",
    "    F.nll_loss(model(data.x, data.edge_index)[train_mask], data.y[train_mask]).backward()\n",
    "    optimizer.step()"
   ]
  },
  {
   "cell_type": "code",
   "execution_count": 164,
   "metadata": {},
   "outputs": [],
   "source": [
    "def test():\n",
    "    model.eval()\n",
    "    logits = model(data.x, data.edge_index)\n",
    "    accs = []\n",
    "    for mask in [train_mask, valid_mask, test_mask]:\n",
    "        pred = logits[mask].max(1)[1]\n",
    "        acc = pred.eq(data.y[mask]).sum().item() / mask.sum().item()\n",
    "        accs.append(acc)\n",
    "    return accs"
   ]
  },
  {
   "cell_type": "code",
   "execution_count": 165,
   "metadata": {},
   "outputs": [
    {
     "name": "stderr",
     "output_type": "stream",
     "text": [
      "  5%|▌         | 1/19 [00:06<02:01,  6.74s/it]"
     ]
    },
    {
     "name": "stdout",
     "output_type": "stream",
     "text": [
      "Epoch: 001, Val: 0.2400, Test: 0.2450\n"
     ]
    },
    {
     "name": "stderr",
     "output_type": "stream",
     "text": [
      " 11%|█         | 2/19 [00:11<01:31,  5.41s/it]"
     ]
    },
    {
     "name": "stdout",
     "output_type": "stream",
     "text": [
      "Epoch: 002, Val: 0.6050, Test: 0.5400\n"
     ]
    },
    {
     "name": "stderr",
     "output_type": "stream",
     "text": [
      " 16%|█▌        | 3/19 [00:15<01:17,  4.85s/it]"
     ]
    },
    {
     "name": "stdout",
     "output_type": "stream",
     "text": [
      "Epoch: 003, Val: 0.6050, Test: 0.5400\n"
     ]
    },
    {
     "name": "stderr",
     "output_type": "stream",
     "text": [
      " 21%|██        | 4/19 [00:19<01:08,  4.59s/it]"
     ]
    },
    {
     "name": "stdout",
     "output_type": "stream",
     "text": [
      "Epoch: 004, Val: 0.6050, Test: 0.5400\n"
     ]
    },
    {
     "name": "stderr",
     "output_type": "stream",
     "text": [
      " 26%|██▋       | 5/19 [00:23<01:02,  4.48s/it]"
     ]
    },
    {
     "name": "stdout",
     "output_type": "stream",
     "text": [
      "Epoch: 005, Val: 0.6050, Test: 0.5400\n"
     ]
    },
    {
     "name": "stderr",
     "output_type": "stream",
     "text": [
      " 32%|███▏      | 6/19 [00:28<00:56,  4.37s/it]"
     ]
    },
    {
     "name": "stdout",
     "output_type": "stream",
     "text": [
      "Epoch: 006, Val: 0.6300, Test: 0.6000\n"
     ]
    },
    {
     "name": "stderr",
     "output_type": "stream",
     "text": [
      " 37%|███▋      | 7/19 [00:32<00:54,  4.51s/it]"
     ]
    },
    {
     "name": "stdout",
     "output_type": "stream",
     "text": [
      "Epoch: 007, Val: 0.6300, Test: 0.6000\n"
     ]
    },
    {
     "name": "stderr",
     "output_type": "stream",
     "text": [
      " 42%|████▏     | 8/19 [00:38<00:53,  4.85s/it]"
     ]
    },
    {
     "name": "stdout",
     "output_type": "stream",
     "text": [
      "Epoch: 008, Val: 0.6300, Test: 0.6000\n"
     ]
    },
    {
     "name": "stderr",
     "output_type": "stream",
     "text": [
      " 47%|████▋     | 9/19 [00:43<00:48,  4.86s/it]"
     ]
    },
    {
     "name": "stdout",
     "output_type": "stream",
     "text": [
      "Epoch: 009, Val: 0.6300, Test: 0.6000\n"
     ]
    },
    {
     "name": "stderr",
     "output_type": "stream",
     "text": [
      " 53%|█████▎    | 10/19 [00:48<00:43,  4.84s/it]"
     ]
    },
    {
     "name": "stdout",
     "output_type": "stream",
     "text": [
      "Epoch: 010, Val: 0.6650, Test: 0.6500\n"
     ]
    },
    {
     "name": "stderr",
     "output_type": "stream",
     "text": [
      " 58%|█████▊    | 11/19 [00:53<00:38,  4.87s/it]"
     ]
    },
    {
     "name": "stdout",
     "output_type": "stream",
     "text": [
      "Epoch: 011, Val: 0.6650, Test: 0.6500\n"
     ]
    },
    {
     "name": "stderr",
     "output_type": "stream",
     "text": [
      " 63%|██████▎   | 12/19 [00:58<00:34,  4.91s/it]"
     ]
    },
    {
     "name": "stdout",
     "output_type": "stream",
     "text": [
      "Epoch: 012, Val: 0.6650, Test: 0.6500\n"
     ]
    },
    {
     "name": "stderr",
     "output_type": "stream",
     "text": [
      " 68%|██████▊   | 13/19 [01:03<00:30,  5.00s/it]"
     ]
    },
    {
     "name": "stdout",
     "output_type": "stream",
     "text": [
      "Epoch: 013, Val: 0.7250, Test: 0.7050\n"
     ]
    },
    {
     "name": "stderr",
     "output_type": "stream",
     "text": [
      " 74%|███████▎  | 14/19 [01:08<00:25,  5.18s/it]"
     ]
    },
    {
     "name": "stdout",
     "output_type": "stream",
     "text": [
      "Epoch: 014, Val: 0.7250, Test: 0.7050\n"
     ]
    },
    {
     "name": "stderr",
     "output_type": "stream",
     "text": [
      " 79%|███████▉  | 15/19 [01:14<00:21,  5.34s/it]"
     ]
    },
    {
     "name": "stdout",
     "output_type": "stream",
     "text": [
      "Epoch: 015, Val: 0.7250, Test: 0.7050\n"
     ]
    },
    {
     "name": "stderr",
     "output_type": "stream",
     "text": [
      " 84%|████████▍ | 16/19 [01:19<00:15,  5.22s/it]"
     ]
    },
    {
     "name": "stdout",
     "output_type": "stream",
     "text": [
      "Epoch: 016, Val: 0.7550, Test: 0.7200\n"
     ]
    },
    {
     "name": "stderr",
     "output_type": "stream",
     "text": [
      " 89%|████████▉ | 17/19 [01:24<00:10,  5.16s/it]"
     ]
    },
    {
     "name": "stdout",
     "output_type": "stream",
     "text": [
      "Epoch: 017, Val: 0.7550, Test: 0.7200\n"
     ]
    },
    {
     "name": "stderr",
     "output_type": "stream",
     "text": [
      " 95%|█████████▍| 18/19 [01:29<00:05,  5.10s/it]"
     ]
    },
    {
     "name": "stdout",
     "output_type": "stream",
     "text": [
      "Epoch: 018, Val: 0.7550, Test: 0.7200\n"
     ]
    },
    {
     "name": "stderr",
     "output_type": "stream",
     "text": [
      "100%|██████████| 19/19 [01:34<00:00,  4.97s/it]"
     ]
    },
    {
     "name": "stdout",
     "output_type": "stream",
     "text": [
      "Epoch: 019, Val: 0.8350, Test: 0.7650\n"
     ]
    },
    {
     "name": "stderr",
     "output_type": "stream",
     "text": [
      "\n"
     ]
    }
   ],
   "source": [
    "best_val_acc = test_acc = 0\n",
    "for epoch in tqdm(range(1,20)):\n",
    "    train()\n",
    "    _, val_acc, tmp_test_acc = test()\n",
    "    if val_acc > best_val_acc:\n",
    "        best_val_acc = val_acc\n",
    "        test_acc = tmp_test_acc\n",
    "    log = 'Epoch: {:03d}, Val: {:.4f}, Test: {:.4f}'\n",
    "    \n",
    "    if epoch % 1 == 0:\n",
    "        print(log.format(epoch, best_val_acc, test_acc))"
   ]
  },
  {
   "cell_type": "markdown",
   "metadata": {},
   "source": [
    "# Exploration"
   ]
  },
  {
   "cell_type": "code",
   "execution_count": 1,
   "metadata": {},
   "outputs": [
    {
     "data": {
      "text/plain": [
       "<torch_geometric.debug.set_debug at 0x21827847fa0>"
      ]
     },
     "execution_count": 1,
     "metadata": {},
     "output_type": "execute_result"
    }
   ],
   "source": [
    "import pandas as pd\n",
    "from generate_graph import *\n",
    "from scores_analysis import *\n",
    "import torch\n",
    "import torch_geometric\n",
    "from torch_geometric.data import Data\n",
    "from torch_geometric.nn import SAGEConv\n",
    "import torch.nn.functional as F\n",
    "torch_geometric.set_debug(True)"
   ]
  },
  {
   "cell_type": "code",
   "execution_count": 2,
   "metadata": {},
   "outputs": [
    {
     "data": {
      "text/plain": [
       "(torch.Size([2000, 512]),\n",
       " {'lion': 0, 'bear': 1, 'tarantula': 2, 'golden retriever': 3})"
      ]
     },
     "execution_count": 2,
     "metadata": {},
     "output_type": "execute_result"
    }
   ],
   "source": [
    "data_df = pd.read_csv('imagenet_embeddings.csv')\n",
    "x = construct_nodes(data_df)\n",
    "subject_mapping = get_subject_mapping(data_df)\n",
    "x.size(), subject_mapping"
   ]
  },
  {
   "cell_type": "markdown",
   "metadata": {},
   "source": [
    "# Cosine Show Case"
   ]
  },
  {
   "cell_type": "code",
   "execution_count": 3,
   "metadata": {},
   "outputs": [
    {
     "name": "stderr",
     "output_type": "stream",
     "text": [
      "c:\\Users\\97254\\anaconda3\\envs\\project_lab\\lib\\site-packages\\torch\\storage.py:414: FutureWarning: You are using `torch.load` with `weights_only=False` (the current default value), which uses the default pickle module implicitly. It is possible to construct malicious pickle data which will execute arbitrary code during unpickling (See https://github.com/pytorch/pytorch/blob/main/SECURITY.md#untrusted-models for more details). In a future release, the default value for `weights_only` will be flipped to `True`. This limits the functions that could be executed during unpickling. Arbitrary objects will no longer be allowed to be loaded via this mode unless they are explicitly allowlisted by the user via `torch.serialization.add_safe_globals`. We recommend you start setting `weights_only=True` for any use case where you don't have full control of the loaded file. Please open an issue on GitHub for any issues related to this experimental feature.\n",
      "  return torch.load(io.BytesIO(b))\n",
      "4it [00:01,  3.56it/s]\n"
     ]
    }
   ],
   "source": [
    "from scores_analysis import *\n",
    "from generate_graph import *\n",
    "\n",
    "cosine_sim = get_similarities(x, 'cosine')\n",
    "cosine_scores, cosine_average_scores = scores_dicts(cosine_sim, subject_mapping)"
   ]
  },
  {
   "cell_type": "code",
   "execution_count": 4,
   "metadata": {},
   "outputs": [
    {
     "data": {
      "text/plain": [
       "{'lion': {'lion': 0.706675401509406,\n",
       "  'bear': 0.6772592098288537,\n",
       "  'tarantula': 0.6531893964068896,\n",
       "  'golden retriever': 0.6784711144078972},\n",
       " 'bear': {'lion': 0.677259209828854,\n",
       "  'bear': 0.692270173046059,\n",
       "  'tarantula': 0.6419786516345736,\n",
       "  'golden retriever': 0.6653905189602377},\n",
       " 'tarantula': {'lion': 0.6531893964068901,\n",
       "  'bear': 0.6419786516345735,\n",
       "  'tarantula': 0.684872404738037,\n",
       "  'golden retriever': 0.624009262488485},\n",
       " 'golden retriever': {'lion': 0.6784711144078971,\n",
       "  'bear': 0.6653905189602378,\n",
       "  'tarantula': 0.624009262488484,\n",
       "  'golden retriever': 0.7123907254566412}}"
      ]
     },
     "execution_count": 4,
     "metadata": {},
     "output_type": "execute_result"
    }
   ],
   "source": [
    "cosine_average_scores\n"
   ]
  },
  {
   "cell_type": "code",
   "execution_count": 5,
   "metadata": {},
   "outputs": [
    {
     "data": {
      "image/png": "[encoded data removed]",
      "text/plain": [
       "<Figure size 1500x800 with 4 Axes>"
      ]
     },
     "metadata": {},
     "output_type": "display_data"
    }
   ],
   "source": [
    "plotting_boxplot(cosine_scores)"
   ]
  },
  {
   "cell_type": "code",
   "execution_count": 31,
   "metadata": {},
   "outputs": [
    {
     "data": {
      "text/plain": [
       "{'lion': {'lion': 0.706675401509406,\n",
       "  'bear': 0.6772592098288537,\n",
       "  'tarantula': 0.6531893964068896,\n",
       "  'golden retriever': 0.6784711144078972},\n",
       " 'bear': {'lion': 0.677259209828854,\n",
       "  'bear': 0.692270173046059,\n",
       "  'tarantula': 0.6419786516345736,\n",
       "  'golden retriever': 0.6653905189602377},\n",
       " 'tarantula': {'lion': 0.6531893964068901,\n",
       "  'bear': 0.6419786516345735,\n",
       "  'tarantula': 0.684872404738037,\n",
       "  'golden retriever': 0.624009262488485},\n",
       " 'golden retriever': {'lion': 0.6784711144078971,\n",
       "  'bear': 0.6653905189602378,\n",
       "  'tarantula': 0.624009262488484,\n",
       "  'golden retriever': 0.7123907254566412}}"
      ]
     },
     "execution_count": 31,
     "metadata": {},
     "output_type": "execute_result"
    }
   ],
   "source": [
    "cosine_average_scores"
   ]
  },
  {
   "cell_type": "code",
   "execution_count": 35,
   "metadata": {},
   "outputs": [
    {
     "name": "stdout",
     "output_type": "stream",
     "text": [
      "\n",
      "max value = 0.7123907254566412\n",
      "miv value = 0.684872404738037\n",
      "[0.6506287845011351, 0.684872404738037, 0.692270173046059, 0.706675401509406, 0.7123907254566412, 0.7480102617294733]\n"
     ]
    }
   ],
   "source": [
    "min_val = float('inf')\n",
    "max_val = float('-inf')\n",
    "thresholds = []\n",
    "for class_name, vals in cosine_average_scores.items():\n",
    "    thresholds.append(vals[class_name])\n",
    "for score in thresholds:\n",
    "    if score > max_val:\n",
    "        max_val = score\n",
    "    if score < min_val:\n",
    "        min_val = score\n",
    "thresholds = sorted(thresholds+[min_val*0.95, max_val*1.05])\n",
    "print(f'\\nmax value = {max_val}\\nmiv value = {min_val}')\n",
    "print(thresholds)"
   ]
  },
  {
   "cell_type": "code",
   "execution_count": 70,
   "metadata": {},
   "outputs": [
    {
     "name": "stdout",
     "output_type": "stream",
     "text": [
      "Constructing Nodes...\n",
      "Done.\n",
      "Retrieving Labels...\n",
      "Done.\n",
      "Constructing edges based on: cosine\n"
     ]
    },
    {
     "name": "stderr",
     "output_type": "stream",
     "text": [
      "100%|██████████| 2000/2000 [00:06<00:00, 290.41it/s]"
     ]
    },
    {
     "name": "stdout",
     "output_type": "stream",
     "text": [
      "Done, Graph is done constructing.\n"
     ]
    },
    {
     "name": "stderr",
     "output_type": "stream",
     "text": [
      "\n"
     ]
    }
   ],
   "source": [
    "x, y, edges = construct_graph(data_df, ['cosine', 0.79, 1])"
   ]
  },
  {
   "cell_type": "markdown",
   "metadata": {},
   "source": [
    "# Chord Show Case"
   ]
  },
  {
   "cell_type": "code",
   "execution_count": 3,
   "metadata": {},
   "outputs": [
    {
     "name": "stderr",
     "output_type": "stream",
     "text": [
      "4it [00:24,  6.14s/it]\n"
     ]
    }
   ],
   "source": [
    "chord_sim = get_similarities(x, 'chord')\n",
    "chord_scores, chord_average_scores = scores_dicts(chord_sim, subject_mapping)"
   ]
  },
  {
   "cell_type": "code",
   "execution_count": 4,
   "metadata": {},
   "outputs": [
    {
     "data": {
      "image/png": "[encoded data removed]",
      "text/plain": [
       "<Figure size 1080x1080 with 4 Axes>"
      ]
     },
     "metadata": {
      "needs_background": "light"
     },
     "output_type": "display_data"
    }
   ],
   "source": [
    "plotting_boxplot(chord_scores)"
   ]
  },
  {
   "cell_type": "code",
   "execution_count": 5,
   "metadata": {},
   "outputs": [
    {
     "data": {
      "text/plain": [
       "{'lion': {'lion': tensor(0.7592),\n",
       "  'bear': tensor(0.7998),\n",
       "  'tarantula': tensor(0.8296),\n",
       "  'golden retriever': tensor(0.7984)},\n",
       " 'bear': {'lion': tensor(0.7998),\n",
       "  'bear': tensor(0.7784),\n",
       "  'tarantula': tensor(0.8427),\n",
       "  'golden retriever': tensor(0.8143)},\n",
       " 'tarantula': {'lion': tensor(0.8296),\n",
       "  'bear': tensor(0.8427),\n",
       "  'tarantula': tensor(0.7888),\n",
       "  'golden retriever': tensor(0.8637)},\n",
       " 'golden retriever': {'lion': tensor(0.7984),\n",
       "  'bear': tensor(0.8143),\n",
       "  'tarantula': tensor(0.8637),\n",
       "  'golden retriever': tensor(0.7517)}}"
      ]
     },
     "execution_count": 5,
     "metadata": {},
     "output_type": "execute_result"
    }
   ],
   "source": [
    "chord_average_scores"
   ]
  },
  {
   "cell_type": "code",
   "execution_count": 13,
   "metadata": {},
   "outputs": [
    {
     "name": "stdout",
     "output_type": "stream",
     "text": [
      "Constructing Nodes...\n",
      "Done.\n",
      "Retrieving Labels...\n",
      "Done.\n",
      "Constructing edges based on: chord\n"
     ]
    },
    {
     "name": "stderr",
     "output_type": "stream",
     "text": [
      "100%|██████████| 2000/2000 [01:17<00:00, 25.89it/s]\n"
     ]
    },
    {
     "name": "stdout",
     "output_type": "stream",
     "text": [
      "Done, Graph is done constructing.\n"
     ]
    }
   ],
   "source": [
    "x, y, edges = construct_graph(data_df, ['chord', 0, 0.78])"
   ]
  },
  {
   "cell_type": "markdown",
   "metadata": {},
   "source": [
    "# Running the GNN"
   ]
  },
  {
   "cell_type": "code",
   "execution_count": 14,
   "metadata": {},
   "outputs": [],
   "source": [
    "train_indeces = list(range(0,400)) + list(range(500,900)) + list(range(1000,1400)) + list(range(1500,1900))\n",
    "valid_indeces = list(range(400,450)) + list(range(900,950)) + list(range(1400,1450)) + list(range(1900,1950))\n",
    "test_indeces = list(range(450,500)) + list(range(950,1000)) + list(range(1450,1500)) + list(range(1950,2000))\n",
    "train_mask = torch.tensor([1 if i in train_indeces else 0 for i in range(x.shape[0])], dtype=torch.bool)\n",
    "valid_mask = torch.tensor([1 if i in valid_indeces else 0 for i in range(x.shape[0])], dtype=torch.bool)\n",
    "test_mask = torch.tensor([1 if i in test_indeces else 0 for i in range(x.shape[0])], dtype=torch.bool)"
   ]
  },
  {
   "cell_type": "code",
   "execution_count": 15,
   "metadata": {},
   "outputs": [],
   "source": [
    "data = Data(x=x, y=y, edge_index=edges, train_mask=train_mask, valid_mask=valid_mask, test_mask=test_mask)"
   ]
  },
  {
   "cell_type": "code",
   "execution_count": 16,
   "metadata": {},
   "outputs": [],
   "source": [
    "class GraphSAGE(torch.nn.Module):\n",
    "    def __init__(self, hidden_channels, output_dim, seed=1):\n",
    "        super().__init__()\n",
    "        torch.cuda.manual_seed(seed)\n",
    "        self.conv1 = SAGEConv((-1, -1), hidden_channels//2, aggr=\"mean\", normalize=True)\n",
    "        self.conv2 = SAGEConv((-1, -1), hidden_channels//4, aggr=\"mean\", normalize=True)\n",
    "        self.conv3 = SAGEConv((-1, -1), output_dim, aggr=\"mean\", normalize=True)\n",
    "\n",
    "    def forward(self, x, edge_index):\n",
    "        x = F.relu(self.conv1(x, edge_index))\n",
    "        x = F.relu(self.conv2(x, edge_index))\n",
    "        x = self.conv3(x, edge_index)\n",
    "        return F.log_softmax(x, dim=1)"
   ]
  },
  {
   "cell_type": "code",
   "execution_count": 17,
   "metadata": {},
   "outputs": [],
   "source": [
    "output_dim = len(set(data.y.tolist()))\n",
    "device = torch.device('cuda' if torch.cuda.is_available() else 'cpu')\n",
    "model = GraphSAGE(x.shape[1], output_dim).to(device)\n",
    "data = data.to(device)\n",
    "optimizer = torch.optim.Adam(model.parameters(), lr=0.0005, weight_decay=5e-4)"
   ]
  },
  {
   "cell_type": "code",
   "execution_count": 18,
   "metadata": {},
   "outputs": [],
   "source": [
    "def train():\n",
    "    model.train()\n",
    "    optimizer.zero_grad()\n",
    "    F.nll_loss(model(data.x, data.edge_index)[train_mask], data.y[train_mask]).backward()\n",
    "    optimizer.step()\n",
    "\n",
    "def test():\n",
    "    model.eval()\n",
    "    logits = model(data.x, data.edge_index)\n",
    "    accs = []\n",
    "    for mask in [train_mask, valid_mask, test_mask]:\n",
    "        pred = logits[mask].max(1)[1]\n",
    "        acc = pred.eq(data.y[mask]).sum().item() / mask.sum().item()\n",
    "        accs.append(acc)\n",
    "    return accs"
   ]
  },
  {
   "cell_type": "code",
   "execution_count": 19,
   "metadata": {},
   "outputs": [
    {
     "name": "stderr",
     "output_type": "stream",
     "text": [
      "  5%|▌         | 1/19 [00:09<02:44,  9.14s/it]"
     ]
    },
    {
     "name": "stdout",
     "output_type": "stream",
     "text": [
      "Epoch: 001, Val: 0.2500, Test: 0.2500\n"
     ]
    },
    {
     "name": "stderr",
     "output_type": "stream",
     "text": [
      " 11%|█         | 2/19 [00:18<02:32,  9.00s/it]"
     ]
    },
    {
     "name": "stdout",
     "output_type": "stream",
     "text": [
      "Epoch: 002, Val: 0.2650, Test: 0.2600\n"
     ]
    },
    {
     "name": "stderr",
     "output_type": "stream",
     "text": [
      " 16%|█▌        | 3/19 [00:26<02:20,  8.79s/it]"
     ]
    },
    {
     "name": "stdout",
     "output_type": "stream",
     "text": [
      "Epoch: 003, Val: 0.4700, Test: 0.4300\n"
     ]
    },
    {
     "name": "stderr",
     "output_type": "stream",
     "text": [
      " 21%|██        | 4/19 [00:35<02:11,  8.75s/it]"
     ]
    },
    {
     "name": "stdout",
     "output_type": "stream",
     "text": [
      "Epoch: 004, Val: 0.4900, Test: 0.4700\n"
     ]
    },
    {
     "name": "stderr",
     "output_type": "stream",
     "text": [
      " 26%|██▋       | 5/19 [00:44<02:02,  8.75s/it]"
     ]
    },
    {
     "name": "stdout",
     "output_type": "stream",
     "text": [
      "Epoch: 005, Val: 0.4900, Test: 0.4700\n"
     ]
    },
    {
     "name": "stderr",
     "output_type": "stream",
     "text": [
      " 32%|███▏      | 6/19 [00:52<01:51,  8.56s/it]"
     ]
    },
    {
     "name": "stdout",
     "output_type": "stream",
     "text": [
      "Epoch: 006, Val: 0.4900, Test: 0.4700\n"
     ]
    },
    {
     "name": "stderr",
     "output_type": "stream",
     "text": [
      " 37%|███▋      | 7/19 [01:00<01:43,  8.62s/it]"
     ]
    },
    {
     "name": "stdout",
     "output_type": "stream",
     "text": [
      "Epoch: 007, Val: 0.4900, Test: 0.4700\n"
     ]
    },
    {
     "name": "stderr",
     "output_type": "stream",
     "text": [
      " 42%|████▏     | 8/19 [01:09<01:33,  8.51s/it]"
     ]
    },
    {
     "name": "stdout",
     "output_type": "stream",
     "text": [
      "Epoch: 008, Val: 0.7000, Test: 0.6350\n"
     ]
    },
    {
     "name": "stderr",
     "output_type": "stream",
     "text": [
      " 47%|████▋     | 9/19 [01:17<01:25,  8.58s/it]"
     ]
    },
    {
     "name": "stdout",
     "output_type": "stream",
     "text": [
      "Epoch: 009, Val: 0.7000, Test: 0.6350\n"
     ]
    },
    {
     "name": "stderr",
     "output_type": "stream",
     "text": [
      " 53%|█████▎    | 10/19 [01:26<01:16,  8.54s/it]"
     ]
    },
    {
     "name": "stdout",
     "output_type": "stream",
     "text": [
      "Epoch: 010, Val: 0.7000, Test: 0.6350\n"
     ]
    },
    {
     "name": "stderr",
     "output_type": "stream",
     "text": [
      " 58%|█████▊    | 11/19 [01:34<01:08,  8.51s/it]"
     ]
    },
    {
     "name": "stdout",
     "output_type": "stream",
     "text": [
      "Epoch: 011, Val: 0.7500, Test: 0.6900\n"
     ]
    },
    {
     "name": "stderr",
     "output_type": "stream",
     "text": [
      " 63%|██████▎   | 12/19 [01:43<00:59,  8.47s/it]"
     ]
    },
    {
     "name": "stdout",
     "output_type": "stream",
     "text": [
      "Epoch: 012, Val: 0.7500, Test: 0.6900\n"
     ]
    },
    {
     "name": "stderr",
     "output_type": "stream",
     "text": [
      " 68%|██████▊   | 13/19 [01:51<00:50,  8.41s/it]"
     ]
    },
    {
     "name": "stdout",
     "output_type": "stream",
     "text": [
      "Epoch: 013, Val: 0.7500, Test: 0.6900\n"
     ]
    },
    {
     "name": "stderr",
     "output_type": "stream",
     "text": [
      " 74%|███████▎  | 14/19 [02:00<00:42,  8.49s/it]"
     ]
    },
    {
     "name": "stdout",
     "output_type": "stream",
     "text": [
      "Epoch: 014, Val: 0.7650, Test: 0.7100\n"
     ]
    },
    {
     "name": "stderr",
     "output_type": "stream",
     "text": [
      " 79%|███████▉  | 15/19 [02:12<00:38,  9.56s/it]"
     ]
    },
    {
     "name": "stdout",
     "output_type": "stream",
     "text": [
      "Epoch: 015, Val: 0.7650, Test: 0.7100\n"
     ]
    },
    {
     "name": "stderr",
     "output_type": "stream",
     "text": [
      " 84%|████████▍ | 16/19 [02:22<00:28,  9.66s/it]"
     ]
    },
    {
     "name": "stdout",
     "output_type": "stream",
     "text": [
      "Epoch: 016, Val: 0.8100, Test: 0.7550\n"
     ]
    },
    {
     "name": "stderr",
     "output_type": "stream",
     "text": [
      " 89%|████████▉ | 17/19 [02:30<00:18,  9.37s/it]"
     ]
    },
    {
     "name": "stdout",
     "output_type": "stream",
     "text": [
      "Epoch: 017, Val: 0.8100, Test: 0.7550\n"
     ]
    },
    {
     "name": "stderr",
     "output_type": "stream",
     "text": [
      " 95%|█████████▍| 18/19 [02:39<00:09,  9.16s/it]"
     ]
    },
    {
     "name": "stdout",
     "output_type": "stream",
     "text": [
      "Epoch: 018, Val: 0.8100, Test: 0.7550\n"
     ]
    },
    {
     "name": "stderr",
     "output_type": "stream",
     "text": [
      "100%|██████████| 19/19 [02:48<00:00,  8.86s/it]"
     ]
    },
    {
     "name": "stdout",
     "output_type": "stream",
     "text": [
      "Epoch: 019, Val: 0.8100, Test: 0.7550\n"
     ]
    },
    {
     "name": "stderr",
     "output_type": "stream",
     "text": [
      "\n"
     ]
    }
   ],
   "source": [
    "best_val_acc = test_acc = 0\n",
    "for epoch in tqdm(range(1,20)):\n",
    "    train()\n",
    "    _, val_acc, tmp_test_acc = test()\n",
    "    if val_acc > best_val_acc:\n",
    "        best_val_acc = val_acc\n",
    "        test_acc = tmp_test_acc\n",
    "    log = 'Epoch: {:03d}, Val: {:.4f}, Test: {:.4f}'\n",
    "    \n",
    "    if epoch % 1 == 0:\n",
    "        print(log.format(epoch, best_val_acc, test_acc))"
   ]
  },
  {
   "cell_type": "code",
   "execution_count": 6,
   "metadata": {},
   "outputs": [
    {
     "name": "stdout",
     "output_type": "stream",
     "text": [
      "Constructing Nodes...\n",
      "Done.\n",
      "Retrieving Labels...\n",
      "Done.\n",
      "Constructing edges based on: cosine\n"
     ]
    },
    {
     "name": "stderr",
     "output_type": "stream",
     "text": [
      "100%|██████████| 2000/2000 [00:06<00:00, 314.49it/s]\n"
     ]
    },
    {
     "name": "stdout",
     "output_type": "stream",
     "text": [
      "Done, Graph is done constructing.\n"
     ]
    },
    {
     "name": "stderr",
     "output_type": "stream",
     "text": [
      "100%|██████████| 100/100 [00:02<00:00, 38.41it/s]\n"
     ]
    },
    {
     "name": "stdout",
     "output_type": "stream",
     "text": [
      "('mean', 2)\n",
      "[0.39, 0.8, 0.875, 0.875, 0.89, 0.905, 0.9, 0.885, 0.89, 0.9, 0.895] [0.395, 0.79, 0.86, 0.86, 0.875, 0.875, 0.875, 0.875, 0.875, 0.875, 0.875]\n"
     ]
    },
    {
     "name": "stderr",
     "output_type": "stream",
     "text": [
      "100%|██████████| 100/100 [00:02<00:00, 36.12it/s]\n"
     ]
    },
    {
     "name": "stdout",
     "output_type": "stream",
     "text": [
      "('mean', 3)\n",
      "[0.455, 0.73, 0.865, 0.87, 0.87, 0.87, 0.865, 0.885, 0.865, 0.88, 0.88] [0.455, 0.705, 0.875, 0.89, 0.89, 0.89, 0.89, 0.89, 0.89, 0.89, 0.89]\n"
     ]
    },
    {
     "name": "stderr",
     "output_type": "stream",
     "text": [
      "100%|██████████| 100/100 [00:03<00:00, 25.89it/s]\n"
     ]
    },
    {
     "name": "stdout",
     "output_type": "stream",
     "text": [
      "('max', 2)\n",
      "[0.395, 0.68, 0.875, 0.875, 0.87, 0.895, 0.905, 0.895, 0.89, 0.9, 0.89] [0.43, 0.65, 0.87, 0.87, 0.87, 0.89, 0.885, 0.885, 0.885, 0.885, 0.885]\n"
     ]
    },
    {
     "name": "stderr",
     "output_type": "stream",
     "text": [
      "100%|██████████| 100/100 [00:05<00:00, 19.72it/s]"
     ]
    },
    {
     "name": "stdout",
     "output_type": "stream",
     "text": [
      "('max', 3)\n",
      "[0.3, 0.77, 0.825, 0.865, 0.865, 0.88, 0.88, 0.875, 0.88, 0.885, 0.87] [0.305, 0.725, 0.815, 0.895, 0.895, 0.895, 0.895, 0.895, 0.895, 0.88, 0.88]\n"
     ]
    },
    {
     "name": "stderr",
     "output_type": "stream",
     "text": [
      "\n"
     ]
    }
   ],
   "source": [
    "from generate_results import *\n",
    "import warnings \n",
    "warnings.filterwarnings('ignore')\n",
    "\n",
    "get_accuracy(pd.read_csv('imagenet_embeddings.csv'), 'cosine', 1, 0.78, 1, [('mean', 2), ('mean', 3), ('max', 2), ('max', 3)], True)"
   ]
  },
  {
   "cell_type": "code",
   "execution_count": null,
   "metadata": {},
   "outputs": [],
   "source": [
    "import pandas as pd\n",
    "from generate_results import *\n",
    "import warnings \n",
    "warnings.filterwarnings('ignore')\n",
    "\n",
    "data = pd.read_csv('imagenet_embeddings.csv')\n",
    "\n",
    "results = pd.DataFrame(columns=['Seed', 'Metric', 'Lower Threshold', 'Upper Threshold', 'Type Of Layers', 'Num of Layers', 'Validation', 'Test'])\n",
    "gnn_types = [('mean', 2), ('mean', 3), ('max', 2), ('max', 3)]\n",
    "seeds = [111, 222, 333, 444, 555]\n",
    "scores = {'cosine': [(0.70, 1), (0.73, 1), (0.76, 1), (0.79, 1), (0.82, 1)]}\n",
    "for score in scores.keys():\n",
    "    for lower, upper in scores[score]:\n",
    "        for seed in seeds:\n",
    "            print(score, seed, lower, upper, gnn_types)\n",
    "            validation_lst, test_lst = get_accuracy(data, score, seed, lower, upper, gnn_types)\n",
    "            for gnn_type, val, test in zip(gnn_types, validation_lst, test_lst):\n",
    "                results.loc[len(results)]= {'Seed': seed, \n",
    "                                            'Metric': score, \n",
    "                                            'Lower Threshold': lower, \n",
    "                                            'Upper Threshold': upper, \n",
    "                                            'Type Of Layers': gnn_type[0], \n",
    "                                            'Num of Layers': gnn_type[1], \n",
    "                                            'Validation': val, \n",
    "                                            'Test': test}"
   ]
  },
  {
   "cell_type": "code",
   "execution_count": 13,
   "metadata": {},
   "outputs": [],
   "source": [
    "import pickle as pkl\n",
    "\n",
    "with open('cosine_df.pkl', 'wb') as f:\n",
    "            pkl.dump(results, f)"
   ]
  },
  {
   "cell_type": "code",
   "execution_count": 14,
   "metadata": {},
   "outputs": [
    {
     "data": {
      "text/html": [
       "<div>\n",
       "<style scoped>\n",
       "    .dataframe tbody tr th:only-of-type {\n",
       "        vertical-align: middle;\n",
       "    }\n",
       "\n",
       "    .dataframe tbody tr th {\n",
       "        vertical-align: top;\n",
       "    }\n",
       "\n",
       "    .dataframe thead th {\n",
       "        text-align: right;\n",
       "    }\n",
       "</style>\n",
       "<table border=\"1\" class=\"dataframe\">\n",
       "  <thead>\n",
       "    <tr style=\"text-align: right;\">\n",
       "      <th></th>\n",
       "      <th>Seed</th>\n",
       "      <th>Metric</th>\n",
       "      <th>Lower Threshold</th>\n",
       "      <th>Upper Threshold</th>\n",
       "      <th>Type Of Layers</th>\n",
       "      <th>Num of Layers</th>\n",
       "      <th>Validation</th>\n",
       "      <th>Test</th>\n",
       "    </tr>\n",
       "  </thead>\n",
       "  <tbody>\n",
       "    <tr>\n",
       "      <th>0</th>\n",
       "      <td>111</td>\n",
       "      <td>cosine</td>\n",
       "      <td>0.70</td>\n",
       "      <td>1</td>\n",
       "      <td>mean</td>\n",
       "      <td>2</td>\n",
       "      <td>[0.27, 0.755, 0.84, 0.865, 0.865, 0.875, 0.875...</td>\n",
       "      <td>[0.31, 0.755, 0.86, 0.885, 0.885, 0.89, 0.89, ...</td>\n",
       "    </tr>\n",
       "    <tr>\n",
       "      <th>1</th>\n",
       "      <td>111</td>\n",
       "      <td>cosine</td>\n",
       "      <td>0.70</td>\n",
       "      <td>1</td>\n",
       "      <td>mean</td>\n",
       "      <td>3</td>\n",
       "      <td>[0.335, 0.685, 0.81, 0.865, 0.875, 0.865, 0.87...</td>\n",
       "      <td>[0.33, 0.685, 0.805, 0.87, 0.895, 0.895, 0.895...</td>\n",
       "    </tr>\n",
       "    <tr>\n",
       "      <th>2</th>\n",
       "      <td>111</td>\n",
       "      <td>cosine</td>\n",
       "      <td>0.70</td>\n",
       "      <td>1</td>\n",
       "      <td>max</td>\n",
       "      <td>2</td>\n",
       "      <td>[0.39, 0.67, 0.755, 0.815, 0.88, 0.86, 0.88, 0...</td>\n",
       "      <td>[0.425, 0.675, 0.74, 0.84, 0.9, 0.9, 0.9, 0.9,...</td>\n",
       "    </tr>\n",
       "    <tr>\n",
       "      <th>3</th>\n",
       "      <td>111</td>\n",
       "      <td>cosine</td>\n",
       "      <td>0.70</td>\n",
       "      <td>1</td>\n",
       "      <td>max</td>\n",
       "      <td>3</td>\n",
       "      <td>[0.265, 0.65, 0.815, 0.83, 0.85, 0.865, 0.855,...</td>\n",
       "      <td>[0.28, 0.65, 0.78, 0.83, 0.87, 0.885, 0.885, 0...</td>\n",
       "    </tr>\n",
       "    <tr>\n",
       "      <th>4</th>\n",
       "      <td>222</td>\n",
       "      <td>cosine</td>\n",
       "      <td>0.70</td>\n",
       "      <td>1</td>\n",
       "      <td>mean</td>\n",
       "      <td>2</td>\n",
       "      <td>[0.335, 0.79, 0.855, 0.88, 0.885, 0.9, 0.905, ...</td>\n",
       "      <td>[0.28, 0.775, 0.85, 0.86, 0.88, 0.885, 0.885, ...</td>\n",
       "    </tr>\n",
       "    <tr>\n",
       "      <th>...</th>\n",
       "      <td>...</td>\n",
       "      <td>...</td>\n",
       "      <td>...</td>\n",
       "      <td>...</td>\n",
       "      <td>...</td>\n",
       "      <td>...</td>\n",
       "      <td>...</td>\n",
       "      <td>...</td>\n",
       "    </tr>\n",
       "    <tr>\n",
       "      <th>95</th>\n",
       "      <td>444</td>\n",
       "      <td>cosine</td>\n",
       "      <td>0.82</td>\n",
       "      <td>1</td>\n",
       "      <td>max</td>\n",
       "      <td>3</td>\n",
       "      <td>[0.37, 0.685, 0.875, 0.87, 0.905, 0.9, 0.9, 0....</td>\n",
       "      <td>[0.33, 0.625, 0.865, 0.865, 0.88, 0.88, 0.88, ...</td>\n",
       "    </tr>\n",
       "    <tr>\n",
       "      <th>96</th>\n",
       "      <td>555</td>\n",
       "      <td>cosine</td>\n",
       "      <td>0.82</td>\n",
       "      <td>1</td>\n",
       "      <td>mean</td>\n",
       "      <td>2</td>\n",
       "      <td>[0.405, 0.745, 0.845, 0.875, 0.9, 0.895, 0.89,...</td>\n",
       "      <td>[0.36, 0.76, 0.855, 0.905, 0.905, 0.905, 0.905...</td>\n",
       "    </tr>\n",
       "    <tr>\n",
       "      <th>97</th>\n",
       "      <td>555</td>\n",
       "      <td>cosine</td>\n",
       "      <td>0.82</td>\n",
       "      <td>1</td>\n",
       "      <td>mean</td>\n",
       "      <td>3</td>\n",
       "      <td>[0.25, 0.76, 0.815, 0.86, 0.87, 0.875, 0.88, 0...</td>\n",
       "      <td>[0.25, 0.785, 0.885, 0.9, 0.91, 0.885, 0.885, ...</td>\n",
       "    </tr>\n",
       "    <tr>\n",
       "      <th>98</th>\n",
       "      <td>555</td>\n",
       "      <td>cosine</td>\n",
       "      <td>0.82</td>\n",
       "      <td>1</td>\n",
       "      <td>max</td>\n",
       "      <td>2</td>\n",
       "      <td>[0.42, 0.69, 0.83, 0.865, 0.895, 0.9, 0.895, 0...</td>\n",
       "      <td>[0.355, 0.71, 0.875, 0.885, 0.905, 0.895, 0.89...</td>\n",
       "    </tr>\n",
       "    <tr>\n",
       "      <th>99</th>\n",
       "      <td>555</td>\n",
       "      <td>cosine</td>\n",
       "      <td>0.82</td>\n",
       "      <td>1</td>\n",
       "      <td>max</td>\n",
       "      <td>3</td>\n",
       "      <td>[0.325, 0.69, 0.84, 0.85, 0.885, 0.885, 0.85, ...</td>\n",
       "      <td>[0.34, 0.7, 0.88, 0.905, 0.905, 0.905, 0.905, ...</td>\n",
       "    </tr>\n",
       "  </tbody>\n",
       "</table>\n",
       "<p>100 rows × 8 columns</p>\n",
       "</div>"
      ],
      "text/plain": [
       "    Seed  Metric  Lower Threshold  Upper Threshold Type Of Layers  \\\n",
       "0    111  cosine             0.70                1           mean   \n",
       "1    111  cosine             0.70                1           mean   \n",
       "2    111  cosine             0.70                1            max   \n",
       "3    111  cosine             0.70                1            max   \n",
       "4    222  cosine             0.70                1           mean   \n",
       "..   ...     ...              ...              ...            ...   \n",
       "95   444  cosine             0.82                1            max   \n",
       "96   555  cosine             0.82                1           mean   \n",
       "97   555  cosine             0.82                1           mean   \n",
       "98   555  cosine             0.82                1            max   \n",
       "99   555  cosine             0.82                1            max   \n",
       "\n",
       "    Num of Layers                                         Validation  \\\n",
       "0               2  [0.27, 0.755, 0.84, 0.865, 0.865, 0.875, 0.875...   \n",
       "1               3  [0.335, 0.685, 0.81, 0.865, 0.875, 0.865, 0.87...   \n",
       "2               2  [0.39, 0.67, 0.755, 0.815, 0.88, 0.86, 0.88, 0...   \n",
       "3               3  [0.265, 0.65, 0.815, 0.83, 0.85, 0.865, 0.855,...   \n",
       "4               2  [0.335, 0.79, 0.855, 0.88, 0.885, 0.9, 0.905, ...   \n",
       "..            ...                                                ...   \n",
       "95              3  [0.37, 0.685, 0.875, 0.87, 0.905, 0.9, 0.9, 0....   \n",
       "96              2  [0.405, 0.745, 0.845, 0.875, 0.9, 0.895, 0.89,...   \n",
       "97              3  [0.25, 0.76, 0.815, 0.86, 0.87, 0.875, 0.88, 0...   \n",
       "98              2  [0.42, 0.69, 0.83, 0.865, 0.895, 0.9, 0.895, 0...   \n",
       "99              3  [0.325, 0.69, 0.84, 0.85, 0.885, 0.885, 0.85, ...   \n",
       "\n",
       "                                                 Test  \n",
       "0   [0.31, 0.755, 0.86, 0.885, 0.885, 0.89, 0.89, ...  \n",
       "1   [0.33, 0.685, 0.805, 0.87, 0.895, 0.895, 0.895...  \n",
       "2   [0.425, 0.675, 0.74, 0.84, 0.9, 0.9, 0.9, 0.9,...  \n",
       "3   [0.28, 0.65, 0.78, 0.83, 0.87, 0.885, 0.885, 0...  \n",
       "4   [0.28, 0.775, 0.85, 0.86, 0.88, 0.885, 0.885, ...  \n",
       "..                                                ...  \n",
       "95  [0.33, 0.625, 0.865, 0.865, 0.88, 0.88, 0.88, ...  \n",
       "96  [0.36, 0.76, 0.855, 0.905, 0.905, 0.905, 0.905...  \n",
       "97  [0.25, 0.785, 0.885, 0.9, 0.91, 0.885, 0.885, ...  \n",
       "98  [0.355, 0.71, 0.875, 0.885, 0.905, 0.895, 0.89...  \n",
       "99  [0.34, 0.7, 0.88, 0.905, 0.905, 0.905, 0.905, ...  \n",
       "\n",
       "[100 rows x 8 columns]"
      ]
     },
     "execution_count": 14,
     "metadata": {},
     "output_type": "execute_result"
    }
   ],
   "source": [
    "with open('cosine_df.pkl', 'rb') as f:\n",
    "            test = pkl.load(f)\n",
    "test"
   ]
  },
  {
   "cell_type": "markdown",
   "metadata": {},
   "source": [
    "# Euclidian"
   ]
  },
  {
   "cell_type": "code",
   "execution_count": 21,
   "metadata": {},
   "outputs": [
    {
     "name": "stderr",
     "output_type": "stream",
     "text": [
      "4it [00:20,  5.15s/it]\n"
     ]
    },
    {
     "data": {
      "image/png": "[encoded data removed]",
      "text/plain": [
       "<Figure size 1500x1500 with 4 Axes>"
      ]
     },
     "metadata": {},
     "output_type": "display_data"
    }
   ],
   "source": [
    "from generate_results import *\n",
    "from scores_analysis import *\n",
    "\n",
    "x  = construct_nodes(data)\n",
    "subject_mapping = get_subject_mapping(data)\n",
    "scores = get_metrics(x, True)\n",
    "euclidian_scores, euclidian_averages = scores_dicts(scores['euclidian'], subject_mapping)\n",
    "plotting_boxplot(euclidian_scores)"
   ]
  },
  {
   "cell_type": "code",
   "execution_count": 22,
   "metadata": {},
   "outputs": [
    {
     "data": {
      "text/plain": [
       "{'lion': {'lion': tensor(0.7612),\n",
       "  'bear': tensor(0.7998),\n",
       "  'tarantula': tensor(0.8296),\n",
       "  'golden retriever': tensor(0.7984)},\n",
       " 'bear': {'lion': tensor(0.7998),\n",
       "  'bear': tensor(0.7804),\n",
       "  'tarantula': tensor(0.8427),\n",
       "  'golden retriever': tensor(0.8143)},\n",
       " 'tarantula': {'lion': tensor(0.8296),\n",
       "  'bear': tensor(0.8427),\n",
       "  'tarantula': tensor(0.7908),\n",
       "  'golden retriever': tensor(0.8637)},\n",
       " 'golden retriever': {'lion': tensor(0.7984),\n",
       "  'bear': tensor(0.8143),\n",
       "  'tarantula': tensor(0.8637),\n",
       "  'golden retriever': tensor(0.7537)}}"
      ]
     },
     "execution_count": 22,
     "metadata": {},
     "output_type": "execute_result"
    }
   ],
   "source": [
    "euclidian_averages"
   ]
  },
  {
   "cell_type": "code",
   "execution_count": 1,
   "metadata": {},
   "outputs": [
    {
     "name": "stdout",
     "output_type": "stream",
     "text": [
      "euclidian 111 0 0.8 [('mean', 2), ('mean', 3), ('max', 2), ('max', 3)]\n",
      "Constructing Nodes...\n",
      "Done.\n",
      "Retrieving Labels...\n",
      "Done.\n",
      "Constructing edges based on: euclidian\n"
     ]
    },
    {
     "name": "stderr",
     "output_type": "stream",
     "text": [
      "100%|██████████| 2000/2000 [01:11<00:00, 28.00it/s]\n"
     ]
    },
    {
     "name": "stdout",
     "output_type": "stream",
     "text": [
      "Done, Graph is done constructing.\n",
      "cuda\n"
     ]
    },
    {
     "name": "stderr",
     "output_type": "stream",
     "text": [
      "100%|██████████| 100/100 [00:34<00:00,  2.89it/s]\n"
     ]
    },
    {
     "name": "stdout",
     "output_type": "stream",
     "text": [
      "('mean', 2)\n",
      "cuda\n"
     ]
    },
    {
     "name": "stderr",
     "output_type": "stream",
     "text": [
      "100%|██████████| 100/100 [00:41<00:00,  2.40it/s]\n"
     ]
    },
    {
     "name": "stdout",
     "output_type": "stream",
     "text": [
      "('mean', 3)\n",
      "cuda\n"
     ]
    },
    {
     "name": "stderr",
     "output_type": "stream",
     "text": [
      "  0%|          | 0/100 [00:00<?, ?it/s]\n"
     ]
    },
    {
     "ename": "RuntimeError",
     "evalue": "CUDA out of memory. Tried to allocate 454.00 MiB (GPU 0; 7.93 GiB total capacity; 7.14 GiB already allocated; 314.88 MiB free; 7.16 GiB reserved in total by PyTorch) If reserved memory is >> allocated memory try setting max_split_size_mb to avoid fragmentation.  See documentation for Memory Management and PYTORCH_CUDA_ALLOC_CONF",
     "output_type": "error",
     "traceback": [
      "\u001b[0;31m---------------------------------------------------------------------------\u001b[0m",
      "\u001b[0;31mRuntimeError\u001b[0m                              Traceback (most recent call last)",
      "Cell \u001b[0;32mIn[1], line 16\u001b[0m\n\u001b[1;32m     14\u001b[0m \u001b[38;5;28;01mfor\u001b[39;00m seed \u001b[38;5;129;01min\u001b[39;00m seeds:\n\u001b[1;32m     15\u001b[0m     \u001b[38;5;28mprint\u001b[39m(score, seed, lower, upper, gnn_types)\n\u001b[0;32m---> 16\u001b[0m     validation_lst, test_lst \u001b[38;5;241m=\u001b[39m \u001b[43mget_accuracy\u001b[49m\u001b[43m(\u001b[49m\u001b[43mdata\u001b[49m\u001b[43m,\u001b[49m\u001b[43m \u001b[49m\u001b[43mscore\u001b[49m\u001b[43m,\u001b[49m\u001b[43m \u001b[49m\u001b[43mseed\u001b[49m\u001b[43m,\u001b[49m\u001b[43m \u001b[49m\u001b[43mlower\u001b[49m\u001b[43m,\u001b[49m\u001b[43m \u001b[49m\u001b[43mupper\u001b[49m\u001b[43m,\u001b[49m\u001b[43m \u001b[49m\u001b[43mgnn_types\u001b[49m\u001b[43m)\u001b[49m\n\u001b[1;32m     17\u001b[0m     \u001b[38;5;28;01mfor\u001b[39;00m gnn_type, val, test \u001b[38;5;129;01min\u001b[39;00m \u001b[38;5;28mzip\u001b[39m(gnn_types, validation_lst, test_lst):\n\u001b[1;32m     18\u001b[0m         results\u001b[38;5;241m.\u001b[39mloc[\u001b[38;5;28mlen\u001b[39m(results)]\u001b[38;5;241m=\u001b[39m {\u001b[38;5;124m'\u001b[39m\u001b[38;5;124mSeed\u001b[39m\u001b[38;5;124m'\u001b[39m: seed, \n\u001b[1;32m     19\u001b[0m                                     \u001b[38;5;124m'\u001b[39m\u001b[38;5;124mMetric\u001b[39m\u001b[38;5;124m'\u001b[39m: score, \n\u001b[1;32m     20\u001b[0m                                     \u001b[38;5;124m'\u001b[39m\u001b[38;5;124mLower Threshold\u001b[39m\u001b[38;5;124m'\u001b[39m: lower, \n\u001b[0;32m   (...)\u001b[0m\n\u001b[1;32m     24\u001b[0m                                     \u001b[38;5;124m'\u001b[39m\u001b[38;5;124mValidation\u001b[39m\u001b[38;5;124m'\u001b[39m: val, \n\u001b[1;32m     25\u001b[0m                                     \u001b[38;5;124m'\u001b[39m\u001b[38;5;124mTest\u001b[39m\u001b[38;5;124m'\u001b[39m: test}\n",
      "File \u001b[0;32m~/TalTestProject/generate_results.py:106\u001b[0m, in \u001b[0;36mget_accuracy\u001b[0;34m(data_df, metric, seed, lower_threshold, upper_threshold, gnn_types, is_initialized)\u001b[0m\n\u001b[1;32m    104\u001b[0m val_acc_lst, test_acc_lst \u001b[38;5;241m=\u001b[39m [], []\n\u001b[1;32m    105\u001b[0m \u001b[38;5;28;01mfor\u001b[39;00m epoch \u001b[38;5;129;01min\u001b[39;00m tqdm(\u001b[38;5;28mrange\u001b[39m(\u001b[38;5;241m100\u001b[39m)):\n\u001b[0;32m--> 106\u001b[0m     \u001b[43mtrain\u001b[49m\u001b[43m(\u001b[49m\u001b[43m)\u001b[49m\n\u001b[1;32m    107\u001b[0m     \u001b[38;5;28;01mif\u001b[39;00m epoch \u001b[38;5;241m%\u001b[39m \u001b[38;5;241m10\u001b[39m \u001b[38;5;241m==\u001b[39m \u001b[38;5;241m0\u001b[39m \u001b[38;5;129;01mor\u001b[39;00m epoch \u001b[38;5;241m==\u001b[39m \u001b[38;5;241m99\u001b[39m:\n\u001b[1;32m    108\u001b[0m         _, val_acc, tmp_test_acc \u001b[38;5;241m=\u001b[39m test()\n",
      "File \u001b[0;32m~/TalTestProject/generate_results.py:90\u001b[0m, in \u001b[0;36mget_accuracy.<locals>.train\u001b[0;34m()\u001b[0m\n\u001b[1;32m     88\u001b[0m model\u001b[38;5;241m.\u001b[39mtrain()\n\u001b[1;32m     89\u001b[0m optimizer\u001b[38;5;241m.\u001b[39mzero_grad()\n\u001b[0;32m---> 90\u001b[0m \u001b[43mF\u001b[49m\u001b[38;5;241;43m.\u001b[39;49m\u001b[43mnll_loss\u001b[49m\u001b[43m(\u001b[49m\u001b[43mmodel\u001b[49m\u001b[43m(\u001b[49m\u001b[43mdata\u001b[49m\u001b[38;5;241;43m.\u001b[39;49m\u001b[43mx\u001b[49m\u001b[43m,\u001b[49m\u001b[43m \u001b[49m\u001b[43mdata\u001b[49m\u001b[38;5;241;43m.\u001b[39;49m\u001b[43medge_index\u001b[49m\u001b[43m)\u001b[49m\u001b[43m[\u001b[49m\u001b[43mtrain_mask\u001b[49m\u001b[43m]\u001b[49m\u001b[43m,\u001b[49m\u001b[43m \u001b[49m\u001b[43mdata\u001b[49m\u001b[38;5;241;43m.\u001b[39;49m\u001b[43my\u001b[49m\u001b[43m[\u001b[49m\u001b[43mtrain_mask\u001b[49m\u001b[43m]\u001b[49m\u001b[43m)\u001b[49m\u001b[38;5;241;43m.\u001b[39;49m\u001b[43mbackward\u001b[49m\u001b[43m(\u001b[49m\u001b[43m)\u001b[49m\n\u001b[1;32m     91\u001b[0m optimizer\u001b[38;5;241m.\u001b[39mstep()\n",
      "File \u001b[0;32m/anaconda/envs/azureml_py38_PT_and_TF/lib/python3.9/site-packages/torch/_tensor.py:396\u001b[0m, in \u001b[0;36mTensor.backward\u001b[0;34m(self, gradient, retain_graph, create_graph, inputs)\u001b[0m\n\u001b[1;32m    387\u001b[0m \u001b[38;5;28;01mif\u001b[39;00m has_torch_function_unary(\u001b[38;5;28mself\u001b[39m):\n\u001b[1;32m    388\u001b[0m     \u001b[38;5;28;01mreturn\u001b[39;00m handle_torch_function(\n\u001b[1;32m    389\u001b[0m         Tensor\u001b[38;5;241m.\u001b[39mbackward,\n\u001b[1;32m    390\u001b[0m         (\u001b[38;5;28mself\u001b[39m,),\n\u001b[0;32m   (...)\u001b[0m\n\u001b[1;32m    394\u001b[0m         create_graph\u001b[38;5;241m=\u001b[39mcreate_graph,\n\u001b[1;32m    395\u001b[0m         inputs\u001b[38;5;241m=\u001b[39minputs)\n\u001b[0;32m--> 396\u001b[0m \u001b[43mtorch\u001b[49m\u001b[38;5;241;43m.\u001b[39;49m\u001b[43mautograd\u001b[49m\u001b[38;5;241;43m.\u001b[39;49m\u001b[43mbackward\u001b[49m\u001b[43m(\u001b[49m\u001b[38;5;28;43mself\u001b[39;49m\u001b[43m,\u001b[49m\u001b[43m \u001b[49m\u001b[43mgradient\u001b[49m\u001b[43m,\u001b[49m\u001b[43m \u001b[49m\u001b[43mretain_graph\u001b[49m\u001b[43m,\u001b[49m\u001b[43m \u001b[49m\u001b[43mcreate_graph\u001b[49m\u001b[43m,\u001b[49m\u001b[43m \u001b[49m\u001b[43minputs\u001b[49m\u001b[38;5;241;43m=\u001b[39;49m\u001b[43minputs\u001b[49m\u001b[43m)\u001b[49m\n",
      "File \u001b[0;32m/anaconda/envs/azureml_py38_PT_and_TF/lib/python3.9/site-packages/torch/autograd/__init__.py:173\u001b[0m, in \u001b[0;36mbackward\u001b[0;34m(tensors, grad_tensors, retain_graph, create_graph, grad_variables, inputs)\u001b[0m\n\u001b[1;32m    168\u001b[0m     retain_graph \u001b[38;5;241m=\u001b[39m create_graph\n\u001b[1;32m    170\u001b[0m \u001b[38;5;66;03m# The reason we repeat same the comment below is that\u001b[39;00m\n\u001b[1;32m    171\u001b[0m \u001b[38;5;66;03m# some Python versions print out the first line of a multi-line function\u001b[39;00m\n\u001b[1;32m    172\u001b[0m \u001b[38;5;66;03m# calls in the traceback and some print out the last line\u001b[39;00m\n\u001b[0;32m--> 173\u001b[0m \u001b[43mVariable\u001b[49m\u001b[38;5;241;43m.\u001b[39;49m\u001b[43m_execution_engine\u001b[49m\u001b[38;5;241;43m.\u001b[39;49m\u001b[43mrun_backward\u001b[49m\u001b[43m(\u001b[49m\u001b[43m  \u001b[49m\u001b[38;5;66;43;03m# Calls into the C++ engine to run the backward pass\u001b[39;49;00m\n\u001b[1;32m    174\u001b[0m \u001b[43m    \u001b[49m\u001b[43mtensors\u001b[49m\u001b[43m,\u001b[49m\u001b[43m \u001b[49m\u001b[43mgrad_tensors_\u001b[49m\u001b[43m,\u001b[49m\u001b[43m \u001b[49m\u001b[43mretain_graph\u001b[49m\u001b[43m,\u001b[49m\u001b[43m \u001b[49m\u001b[43mcreate_graph\u001b[49m\u001b[43m,\u001b[49m\u001b[43m \u001b[49m\u001b[43minputs\u001b[49m\u001b[43m,\u001b[49m\n\u001b[1;32m    175\u001b[0m \u001b[43m    \u001b[49m\u001b[43mallow_unreachable\u001b[49m\u001b[38;5;241;43m=\u001b[39;49m\u001b[38;5;28;43;01mTrue\u001b[39;49;00m\u001b[43m,\u001b[49m\u001b[43m \u001b[49m\u001b[43maccumulate_grad\u001b[49m\u001b[38;5;241;43m=\u001b[39;49m\u001b[38;5;28;43;01mTrue\u001b[39;49;00m\u001b[43m)\u001b[49m\n",
      "\u001b[0;31mRuntimeError\u001b[0m: CUDA out of memory. Tried to allocate 454.00 MiB (GPU 0; 7.93 GiB total capacity; 7.14 GiB already allocated; 314.88 MiB free; 7.16 GiB reserved in total by PyTorch) If reserved memory is >> allocated memory try setting max_split_size_mb to avoid fragmentation.  See documentation for Memory Management and PYTORCH_CUDA_ALLOC_CONF"
     ]
    }
   ],
   "source": [
    "import pandas as pd\n",
    "from generate_results import *\n",
    "import warnings \n",
    "warnings.filterwarnings('ignore')\n",
    "\n",
    "data = pd.read_csv('imagenet_embeddings.csv')\n",
    "\n",
    "results = pd.DataFrame(columns=['Seed', 'Metric', 'Lower Threshold', 'Upper Threshold', 'Type Of Layers', 'Num of Layers', 'Validation', 'Test'])\n",
    "gnn_types = [('mean', 2), ('mean', 3), ('max', 2), ('max', 3)]\n",
    "seeds = [111, 222, 333, 444, 555]\n",
    "scores = {'euclidian': [(0, 0.8), (0, 0.78), (0, 0.76), (0, 0.74), (0, 0.72)]}\n",
    "for score in scores.keys():\n",
    "    for lower, upper in scores[score]:\n",
    "        for seed in seeds:\n",
    "            print(score, seed, lower, upper, gnn_types)\n",
    "            validation_lst, test_lst = get_accuracy(data, score, seed, lower, upper, gnn_types)\n",
    "            for gnn_type, val, test in zip(gnn_types, validation_lst, test_lst):\n",
    "                results.loc[len(results)]= {'Seed': seed, \n",
    "                                            'Metric': score, \n",
    "                                            'Lower Threshold': lower, \n",
    "                                            'Upper Threshold': upper, \n",
    "                                            'Type Of Layers': gnn_type[0], \n",
    "                                            'Num of Layers': gnn_type[1], \n",
    "                                            'Validation': val, \n",
    "                                            'Test': test}"
   ]
  },
  {
   "cell_type": "code",
   "execution_count": null,
   "metadata": {},
   "outputs": [],
   "source": [
    "import pickle as pkl\n",
    "\n",
    "with open('euclidian_df.pkl', 'wb') as f:\n",
    "            pkl.dump(results, f)"
   ]
  }
 ],
 "metadata": {
  "kernelspec": {
   "display_name": "Python 3",
   "language": "python",
   "name": "python3"
  },
  "language_info": {
   "codemirror_mode": {
    "name": "ipython",
    "version": 3
   },
   "file_extension": ".py",
   "mimetype": "text/x-python",
   "name": "python",
   "nbconvert_exporter": "python",
   "pygments_lexer": "ipython3",
   "version": "3.8.19"
  }
 },
 "nbformat": 4,
 "nbformat_minor": 2
}
