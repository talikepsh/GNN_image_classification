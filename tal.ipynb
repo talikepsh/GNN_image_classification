{
 "cells": [
  {
   "cell_type": "code",
   "execution_count": 2,
   "metadata": {},
   "outputs": [],
   "source": [
    "import pandas as pd\n",
    "import torch\n",
    "import numpy as np\n",
    "from tqdm import tqdm"
   ]
  },
  {
   "cell_type": "code",
   "execution_count": null,
   "metadata": {},
   "outputs": [],
   "source": [
    "def mapping(data: pd.DataFrame):\n",
    "    node_id_mapping, inverse_node_id_mapping = dict(), dict()\n",
    "    for i, node_id in enumerate(data['nodeId']):\n",
    "        node_id_mapping[i] = node_id\n",
    "        inverse_node_id_mapping[node_id] = i\n",
    "    return node_id_mapping, inverse_node_id_mapping"
   ]
  },
  {
   "cell_type": "code",
   "execution_count": null,
   "metadata": {},
   "outputs": [],
   "source": [
    "def construct_nodes(data: pd.DataFrame):\n",
    "    return torch.from_numpy(np.array([[float(val) for val in feature_vector] for feature_vector in data['features']])).to(torch.float32)"
   ]
  },
  {
   "cell_type": "code",
   "execution_count": null,
   "metadata": {},
   "outputs": [],
   "source": [
    "def construct_edges(features: torch.tensor, threshold: float, method):\n",
    "    source, target = [], []\n",
    "    for i in tqdm(range(features.shape[0])):\n",
    "        for j in range(i + 1, features.shape[0]):\n",
    "            if method(features[i], features[j]) > threshold:\n",
    "                source.append(i)\n",
    "                target.append(j)\n",
    "    return torch.tensor([source, target])"
   ]
  },
  {
   "cell_type": "code",
   "execution_count": null,
   "metadata": {},
   "outputs": [],
   "source": [
    "def get_labels(data: pd.DataFrame, subject_mapping):\n",
    "    labels = data['label'].apply(lambda x: subject_mapping[x])\n",
    "    return torch.tensor(labels)"
   ]
  },
  {
   "cell_type": "code",
   "execution_count": null,
   "metadata": {},
   "outputs": [],
   "source": [
    "def cosine_similarity(x: torch.tensor, y: torch.tensor):\n",
    "    cos = torch.nn.CosineSimilarity(dim=1, eps=1e-6)\n",
    "    return cos(x,y)\n",
    "\n",
    "def city_block(x: torch.tensor, y: torch.tensor):\n",
    "    return torch.cdist(x, y, p=1)\n",
    "\n",
    "def euclidian(x: torch.tensor, y: torch.tensor):\n",
    "    return torch.cdist(x, y, p=2)"
   ]
  }
 ],
 "metadata": {
  "kernelspec": {
   "display_name": "Python 3",
   "language": "python",
   "name": "python3"
  },
  "language_info": {
   "codemirror_mode": {
    "name": "ipython",
    "version": 3
   },
   "file_extension": ".py",
   "mimetype": "text/x-python",
   "name": "python",
   "nbconvert_exporter": "python",
   "pygments_lexer": "ipython3",
   "version": "3.9.13"
  }
 },
 "nbformat": 4,
 "nbformat_minor": 2
}
