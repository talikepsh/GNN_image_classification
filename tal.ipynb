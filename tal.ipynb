{
 "cells": [
  {
   "cell_type": "code",
   "execution_count": 3,
   "metadata": {},
   "outputs": [
    {
     "data": {
      "text/plain": [
       "<torch_geometric.debug.set_debug at 0x1ba9733eac0>"
      ]
     },
     "execution_count": 3,
     "metadata": {},
     "output_type": "execute_result"
    }
   ],
   "source": [
    "import pandas as pd\n",
    "import torch\n",
    "import numpy as np\n",
    "from tqdm import tqdm\n",
    "from torch_geometric.nn import SAGEConv\n",
    "import torch\n",
    "import torch_geometric\n",
    "import torch.nn.functional as F\n",
    "torch_geometric.set_debug(True)"
   ]
  },
  {
   "cell_type": "markdown",
   "metadata": {},
   "source": [
    "# Helper Function to Construct the Graph"
   ]
  },
  {
   "cell_type": "code",
   "execution_count": 4,
   "metadata": {},
   "outputs": [],
   "source": [
    "def mapping(data: pd.DataFrame):\n",
    "    node_id_mapping, inverse_node_id_mapping = dict(), dict()\n",
    "    for i, node_id in enumerate(data['image_name']):\n",
    "        node_id_mapping[i] = node_id\n",
    "        inverse_node_id_mapping[node_id] = i\n",
    "    return node_id_mapping, inverse_node_id_mapping"
   ]
  },
  {
   "cell_type": "code",
   "execution_count": 5,
   "metadata": {},
   "outputs": [],
   "source": [
    "def construct_nodes(data: pd.DataFrame):\n",
    "    raw_features = data['embedding'].apply(lambda x: (' '.join(x.strip('[').strip(']').strip().split())).split(' '))\n",
    "    return torch.from_numpy(np.array([[float(val) for val in feature_vector] for feature_vector in raw_features])).to(torch.float32)"
   ]
  },
  {
   "cell_type": "code",
   "execution_count": 6,
   "metadata": {},
   "outputs": [],
   "source": [
    "def construct_edges(features: torch.tensor, threshold: float, method):\n",
    "    source, target = [], []\n",
    "    for i in tqdm(range(features.shape[0])):\n",
    "        for j in range(i + 1, features.shape[0]):\n",
    "            if method(features[i], features[j]) > threshold:\n",
    "                source.append(i)\n",
    "                target.append(j)\n",
    "                source.append(j)\n",
    "                target.append(i)\n",
    "    return torch.tensor([source, target])"
   ]
  },
  {
   "cell_type": "code",
   "execution_count": 7,
   "metadata": {},
   "outputs": [],
   "source": [
    "def get_labels(data: pd.DataFrame, subject_mapping):\n",
    "    labels = data['class_name'].apply(lambda x: subject_mapping[x])\n",
    "    return torch.tensor(labels)"
   ]
  },
  {
   "cell_type": "code",
   "execution_count": 8,
   "metadata": {},
   "outputs": [],
   "source": [
    "def cosine_similarity(x: torch.tensor, y: torch.tensor):\n",
    "    cos = torch.nn.CosineSimilarity(dim=-1, eps=1e-6)\n",
    "    return cos(x,y)\n",
    "\n",
    "def city_block(x: torch.tensor, y: torch.tensor):\n",
    "    return torch.cdist(x, y, p=1)\n",
    "\n",
    "def euclidian(x: torch.tensor, y: torch.tensor):\n",
    "    return torch.cdist(x, y, p=2)"
   ]
  },
  {
   "cell_type": "markdown",
   "metadata": {},
   "source": [
    "# Reading the Data and Exploring"
   ]
  },
  {
   "cell_type": "code",
   "execution_count": 289,
   "metadata": {},
   "outputs": [],
   "source": [
    "data = pd.read_csv('imagenet_embeddings.csv')"
   ]
  },
  {
   "cell_type": "code",
   "execution_count": 290,
   "metadata": {},
   "outputs": [
    {
     "data": {
      "text/plain": [
       "{'lion': 0, 'bear': 1, 'tarantula': 2, 'golden retriever': 3}"
      ]
     },
     "execution_count": 290,
     "metadata": {},
     "output_type": "execute_result"
    }
   ],
   "source": [
    "classes = data['class_name'].unique()\n",
    "subject_mapping = dict()\n",
    "reverse_subject_mapping = dict()\n",
    "for i, class_name in enumerate(classes):\n",
    "    subject_mapping[class_name] = i\n",
    "    reverse_subject_mapping[i] = class_name\n",
    "subject_mapping"
   ]
  },
  {
   "cell_type": "code",
   "execution_count": 291,
   "metadata": {},
   "outputs": [],
   "source": [
    "x = construct_nodes(data)\n",
    "y = get_labels(data, subject_mapping)"
   ]
  },
  {
   "cell_type": "code",
   "execution_count": 244,
   "metadata": {},
   "outputs": [],
   "source": [
    "def construct_matrix(matrix, method):\n",
    "    n = matrix.shape[0]\n",
    "    similarity_matrix = np.zeros((n, n))\n",
    "    for i in tqdm(range(n)):\n",
    "        for j in range(n):\n",
    "            similarity_matrix[i][j] = method(matrix[i], matrix[j])\n",
    "    return similarity_matrix"
   ]
  },
  {
   "cell_type": "code",
   "execution_count": 251,
   "metadata": {},
   "outputs": [],
   "source": [
    "from sklearn.metrics.pairwise import cosine_similarity\n",
    "similarities =  torch.cdist(x, x, p=2)"
   ]
  },
  {
   "cell_type": "code",
   "execution_count": 252,
   "metadata": {},
   "outputs": [],
   "source": [
    "def one_vs_rest(one_class: int, rest: np.array):\n",
    "    same_class = []\n",
    "    classes = [[], [], []]\n",
    "    for i in range(500):\n",
    "        same_class.append((sum(one_class[i]) - 1) / (len(one_class[i] - 1)))\n",
    "        for j in range(3):\n",
    "            rest_class = rest[i][j*500:(j+1)*500]\n",
    "            classes[j].append(sum(rest_class) / len(rest_class))\n",
    "    classes.append(same_class)\n",
    "    return classes"
   ]
  },
  {
   "cell_type": "code",
   "execution_count": 253,
   "metadata": {},
   "outputs": [
    {
     "name": "stderr",
     "output_type": "stream",
     "text": [
      "100%|██████████| 4/4 [00:31<00:00,  7.99s/it]\n"
     ]
    }
   ],
   "source": [
    "test = []\n",
    "for i in tqdm(range(4)):\n",
    "    relevant_indeces = list(range(i * 500, (i+1) * 500))\n",
    "    not_relevant = [k for k in range(2000) if k not in relevant_indeces] \n",
    "    one_class, rest = [], []\n",
    "    for i in range(2000):\n",
    "        if i in relevant_indeces:\n",
    "            one_class.append(similarities[i])\n",
    "        else:\n",
    "            rest.append(similarities[i])\n",
    "    test.append(one_vs_rest(one_class, rest))\n"
   ]
  },
  {
   "cell_type": "code",
   "execution_count": 254,
   "metadata": {},
   "outputs": [
    {
     "name": "stdout",
     "output_type": "stream",
     "text": [
      "lion 0.7963455 [0.7998037, 0.7788479, 0.8427239]\n",
      "bear 0.80841726 [0.7596558, 0.7998037, 0.82955945]\n",
      "tarantula 0.83079946 [0.7596558, 0.7998037, 0.82955945]\n",
      "golden retriever 0.80665183 [0.7596558, 0.7998037, 0.82955945]\n"
     ]
    }
   ],
   "source": [
    "# np.array(test[0][2]).mean()\n",
    "for class_num, scores in enumerate(test):\n",
    "    other_classes = []\n",
    "    for i in range(3):\n",
    "        other_classes.append(np.array(scores[i]).mean())\n",
    "    print(reverse_subject_mapping[class_num], np.array(scores[3]).mean(), other_classes)"
   ]
  },
  {
   "cell_type": "code",
   "execution_count": 259,
   "metadata": {},
   "outputs": [
    {
     "data": {
      "image/png": "[encoded data removed]",
      "text/plain": [
       "<Figure size 640x480 with 1 Axes>"
      ]
     },
     "metadata": {},
     "output_type": "display_data"
    }
   ],
   "source": [
    "import matplotlib.pyplot as plt\n",
    "\n",
    "plt.boxplot(test[0], positions=range(len(test[1])))\n",
    "plt.show()"
   ]
  },
  {
   "cell_type": "code",
   "execution_count": 292,
   "metadata": {},
   "outputs": [
    {
     "ename": "TypeError",
     "evalue": "'function' object is not subscriptable",
     "output_type": "error",
     "traceback": [
      "\u001b[1;31m---------------------------------------------------------------------------\u001b[0m",
      "\u001b[1;31mTypeError\u001b[0m                                 Traceback (most recent call last)",
      "Cell \u001b[1;32mIn[292], line 1\u001b[0m\n\u001b[1;32m----> 1\u001b[0m np\u001b[38;5;241m.\u001b[39mpercentile(\u001b[43mtest\u001b[49m\u001b[43m[\u001b[49m\u001b[38;5;241;43m3\u001b[39;49m\u001b[43m]\u001b[49m[\u001b[38;5;241m3\u001b[39m], [\u001b[38;5;241m10\u001b[39m, \u001b[38;5;241m50\u001b[39m, \u001b[38;5;241m90\u001b[39m])\n",
      "\u001b[1;31mTypeError\u001b[0m: 'function' object is not subscriptable"
     ]
    }
   ],
   "source": [
    "np.percentile(test[3][3], [10, 50, 90])"
   ]
  },
  {
   "cell_type": "code",
   "execution_count": 293,
   "metadata": {},
   "outputs": [
    {
     "name": "stderr",
     "output_type": "stream",
     "text": [
      "100%|██████████| 2000/2000 [00:59<00:00, 33.85it/s]\n"
     ]
    }
   ],
   "source": [
    "source, target = [], []\n",
    "for i in tqdm(range(similarities.shape[0])):\n",
    "    for j in range(similarities.shape[1]):\n",
    "        if 0.83 < similarities[i][j] and i != j:\n",
    "            source.append(i)\n",
    "            target.append(j)\n",
    "edges = torch.tensor([source, target])"
   ]
  },
  {
   "cell_type": "code",
   "execution_count": 294,
   "metadata": {},
   "outputs": [],
   "source": [
    "train_indeces = list(range(0,400)) + list(range(500,900)) + list(range(1000,1400)) + list(range(1500,1900))\n",
    "valid_indeces = list(range(400,450)) + list(range(900,950)) + list(range(1400,1450)) + list(range(1900,1950))\n",
    "test_indeces = list(range(450,500)) + list(range(950,1000)) + list(range(1450,1500)) + list(range(1950,2000))"
   ]
  },
  {
   "cell_type": "code",
   "execution_count": 295,
   "metadata": {},
   "outputs": [],
   "source": [
    "train_mask = torch.tensor([1 if i in train_indeces else 0 for i in range(x.shape[0])], dtype=torch.bool)\n",
    "valid_mask = torch.tensor([1 if i in valid_indeces else 0 for i in range(x.shape[0])], dtype=torch.bool)\n",
    "test_mask = torch.tensor([1 if i in test_indeces else 0 for i in range(x.shape[0])], dtype=torch.bool)"
   ]
  },
  {
   "cell_type": "code",
   "execution_count": 296,
   "metadata": {},
   "outputs": [],
   "source": [
    "from torch_geometric.data import Data\n",
    "\n",
    "data = Data(x=x, y=y, edge_index=edges, train_mask=train_mask, valid_mask=valid_mask, test_mask=test_mask)"
   ]
  },
  {
   "cell_type": "code",
   "execution_count": 297,
   "metadata": {},
   "outputs": [],
   "source": [
    "class GraphSAGE(torch.nn.Module):\n",
    "    def __init__(self, hidden_channels, output_dim, seed=1):\n",
    "        super().__init__()\n",
    "        torch.cuda.manual_seed(seed)\n",
    "        self.conv1 = SAGEConv((-1, -1), hidden_channels, normalize=True)\n",
    "        self.conv2 = SAGEConv((-1, -1), hidden_channels//2, normalize=True)\n",
    "        self.conv3 = SAGEConv((-1, -1), hidden_channels//4, normalize=True)\n",
    "        self.conv4 = SAGEConv((-1, -1), output_dim, normalize=True)\n",
    "\n",
    "    def forward(self, x, edge_index):\n",
    "        # TODO: Complete this function\n",
    "        x = self.conv1(x, edge_index)\n",
    "        x = self.conv2(x, edge_index)\n",
    "        # x = self.conv3(x, edge_index)\n",
    "        x = self.conv4(x, edge_index)\n",
    "        return F.log_softmax(x, dim=1)"
   ]
  },
  {
   "cell_type": "code",
   "execution_count": 41,
   "metadata": {},
   "outputs": [],
   "source": [
    "class GraphSAGE(torch.nn.Module):\n",
    "    def __init__(self, hidden_channels, output_dim, seed=1):\n",
    "        super().__init__()\n",
    "        torch.cuda.manual_seed(seed)\n",
    "        self.conv1 = SAGEConv((-1, -1), hidden_channels//2, aggr=\"mean\", normalize=True)\n",
    "        self.conv2 = SAGEConv((-1, -1), output_dim, aggr=\"mean\", normalize=True)\n",
    "\n",
    "    def forward(self, x, edge_index):\n",
    "        # TODO: Complete this function\n",
    "        x = F.relu(self.conv1(x, edge_index))\n",
    "        x = self.conv2(x, edge_index)\n",
    "        return F.log_softmax(x, dim=1)"
   ]
  },
  {
   "cell_type": "code",
   "execution_count": 298,
   "metadata": {},
   "outputs": [],
   "source": [
    "output_dim = len(subject_mapping)\n",
    "device = torch.device('cuda' if torch.cuda.is_available() else 'cpu')\n",
    "model = GraphSAGE(x.shape[1], output_dim).to(device)\n",
    "data = data.to(device)\n",
    "optimizer = torch.optim.Adam(model.parameters(), lr=0.0001, weight_decay=5e-4)\n"
   ]
  },
  {
   "cell_type": "code",
   "execution_count": 299,
   "metadata": {},
   "outputs": [],
   "source": [
    "def train():\n",
    "    # TODO: Complete this function\n",
    "    model.train()\n",
    "    optimizer.zero_grad()\n",
    "    F.nll_loss(model(data.x, data.edge_index)[train_mask], data.y[train_mask]).backward()\n",
    "    optimizer.step()"
   ]
  },
  {
   "cell_type": "code",
   "execution_count": 300,
   "metadata": {},
   "outputs": [],
   "source": [
    "def test():\n",
    "    model.eval()\n",
    "    logits = model(data.x, data.edge_index)\n",
    "    accs = []\n",
    "    for mask in [train_mask, valid_mask, test_mask]:\n",
    "        pred = logits[mask].max(1)[1]\n",
    "        acc = pred.eq(data.y[mask]).sum().item() / mask.sum().item()\n",
    "        accs.append(acc)\n",
    "    return accs"
   ]
  },
  {
   "cell_type": "code",
   "execution_count": 301,
   "metadata": {},
   "outputs": [
    {
     "name": "stderr",
     "output_type": "stream",
     "text": [
      " 10%|█         | 10/100 [01:11<10:53,  7.26s/it]"
     ]
    },
    {
     "name": "stdout",
     "output_type": "stream",
     "text": [
      "Epoch: 010, Val: 0.5500, Test: 0.5100\n"
     ]
    },
    {
     "name": "stderr",
     "output_type": "stream",
     "text": [
      " 20%|██        | 20/100 [02:24<09:36,  7.20s/it]"
     ]
    },
    {
     "name": "stdout",
     "output_type": "stream",
     "text": [
      "Epoch: 020, Val: 0.7550, Test: 0.7000\n"
     ]
    },
    {
     "name": "stderr",
     "output_type": "stream",
     "text": [
      " 30%|███       | 30/100 [03:36<08:27,  7.25s/it]"
     ]
    },
    {
     "name": "stdout",
     "output_type": "stream",
     "text": [
      "Epoch: 030, Val: 0.8050, Test: 0.7400\n"
     ]
    },
    {
     "name": "stderr",
     "output_type": "stream",
     "text": [
      " 40%|████      | 40/100 [04:49<07:12,  7.20s/it]"
     ]
    },
    {
     "name": "stdout",
     "output_type": "stream",
     "text": [
      "Epoch: 040, Val: 0.8550, Test: 0.8200\n"
     ]
    },
    {
     "name": "stderr",
     "output_type": "stream",
     "text": [
      " 50%|█████     | 50/100 [06:01<05:58,  7.16s/it]"
     ]
    },
    {
     "name": "stdout",
     "output_type": "stream",
     "text": [
      "Epoch: 050, Val: 0.8850, Test: 0.8500\n"
     ]
    },
    {
     "name": "stderr",
     "output_type": "stream",
     "text": [
      " 60%|██████    | 60/100 [07:13<04:48,  7.21s/it]"
     ]
    },
    {
     "name": "stdout",
     "output_type": "stream",
     "text": [
      "Epoch: 060, Val: 0.8850, Test: 0.8500\n"
     ]
    },
    {
     "name": "stderr",
     "output_type": "stream",
     "text": [
      " 70%|███████   | 70/100 [08:25<03:35,  7.19s/it]"
     ]
    },
    {
     "name": "stdout",
     "output_type": "stream",
     "text": [
      "Epoch: 070, Val: 0.9000, Test: 0.8800\n"
     ]
    },
    {
     "name": "stderr",
     "output_type": "stream",
     "text": [
      " 80%|████████  | 80/100 [09:38<02:30,  7.50s/it]"
     ]
    },
    {
     "name": "stdout",
     "output_type": "stream",
     "text": [
      "Epoch: 080, Val: 0.9000, Test: 0.8800\n"
     ]
    },
    {
     "name": "stderr",
     "output_type": "stream",
     "text": [
      " 90%|█████████ | 90/100 [10:51<01:12,  7.24s/it]"
     ]
    },
    {
     "name": "stdout",
     "output_type": "stream",
     "text": [
      "Epoch: 090, Val: 0.9000, Test: 0.8800\n"
     ]
    },
    {
     "name": "stderr",
     "output_type": "stream",
     "text": [
      "100%|██████████| 100/100 [12:04<00:00,  7.25s/it]"
     ]
    },
    {
     "name": "stdout",
     "output_type": "stream",
     "text": [
      "Epoch: 100, Val: 0.9000, Test: 0.8800\n"
     ]
    },
    {
     "name": "stderr",
     "output_type": "stream",
     "text": [
      "\n"
     ]
    }
   ],
   "source": [
    "best_val_acc = test_acc = 0\n",
    "for epoch in tqdm(range(1,101)):\n",
    "    train()\n",
    "    _, val_acc, tmp_test_acc = test()\n",
    "    if val_acc > best_val_acc:\n",
    "        best_val_acc = val_acc\n",
    "        test_acc = tmp_test_acc\n",
    "    log = 'Epoch: {:03d}, Val: {:.4f}, Test: {:.4f}'\n",
    "    \n",
    "    if epoch % 10 == 0:\n",
    "        print(log.format(epoch, best_val_acc, test_acc))"
   ]
  },
  {
   "cell_type": "code",
   "execution_count": null,
   "metadata": {},
   "outputs": [],
   "source": []
  },
  {
   "cell_type": "code",
   "execution_count": null,
   "metadata": {},
   "outputs": [],
   "source": []
  }
 ],
 "metadata": {
  "kernelspec": {
   "display_name": "Python 3",
   "language": "python",
   "name": "python3"
  },
  "language_info": {
   "codemirror_mode": {
    "name": "ipython",
    "version": 3
   },
   "file_extension": ".py",
   "mimetype": "text/x-python",
   "name": "python",
   "nbconvert_exporter": "python",
   "pygments_lexer": "ipython3",
   "version": "3.8.19"
  }
 },
 "nbformat": 4,
 "nbformat_minor": 2
}
